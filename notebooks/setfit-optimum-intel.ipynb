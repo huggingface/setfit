{
    "cells": [
        {
            "cell_type": "markdown",
            "id": "76571396-8f54-40ed-9e81-6c7531e6eaee",
            "metadata": {
                "id": "76571396-8f54-40ed-9e81-6c7531e6eaee"
            },
            "source": [
                "# Accelerate SetFit Models with [`optimum-intel`](https://github.com/huggingface/optimum-intel)"
            ]
        },
        {
            "cell_type": "markdown",
            "id": "4733f283-4736-4d9d-854e-5582280b074d",
            "metadata": {},
            "source": [
                "In this notebook, we'll show how you can use the 🤗 `optimum-intel` package to speed up your SetFit models on **Intel CPUs**.\\\n",
                "In our experiments, we will be using a fine-tuned SetFit model based on `bge-small-en-v1.5` sentence transformer model and observe our performance increase."
            ]
        },
        {
            "cell_type": "markdown",
            "id": "d4099797-55d8-492a-94d4-4d815e72aeb8",
            "metadata": {},
            "source": [
                "#### Note\n",
                "To reproduce the maximum speeds reported in this notebook, please launch it locally, using `numactl`.\\\n",
                "`numactl` enables gaining better control on which resources you're running. It's best to run on a single socket (`-m 0`):\\\n",
                "`OMP_NUM_THREADS=<NUM_THREADS> numactl -C <CORES_RANGE> -m 0 jupyter notebook`\n",
                "\n",
                "For example, if cores 0-59 are available, set one thread per core and run like so:\\\n",
                "`OMP_NUM_THREADS=60 numactl -C 0-59 -m 0 jupyter notebook`"
            ]
        },
        {
            "cell_type": "markdown",
            "id": "2d874cea-d8d1-4fdf-b374-7772811fe7b7",
            "metadata": {},
            "source": [
                "### Requirements"
            ]
        },
        {
            "cell_type": "markdown",
            "id": "4bbde933-a2f1-4159-9b93-cfcf73f28c79",
            "metadata": {},
            "source": [
                "This notebook requires `Python 3.9+` and was tested using `Python 3.9`.\\\n",
                "To obtain the benefits of the optimizations, an Intel CPU is required.\\\n",
                "To run optimally using `numactl`, this notebook has to be launched locally (i.e. not in Colab)."
            ]
        },
        {
            "cell_type": "markdown",
            "id": "79bc2a85",
            "metadata": {},
            "source": [
                "### Setup\n",
                "Install packages required for the notebook:"
            ]
        },
        {
            "cell_type": "code",
            "execution_count": 1,
            "id": "839bd550",
            "metadata": {},
            "outputs": [],
            "source": [
                "!python -m pip install evaluate matplotlib -qqq"
            ]
        },
        {
            "cell_type": "markdown",
            "id": "43a31653",
            "metadata": {},
            "source": [
                "If you're running this notebook on Colab or some other cloud platform, you'll need to install the `setfit` library. Uncomment the following cell and run it:"
            ]
        },
        {
            "cell_type": "code",
            "execution_count": 2,
            "id": "e1e4e4c6",
            "metadata": {},
            "outputs": [],
            "source": [
                "# !python -m pip install setfit -qqq"
            ]
        },
        {
            "cell_type": "markdown",
            "id": "1f72d255-ab98-4cc3-878b-6a60e08ccf6d",
            "metadata": {},
            "source": [
                "## Install `optimum-intel`"
            ]
        },
        {
            "cell_type": "code",
            "execution_count": 3,
            "id": "e9466ee2-5791-45b4-b69d-33bb5a82f048",
            "metadata": {},
            "outputs": [],
            "source": [
                "!python -m pip install --upgrade-strategy eager optimum[neural-compressor] -qqq\n",
                "!python -m pip install intel-extension-for-pytorch -qqq"
            ]
        },
        {
            "cell_type": "markdown",
            "id": "2493cd04-812f-461b-bb26-9225d76c2774",
            "metadata": {},
            "source": [
                "## 1. Benchmark SetFit using PyTorch"
            ]
        },
        {
            "cell_type": "markdown",
            "id": "e6a090c0-a065-4b3f-b803-5e518c73299f",
            "metadata": {},
            "source": [
                "Define the infrastructure for conducting latency, throughput and accuracy benchmarks, as well as a plotting function for the results."
            ]
        },
        {
            "cell_type": "code",
            "execution_count": 1,
            "id": "55756fec-fc22-4590-84d7-2f3df37b9256",
            "metadata": {
                "id": "55756fec-fc22-4590-84d7-2f3df37b9256"
            },
            "outputs": [],
            "source": [
                "from pathlib import Path\n",
                "from time import perf_counter\n",
                "import os\n",
                "import warnings\n",
                "import subprocess\n",
                "import sys\n",
                "from collections import defaultdict\n",
                "\n",
                "import evaluate\n",
                "import numpy as np\n",
                "import torch\n",
                "from torch.utils.data import DataLoader\n",
                "import matplotlib.pyplot as plt\n",
                "import pandas as pd\n",
                "from tqdm.auto import tqdm\n",
                "\n",
                "warnings.filterwarnings(\"ignore\")\n",
                "os.environ[\"TOKENIZERS_PARALLELISM\"] = \"false\"\n",
                "\n",
                "def get_dir_size(path):\n",
                "    ps = subprocess.Popen(('du','-hk', path), stdout=subprocess.PIPE)\n",
                "    output = subprocess.check_output((\"awk\", \"{print $1/1024,$2}\"), stdin=ps.stdout)\n",
                "    ps.wait()\n",
                "    return float(output.split()[0].decode('utf-8'))\n",
                "\n",
                "BATCH_SIZES = [4, 16, 64, 1024, 2048, 8192]\n",
                "\n",
                "class PerformanceBenchmark:\n",
                "    def __init__(self, model, dataset, optim_type, batch_sizes, metric=\"accuracy\", model_path=None):\n",
                "        self.model = model\n",
                "        self.dataset = dataset\n",
                "        self.optim_type = optim_type\n",
                "        self.enable_autocast = 'optimum' in self.optim_type.lower()\n",
                "        self.metric = evaluate.load(metric)\n",
                "        self.model_path = model_path\n",
                "        self.batch_sizes = batch_sizes\n",
                "        \n",
                "    def compute_accuracy(self):\n",
                "        with torch.cpu.amp.autocast(enabled=self.enable_autocast):\n",
                "            preds = self.model.predict(self.dataset[\"text\"])\n",
                "        labels = self.dataset[\"label\"]\n",
                "        accuracy = self.metric.compute(predictions=preds, references=labels)\n",
                "        print(f\"Accuracy on test set - {accuracy['accuracy']:.3f}\")\n",
                "        return accuracy\n",
                "\n",
                "    def compute_size(self):\n",
                "        if self.model_path is None:\n",
                "            state_dict = self.model.model_body.state_dict()\n",
                "            tmp_path = Path(\"model.pt\")\n",
                "            torch.save(state_dict, tmp_path)\n",
                "            size_mb = get_dir_size(tmp_path)\n",
                "            # Delete temporary file\n",
                "            tmp_path.unlink()\n",
                "        else:\n",
                "            size_mb = get_dir_size(self.model_path)\n",
                "        print(f\"Model size (MB) - {size_mb:.2f}\")\n",
                "        return {\"size_mb\": size_mb}\n",
                "\n",
                "    def compute_latency(self, query=\"that loves its characters and communicates something rather beautiful about human nature\"):\n",
                "        latencies = []\n",
                "        # Warmup\n",
                "        for _ in range(10):\n",
                "            with torch.no_grad(), torch.cpu.amp.autocast(enabled=self.enable_autocast):\n",
                "                _ = self.model([query])\n",
                "        # Timed run\n",
                "        for _ in range(200):\n",
                "            start_time = perf_counter()\n",
                "            with torch.no_grad(), torch.cpu.amp.autocast(enabled=self.enable_autocast):\n",
                "                _ = self.model([query])\n",
                "            latency = perf_counter() - start_time\n",
                "            latencies.append(latency)\n",
                "        # Compute run statistics\n",
                "        time_avg_ms = 1000 * np.mean(latencies)\n",
                "        time_std_ms = 1000 * np.std(latencies)\n",
                "        print(rf\"Average latency (ms) - {time_avg_ms:.2f} +\\- {time_std_ms:.2f}\")\n",
                "        return {\"time_avg_ms\": time_avg_ms, \"time_std_ms\": time_std_ms}\n",
                "\n",
                "    def compute_throughput(self):\n",
                "        # Replicate the dataset examples to accomodate largest batch size\n",
                "        num_iters = 5\n",
                "        replications = int((max(self.batch_sizes) * (num_iters + 1)) / len(self.dataset))\n",
                "        replicated_ds = (self.dataset[\"text\"] * replications)[:max(self.batch_sizes) * num_iters]\n",
                "\n",
                "        res = defaultdict(list)\n",
                "        res[\"batch_sizes\"] = self.batch_sizes\n",
                "        \n",
                "        for batch_size in self.batch_sizes:\n",
                "            throughputs = []\n",
                "            # Warmup\n",
                "            dataloader = iter(DataLoader(replicated_ds, batch_size=batch_size))\n",
                "            for _ in range(5):\n",
                "                with torch.no_grad(), torch.cpu.amp.autocast(enabled=self.enable_autocast):\n",
                "                    self.model(next(dataloader))\n",
                "            # Timed run\n",
                "            dataloader = iter(DataLoader(replicated_ds, batch_size=batch_size))\n",
                "            num_loops = int(num_iters * (max(self.batch_sizes) / batch_size))\n",
                "            for _ in tqdm(range(num_loops), file=sys.stdout):\n",
                "                start_time = perf_counter()\n",
                "                with torch.no_grad(), torch.cpu.amp.autocast(enabled=self.enable_autocast):\n",
                "                    self.model(next(dataloader))\n",
                "                total_time =  perf_counter() - start_time\n",
                "                throughputs.append(batch_size / total_time)\n",
                "            # Compute run statistics\n",
                "            res[\"throughputs_avg\"].append(np.mean(throughputs))\n",
                "            res[\"throughputs_std\"].append(np.std(throughputs))\n",
                "            print(rf\"Average throughput, {batch_size=} (samples/sec): {res['throughputs_avg'][-1]:.2f} +\\- {res['throughputs_std'][-1]:.2f}\")\n",
                "        return res\n",
                "        \n",
                "    def run_benchmark(self):\n",
                "        all_metrics = {}\n",
                "        for run_metric in self.compute_size, self.compute_accuracy, self.compute_latency, self.compute_throughput:\n",
                "            all_metrics |= run_metric()\n",
                "        return {self.optim_type: all_metrics}\n",
                "        \n",
                "\n",
                "def plot_metrics(perf_metrics):\n",
                "    df = pd.DataFrame.from_dict(perf_metrics, orient=\"index\")\n",
                "    plt.figure(figsize=(6, 4), dpi=100)\n",
                "    for idx in df.index:\n",
                "        df_opt = df.loc[idx]\n",
                "        plt.errorbar(\n",
                "            df_opt[\"time_avg_ms\"],\n",
                "            df_opt[\"accuracy\"] * 100,\n",
                "            xerr=df_opt[\"time_std_ms\"],\n",
                "            fmt=\"o\",\n",
                "            alpha=0.5,\n",
                "            ms=df_opt[\"size_mb\"] / 15,\n",
                "            label=idx,\n",
                "            capsize=5,\n",
                "            capthick=1,\n",
                "        )\n",
                "    legend = plt.legend(loc=\"lower right\")\n",
                "    plt.ylim(63, 95)\n",
                "    # Use the slowest model to define the x-axis range\n",
                "    xlim = max([metrics[\"time_avg_ms\"] for metrics in perf_metrics.values()]) * 1.3\n",
                "    plt.xlim(0, xlim)\n",
                "    plt.ylabel(\"Accuracy (%)\")\n",
                "    plt.xlabel(\"Average latency with batch_size=1 (ms)\")\n",
                "    plt.show()"
            ]
        },
        {
            "cell_type": "markdown",
            "id": "d159ea96-f604-478c-b6a2-bf4cc5c57a5a",
            "metadata": {},
            "source": [
                "Load the dataset for running evaluations:"
            ]
        },
        {
            "cell_type": "code",
            "execution_count": 2,
            "id": "867a9450-d8f0-4697-b3b4-a5ddf6b04906",
            "metadata": {},
            "outputs": [],
            "source": [
                "from datasets import Dataset, load_dataset\n",
                "test_dataset = load_dataset(\"SetFit/sst2\")[\"validation\"]"
            ]
        },
        {
            "cell_type": "markdown",
            "id": "b24b47c9-7076-4510-8c1e-5c17445bae34",
            "metadata": {},
            "source": [
                "Run the benchmark with the standard PyTorch backend:"
            ]
        },
        {
            "cell_type": "code",
            "execution_count": 3,
            "id": "u-w99Y2qW4lU",
            "metadata": {
                "colab": {
                    "base_uri": "https://localhost:8080/"
                },
                "id": "u-w99Y2qW4lU",
                "outputId": "57f0b8f7-6dad-4e90-c779-658a7de6e960"
            },
            "outputs": [
                {
                    "name": "stdout",
                    "output_type": "stream",
                    "text": [
                        "Model size (MB) - 127.32\n",
                        "Accuracy on test set - 0.906\n",
                        "Average latency (ms) - 8.61 +\\- 0.11\n"
                    ]
                },
                {
                    "data": {
                        "application/vnd.jupyter.widget-view+json": {
                            "model_id": "5713c38ebac14621ac85927b085c0c4e",
                            "version_major": 2,
                            "version_minor": 0
                        },
                        "text/plain": [
                            "  0%|          | 0/10240 [00:00<?, ?it/s]"
                        ]
                    },
                    "metadata": {},
                    "output_type": "display_data"
                },
                {
                    "name": "stdout",
                    "output_type": "stream",
                    "text": [
                        "Average throughput, batch_size=4 (samples/sec): 340.80 +\\- 33.19\n"
                    ]
                },
                {
                    "data": {
                        "application/vnd.jupyter.widget-view+json": {
                            "model_id": "94762ad3a17b4cc2a8a4ca1f4e15992a",
                            "version_major": 2,
                            "version_minor": 0
                        },
                        "text/plain": [
                            "  0%|          | 0/2560 [00:00<?, ?it/s]"
                        ]
                    },
                    "metadata": {},
                    "output_type": "display_data"
                },
                {
                    "name": "stdout",
                    "output_type": "stream",
                    "text": [
                        "Average throughput, batch_size=16 (samples/sec): 814.87 +\\- 35.29\n"
                    ]
                },
                {
                    "data": {
                        "application/vnd.jupyter.widget-view+json": {
                            "model_id": "20599b3d62fc46bd9783c966b549329f",
                            "version_major": 2,
                            "version_minor": 0
                        },
                        "text/plain": [
                            "  0%|          | 0/640 [00:00<?, ?it/s]"
                        ]
                    },
                    "metadata": {},
                    "output_type": "display_data"
                },
                {
                    "name": "stdout",
                    "output_type": "stream",
                    "text": [
                        "Average throughput, batch_size=64 (samples/sec): 586.09 +\\- 73.87\n"
                    ]
                },
                {
                    "data": {
                        "application/vnd.jupyter.widget-view+json": {
                            "model_id": "cf4ac47e4b6a43359cd172bedaf8c445",
                            "version_major": 2,
                            "version_minor": 0
                        },
                        "text/plain": [
                            "  0%|          | 0/40 [00:00<?, ?it/s]"
                        ]
                    },
                    "metadata": {},
                    "output_type": "display_data"
                },
                {
                    "name": "stdout",
                    "output_type": "stream",
                    "text": [
                        "Average throughput, batch_size=1024 (samples/sec): 1203.58 +\\- 140.53\n"
                    ]
                },
                {
                    "data": {
                        "application/vnd.jupyter.widget-view+json": {
                            "model_id": "d4d7a570f7514a428c52301475a78ea0",
                            "version_major": 2,
                            "version_minor": 0
                        },
                        "text/plain": [
                            "  0%|          | 0/20 [00:00<?, ?it/s]"
                        ]
                    },
                    "metadata": {},
                    "output_type": "display_data"
                },
                {
                    "name": "stdout",
                    "output_type": "stream",
                    "text": [
                        "Average throughput, batch_size=2048 (samples/sec): 1332.59 +\\- 97.15\n"
                    ]
                },
                {
                    "data": {
                        "application/vnd.jupyter.widget-view+json": {
                            "model_id": "e754a83f68f24dbcab9dea35a99ca955",
                            "version_major": 2,
                            "version_minor": 0
                        },
                        "text/plain": [
                            "  0%|          | 0/5 [00:00<?, ?it/s]"
                        ]
                    },
                    "metadata": {},
                    "output_type": "display_data"
                },
                {
                    "name": "stdout",
                    "output_type": "stream",
                    "text": [
                        "Average throughput, batch_size=8192 (samples/sec): 1472.17 +\\- 46.51\n"
                    ]
                }
            ],
            "source": [
                "from setfit import SetFitModel\n",
                "\n",
                "small_model = SetFitModel.from_pretrained(\"moshew/bge-small-en-v1.5_setfit-sst2-english\")\n",
                "pb = PerformanceBenchmark(small_model, test_dataset, \"bge-small (PyTorch)\", batch_sizes=BATCH_SIZES)\n",
                "perf_metrics = pb.run_benchmark()"
            ]
        },
        {
            "cell_type": "markdown",
            "id": "AiPUhOCNWRny",
            "metadata": {
                "id": "AiPUhOCNWRny"
            },
            "source": [
                "## 2. Optimizing with [`optimum-intel`](https://github.com/huggingface/optimum-intel)"
            ]
        },
        {
            "cell_type": "markdown",
            "id": "0e60d191-db3b-49a3-a281-34ae9063cb25",
            "metadata": {},
            "source": [
                "🤗 Optimum Intel is the interface between the 🤗 Transformers and Diffusers libraries and the different tools and libraries provided by Intel to accelerate end-to-end pipelines on Intel architectures.\n",
                "\n",
                "In order to optimize our SetFit model, we'll use Intel [Neural Compressor](https://www.intel.com/content/www/us/en/developer/tools/oneapi/neural-compressor.html) (`INC`), part of `optimum-intel`. \n",
                "We'll use INC to quantize the model body. This will compress the model size and result in faster inference. "
            ]
        },
        {
            "cell_type": "markdown",
            "id": "6e0557f9-8193-4059-8056-bfc50c00deef",
            "metadata": {},
            "source": [
                "First, let's load the Qasper calibration dataset which we'll use for the quantization process:"
            ]
        },
        {
            "cell_type": "code",
            "execution_count": 4,
            "id": "5f8466be-f28d-4303-8511-15798806a18b",
            "metadata": {},
            "outputs": [],
            "source": [
                "import random\n",
                "\n",
                "def load_qasper_calibration_set(sample_size) -> Dataset:\n",
                "    train_set = load_dataset(\"allenai/qasper\")[\"train\"]\n",
                "    random.seed(666)\n",
                "    random_samples = random.sample(range(len(train_set)), sample_size)\n",
                "    random_queries = [random.sample(train_set[x][\"qas\"][\"question\"], 1)[0] for x in random_samples]\n",
                "    random_abstracts = [train_set[x][\"abstract\"] for x in random_samples]\n",
                "    samples = random.sample(random_queries + random_abstracts, sample_size)\n",
                "    random.shuffle(samples)\n",
                "    def gen():\n",
                "        for s in samples:\n",
                "            yield {\"text\": s}\n",
                "    return Dataset.from_generator(gen)"
            ]
        },
        {
            "cell_type": "markdown",
            "id": "4b90c6ba-8f6e-4899-b404-ecebc0f7a78a",
            "metadata": {},
            "source": [
                "Define the desired quantization process using `optimum.intel`:"
            ]
        },
        {
            "cell_type": "code",
            "execution_count": 5,
            "id": "5a7739dc-2a56-4960-8f56-7f3f74991fea",
            "metadata": {
                "scrolled": true
            },
            "outputs": [],
            "source": [
                "import optimum.intel\n",
                "from neural_compressor.config import PostTrainingQuantConfig\n",
                "from transformers import AutoModel, AutoTokenizer\n",
                "\n",
                "def quantize(model_name, output_path, calibration_set):\n",
                "    model = AutoModel.from_pretrained(model_name)\n",
                "    tokenizer = AutoTokenizer.from_pretrained(model_name)\n",
                "\n",
                "    def preprocess_function(examples):\n",
                "        return tokenizer(examples[\"text\"], padding=\"max_length\", max_length=512, truncation=True)\n",
                "\n",
                "    vectorized_ds = calibration_set.map(preprocess_function, num_proc=10)\n",
                "    vectorized_ds = vectorized_ds.remove_columns([\"text\"])\n",
                "\n",
                "    quantizer = optimum.intel.INCQuantizer.from_pretrained(model)\n",
                "    quantization_config = PostTrainingQuantConfig(approach=\"static\", backend=\"ipex\", domain=\"nlp\")\n",
                "    quantizer.quantize(\n",
                "        quantization_config=quantization_config,\n",
                "        calibration_dataset=vectorized_ds,\n",
                "        save_directory=output_path,\n",
                "        batch_size=1,\n",
                "    )\n",
                "    tokenizer.save_pretrained(output_path)\n",
                "    \n",
                "model_name = \"moshew/bge-small-en-v1.5_setfit-sst2-english\"\n",
                "calibration_set = load_qasper_calibration_set(sample_size=100)\n",
                "optimum_model_path = f\"/tmp/{model_name}_opt\""
            ]
        },
        {
            "cell_type": "markdown",
            "id": "06f935e3-d09a-4f44-87a0-f773b83e569a",
            "metadata": {},
            "source": [
                "Quantize our SetFit model using `optimum-intel` on 100 samples:"
            ]
        },
        {
            "cell_type": "code",
            "execution_count": 6,
            "id": "508125d2-7bc4-4a6a-9b9d-1243ac0ff002",
            "metadata": {},
            "outputs": [],
            "source": [
                "quantize(model_name, output_path=optimum_model_path, calibration_set=calibration_set)"
            ]
        },
        {
            "cell_type": "markdown",
            "id": "17e8071a",
            "metadata": {},
            "source": [
                "Define a SetFit model wrapper which replaces the standard model body with the optimized model body:"
            ]
        },
        {
            "cell_type": "code",
            "execution_count": 7,
            "id": "enaQpBF9WRn9",
            "metadata": {
                "id": "enaQpBF9WRn9"
            },
            "outputs": [],
            "source": [
                "from setfit.exporters.utils import mean_pooling\n",
                "\n",
                "class OptimumSetFitModel:\n",
                "    def __init__(self, inc_model, tokenizer, model_head):\n",
                "        self.optimum_model = inc_model\n",
                "        self.tokenizer = tokenizer\n",
                "        self.model_head = model_head\n",
                "\n",
                "    def predict(self, inputs):\n",
                "        encoded_inputs = self.tokenizer(\n",
                "            inputs, padding=True, truncation=True, return_tensors=\"pt\"\n",
                "        ).to(self.optimum_model.device)\n",
                "\n",
                "        outputs = self.optimum_model(**encoded_inputs)\n",
                "        embeddings = mean_pooling(\n",
                "            outputs[\"last_hidden_state\"], encoded_inputs[\"attention_mask\"]\n",
                "        )\n",
                "        return self.model_head.predict(embeddings.cpu())\n",
                "\n",
                "    def __call__(self, inputs):\n",
                "        return self.predict(inputs)"
            ]
        },
        {
            "cell_type": "markdown",
            "id": "ae70f73e",
            "metadata": {},
            "source": [
                "Load the optimized model and the test dataset, and perform some inference."
            ]
        },
        {
            "cell_type": "code",
            "execution_count": 8,
            "id": "qRviEk2WWRn9",
            "metadata": {
                "colab": {
                    "base_uri": "https://localhost:8080/"
                },
                "id": "qRviEk2WWRn9",
                "outputId": "33f010a8-376e-4f0c-b21b-97fe25bf1a81"
            },
            "outputs": [
                {
                    "name": "stderr",
                    "output_type": "stream",
                    "text": [
                        "INCConfig {\n",
                        "  \"distillation\": {},\n",
                        "  \"neural_compressor_version\": \"2.4.1\",\n",
                        "  \"optimum_version\": \"1.16.2\",\n",
                        "  \"pruning\": {},\n",
                        "  \"quantization\": {\n",
                        "    \"dataset_num_samples\": 100,\n",
                        "    \"is_static\": true\n",
                        "  },\n",
                        "  \"save_onnx_model\": false,\n",
                        "  \"torch_version\": \"2.1.2\",\n",
                        "  \"transformers_version\": \"4.37.2\"\n",
                        "}\n",
                        "\n",
                        "intel_extension_for_pytorch version is 2.1.100+cpu\n",
                        "2024-01-31 04:17:11,010 - sentence_transformers.SentenceTransformer - INFO - Load pretrained SentenceTransformer: moshew/bge-small-en-v1.5_setfit-sst2-english\n",
                        "2024-01-31 04:17:12,237 - sentence_transformers.SentenceTransformer - INFO - Use pytorch device_name: cpu\n"
                    ]
                },
                {
                    "data": {
                        "text/plain": [
                            "array([0, 0, 0, 0, 1, 1, 0, 1, 0, 1])"
                        ]
                    },
                    "execution_count": 8,
                    "metadata": {},
                    "output_type": "execute_result"
                }
            ],
            "source": [
                "tokenizer = AutoTokenizer.from_pretrained(optimum_model_path, model_max_length=512)\n",
                "optimum_model = optimum.intel.INCModel.from_pretrained(optimum_model_path)\n",
                "model = SetFitModel.from_pretrained(\"moshew/bge-small-en-v1.5_setfit-sst2-english\")\n",
                "optimum_setfit_model = OptimumSetFitModel(optimum_model, tokenizer, model.model_head)\n",
                "\n",
                "# Reload test dataset\n",
                "test_dataset = load_dataset(\"SetFit/sst2\")[\"validation\"]\n",
                "\n",
                "# Perform inference\n",
                "optimum_setfit_model(test_dataset[\"text\"][:10])"
            ]
        },
        {
            "cell_type": "markdown",
            "id": "72e7215f",
            "metadata": {},
            "source": [
                "Time to run the performance benchmark on our optimized SetFit model!"
            ]
        },
        {
            "cell_type": "code",
            "execution_count": 9,
            "id": "O8jpZ3gdWRn9",
            "metadata": {
                "colab": {
                    "base_uri": "https://localhost:8080/"
                },
                "id": "O8jpZ3gdWRn9",
                "outputId": "8d31c81a-67e4-4074-cf35-9f56d6dcdd20"
            },
            "outputs": [
                {
                    "name": "stdout",
                    "output_type": "stream",
                    "text": [
                        "Model size (MB) - 44.65\n",
                        "Accuracy on test set - 0.908\n",
                        "Average latency (ms) - 2.58 +\\- 0.07\n"
                    ]
                },
                {
                    "data": {
                        "application/vnd.jupyter.widget-view+json": {
                            "model_id": "8255a076c6ef4ffca9b4d9c1a72536f0",
                            "version_major": 2,
                            "version_minor": 0
                        },
                        "text/plain": [
                            "  0%|          | 0/10240 [00:00<?, ?it/s]"
                        ]
                    },
                    "metadata": {},
                    "output_type": "display_data"
                },
                {
                    "name": "stdout",
                    "output_type": "stream",
                    "text": [
                        "Average throughput, batch_size=4 (samples/sec): 1081.73 +\\- 98.14\n"
                    ]
                },
                {
                    "data": {
                        "application/vnd.jupyter.widget-view+json": {
                            "model_id": "300e5ec4c0ee4629aa799ec3ede42fc8",
                            "version_major": 2,
                            "version_minor": 0
                        },
                        "text/plain": [
                            "  0%|          | 0/2560 [00:00<?, ?it/s]"
                        ]
                    },
                    "metadata": {},
                    "output_type": "display_data"
                },
                {
                    "name": "stdout",
                    "output_type": "stream",
                    "text": [
                        "Average throughput, batch_size=16 (samples/sec): 2825.80 +\\- 343.84\n"
                    ]
                },
                {
                    "data": {
                        "application/vnd.jupyter.widget-view+json": {
                            "model_id": "f5151d02d4be4d37add825966dfa7932",
                            "version_major": 2,
                            "version_minor": 0
                        },
                        "text/plain": [
                            "  0%|          | 0/640 [00:00<?, ?it/s]"
                        ]
                    },
                    "metadata": {},
                    "output_type": "display_data"
                },
                {
                    "name": "stdout",
                    "output_type": "stream",
                    "text": [
                        "Average throughput, batch_size=64 (samples/sec): 2325.23 +\\- 575.31\n"
                    ]
                },
                {
                    "data": {
                        "application/vnd.jupyter.widget-view+json": {
                            "model_id": "e81e4c476ea348968c7d7af5e7fbdefa",
                            "version_major": 2,
                            "version_minor": 0
                        },
                        "text/plain": [
                            "  0%|          | 0/40 [00:00<?, ?it/s]"
                        ]
                    },
                    "metadata": {},
                    "output_type": "display_data"
                },
                {
                    "name": "stdout",
                    "output_type": "stream",
                    "text": [
                        "Average throughput, batch_size=1024 (samples/sec): 3335.24 +\\- 476.40\n"
                    ]
                },
                {
                    "data": {
                        "application/vnd.jupyter.widget-view+json": {
                            "model_id": "53c5e8e9e48a48c49aa06f44e4585f58",
                            "version_major": 2,
                            "version_minor": 0
                        },
                        "text/plain": [
                            "  0%|          | 0/20 [00:00<?, ?it/s]"
                        ]
                    },
                    "metadata": {},
                    "output_type": "display_data"
                },
                {
                    "name": "stdout",
                    "output_type": "stream",
                    "text": [
                        "Average throughput, batch_size=2048 (samples/sec): 4221.74 +\\- 313.04\n"
                    ]
                },
                {
                    "data": {
                        "application/vnd.jupyter.widget-view+json": {
                            "model_id": "b98ab3220c9e4a0084bcce1daa30046f",
                            "version_major": 2,
                            "version_minor": 0
                        },
                        "text/plain": [
                            "  0%|          | 0/5 [00:00<?, ?it/s]"
                        ]
                    },
                    "metadata": {},
                    "output_type": "display_data"
                },
                {
                    "name": "stdout",
                    "output_type": "stream",
                    "text": [
                        "Average throughput, batch_size=8192 (samples/sec): 5075.14 +\\- 551.78\n"
                    ]
                },
                {
                    "data": {
                        "image/png": "[encoded data removed]",
                        "text/plain": [
                            "<Figure size 600x400 with 1 Axes>"
                        ]
                    },
                    "metadata": {},
                    "output_type": "display_data"
                },
                {
                    "name": "stdout",
                    "output_type": "stream",
                    "text": [
                        "Latency speedup for 'bge-small (optimum-intel)': 3.34x\n"
                    ]
                }
            ],
            "source": [
                "pb = PerformanceBenchmark(\n",
                "    optimum_setfit_model,\n",
                "    test_dataset,\n",
                "    \"bge-small (optimum-intel)\",\n",
                "    batch_sizes=BATCH_SIZES,\n",
                "    model_path=optimum_model_path,\n",
                ")\n",
                "\n",
                "perf_metrics.update(pb.run_benchmark())\n",
                "plot_metrics(perf_metrics)\n",
                "\n",
                "speedup = perf_metrics['bge-small (PyTorch)']['time_avg_ms'] / perf_metrics['bge-small (optimum-intel)']['time_avg_ms']\n",
                "print(f\"Latency speedup for 'bge-small (optimum-intel)': {speedup:.2f}x\")"
            ]
        },
        {
            "cell_type": "markdown",
            "id": "48568c7b",
            "metadata": {},
            "source": [
                "#### After optimizing, inference is 3.34x faster than before, with no drop in accuracy!"
            ]
        },
        {
            "cell_type": "markdown",
            "id": "abd6872f-1765-48a5-beba-a989555b5461",
            "metadata": {},
            "source": [
                "### Throughput Speedup"
            ]
        },
        {
            "cell_type": "markdown",
            "id": "9e043497-89c0-44a7-b08f-1f8012cd9fba",
            "metadata": {},
            "source": [
                "Let's look now at the throughput, which is the number of samples the model can predict per second.\\\n",
                "We'll plot this value for our optimized and baseline models, as a function of the batch size."
            ]
        },
        {
            "cell_type": "code",
            "execution_count": 10,
            "id": "c701770a-d643-4f32-bd56-2574ba7dc691",
            "metadata": {},
            "outputs": [
                {
                    "data": {
                        "image/png": "[encoded data removed]",
                        "text/plain": [
                            "<Figure size 1200x480 with 1 Axes>"
                        ]
                    },
                    "metadata": {},
                    "output_type": "display_data"
                }
            ],
            "source": [
                "def plot_2_throughputs(perf_metrics):\n",
                "    xs = np.array(BATCH_SIZES)\n",
                "    plt.figure(figsize=(10, 4), dpi=120)\n",
                "    for (label, metric), color in zip(perf_metrics.items(), [\"darkorange\", \"blue\"]):\n",
                "        y_mean, y_std = np.array(metric[\"throughputs_avg\"]), np.array(metric[\"throughputs_std\"])\n",
                "        plt.plot(xs, y_mean, label=label, color=color, alpha=0.8)\n",
                "        plt.fill_between(xs, y_mean - y_std, y_mean + y_std, color=color, alpha=0.2)\n",
                "\n",
                "        for x, y in zip(xs, y_mean):\n",
                "            plt.text(x, y, f'{y:.1f}', ha='right', va='bottom', fontsize=7, color=\"black\")\n",
                "            \n",
                "    plt.xscale('log')\n",
                "    plt.xticks(BATCH_SIZES, BATCH_SIZES)\n",
                "    plt.xlabel('Batch Size (log scale)')\n",
                "    plt.ylabel('Samples/Second')\n",
                "    plt.title('Throughput vs Batch Size')\n",
                "    plt.legend()\n",
                "    plt.grid(True, linestyle='--', alpha=0.7)\n",
                "    plt.show()\n",
                "    \n",
                "plot_2_throughputs(perf_metrics)"
            ]
        },
        {
            "cell_type": "markdown",
            "id": "777c6ab3-0d71-453a-9af3-67f8947fa6ce",
            "metadata": {},
            "source": [
                "#### Similarly to the latency speedup, we can see that our optmization has resulted in 3x-4x throughput increase as well!"
            ]
        }
    ],
    "metadata": {
        "accelerator": "GPU",
        "colab": {
            "gpuType": "T4",
            "provenance": []
        },
        "kernelspec": {
            "display_name": "Python 3 (ipykernel)",
            "language": "python",
            "name": "python3"
        },
        "language_info": {
            "codemirror_mode": {
                "name": "ipython",
                "version": 3
            },
            "file_extension": ".py",
            "mimetype": "text/x-python",
            "name": "python",
            "nbconvert_exporter": "python",
            "pygments_lexer": "ipython3",
            "version": "3.9.18"
        },
        "vscode": {
            "interpreter": {
                "hash": "31f2aee4e71d21fbe5cf8b01ff0e069b9275f58929596ceb00d14d90e3e16cd6"
            }
        }
    },
    "nbformat": 4,
    "nbformat_minor": 5
}