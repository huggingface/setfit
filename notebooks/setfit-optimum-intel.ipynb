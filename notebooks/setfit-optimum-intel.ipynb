{
 "cells": [
  {
   "cell_type": "markdown",
   "id": "76571396-8f54-40ed-9e81-6c7531e6eaee",
   "metadata": {
    "id": "76571396-8f54-40ed-9e81-6c7531e6eaee"
   },
   "source": [
    "# Efficiently Run SetFit Models with [`optimum-intel`](https://github.com/huggingface/optimum-intel)"
   ]
  },
  {
   "cell_type": "code",
   "execution_count": 8,
   "id": "ead5bfb5",
   "metadata": {},
   "outputs": [],
   "source": [
    "# To reproduce this notebook's results, launch it using `numactl` to gain better control on which resources you're running. \n",
    "# It is best to run on a single socket (`-m 0`):\n",
    "\n",
    "# NUM_THREADS=<NUM_AVAILABLE_CORES>\n",
    "# OMP_NUM_THREADS=$NUM_THREADS numactl -C 0-\"$(($NUM_THREADS-1))\" -m 0 jupyter notebook"
   ]
  },
  {
   "cell_type": "markdown",
   "id": "79bc2a85",
   "metadata": {},
   "source": [
    "## Setup\n",
    "Install by running:"
   ]
  },
  {
   "cell_type": "code",
   "execution_count": 3,
   "id": "839bd550",
   "metadata": {},
   "outputs": [],
   "source": [
    "!python -m pip install evaluate matplotlib -qqq"
   ]
  },
  {
   "cell_type": "markdown",
   "id": "43a31653",
   "metadata": {},
   "source": [
    "If you're running this Notebook on Colab or some other cloud platform, you'll need to install the `setfit` library. Uncomment the following cell and run it:"
   ]
  },
  {
   "cell_type": "code",
   "execution_count": null,
   "id": "e1e4e4c6",
   "metadata": {},
   "outputs": [],
   "source": [
    "!python -m pip install setfit matplotlib -qqq"
   ]
  },
  {
   "cell_type": "markdown",
   "id": "1f72d255-ab98-4cc3-878b-6a60e08ccf6d",
   "metadata": {},
   "source": [
    "## Install `optimum-intel`"
   ]
  },
  {
   "cell_type": "code",
   "execution_count": 2,
   "id": "e9466ee2-5791-45b4-b69d-33bb5a82f048",
   "metadata": {},
   "outputs": [],
   "source": [
    "# !python -m pip install -U torch==2.1 --index-url https://download.pytorch.org/whl/cpu -qqq\n",
    "# !python -m pip install --upgrade-strategy eager optimum[neural-compressor] -qqq\n",
    "# !python -m pip install --upgrade-strategy eager intel-extension-for-pytorch -qqq"
   ]
  },
  {
   "cell_type": "markdown",
   "id": "2493cd04-812f-461b-bb26-9225d76c2774",
   "metadata": {},
   "source": [
    "## 1. Benchmark SetFit using PyTorch"
   ]
  },
  {
   "cell_type": "markdown",
   "id": "e6a090c0-a065-4b3f-b803-5e518c73299f",
   "metadata": {},
   "source": [
    "Define the infrastructure for conducting latency, throughput and accuracy benchmarks, as well as a plotting function for the results."
   ]
  },
  {
   "cell_type": "code",
   "execution_count": 1,
   "id": "55756fec-fc22-4590-84d7-2f3df37b9256",
   "metadata": {
    "id": "55756fec-fc22-4590-84d7-2f3df37b9256"
   },
   "outputs": [],
   "source": [
    "from pathlib import Path\n",
    "from time import perf_counter\n",
    "import os\n",
    "import warnings\n",
    "import subprocess\n",
    "import sys\n",
    "\n",
    "import evaluate\n",
    "import numpy as np\n",
    "import torch\n",
    "from torch.utils.data import DataLoader\n",
    "import matplotlib.pyplot as plt\n",
    "import pandas as pd\n",
    "from tqdm.auto import tqdm\n",
    "\n",
    "warnings.filterwarnings(\"ignore\")\n",
    "os.environ[\"TOKENIZERS_PARALLELISM\"] = \"false\"\n",
    "\n",
    "def get_dir_size(path):\n",
    "    ps = subprocess.Popen(('du','-hk', path), stdout=subprocess.PIPE)\n",
    "    output = subprocess.check_output((\"awk\", \"{print $1/1024,$2}\"), stdin=ps.stdout)\n",
    "    ps.wait()\n",
    "    return float(output.split()[0].decode('utf-8'))\n",
    "\n",
    "class PerformanceBenchmark:\n",
    "    def __init__(self, model, dataset, optim_type, metric=\"accuracy\", model_path=None):\n",
    "        self.model = model\n",
    "        self.dataset = dataset\n",
    "        self.optim_type = optim_type\n",
    "        self.enable_autocast = 'optimum' in self.optim_type.lower()\n",
    "        self.metric = evaluate.load(metric)\n",
    "        self.model_path = model_path\n",
    "        \n",
    "    def compute_accuracy(self):\n",
    "        with torch.cpu.amp.autocast(enabled=self.enable_autocast):\n",
    "            preds = self.model.predict(self.dataset[\"text\"])\n",
    "        labels = self.dataset[\"label\"]\n",
    "        accuracy = self.metric.compute(predictions=preds, references=labels)\n",
    "        print(f\"Accuracy on test set - {accuracy['accuracy']:.3f}\")\n",
    "        return accuracy\n",
    "\n",
    "    def compute_size(self):\n",
    "        if self.model_path is None:\n",
    "            state_dict = self.model.model_body.state_dict()\n",
    "            tmp_path = Path(\"model.pt\")\n",
    "            torch.save(state_dict, tmp_path)\n",
    "            size_mb = get_dir_size(tmp_path)\n",
    "            # Delete temporary file\n",
    "            tmp_path.unlink()\n",
    "        else:\n",
    "            size_mb = get_dir_size(self.model_path)\n",
    "        print(f\"Model size (MB) - {size_mb:.2f}\")\n",
    "        return {\"size_mb\": size_mb}\n",
    "\n",
    "    def compute_latency(self, query=\"that loves its characters and communicates something rather beautiful about human nature\"):\n",
    "        latencies = []\n",
    "        # Warmup\n",
    "        for _ in range(10):\n",
    "            with torch.no_grad(), torch.cpu.amp.autocast(enabled=self.enable_autocast):\n",
    "                _ = self.model([query])\n",
    "        # Timed run\n",
    "        for _ in range(200):\n",
    "            start_time = perf_counter()\n",
    "            with torch.no_grad(), torch.cpu.amp.autocast(enabled=self.enable_autocast):\n",
    "                _ = self.model([query])\n",
    "            latency = perf_counter() - start_time\n",
    "            latencies.append(latency)\n",
    "        # Compute run statistics\n",
    "        time_avg_ms = 1000 * np.mean(latencies)\n",
    "        time_std_ms = 1000 * np.std(latencies)\n",
    "        print(rf\"Average latency (ms) - {time_avg_ms:.2f} +\\- {time_std_ms:.2f}\")\n",
    "        return {\"time_avg_ms\": time_avg_ms, \"time_std_ms\": time_std_ms}\n",
    "\n",
    "    def compute_throughput(self, batch_sizes=[8, 16, 32, 64, 512, 8192]):\n",
    "        results = {}\n",
    "        num_iters = 5\n",
    "        replications = int((max(batch_sizes) * (num_iters + 1)) / len(self.dataset))\n",
    "        replicated_ds = (self.dataset[\"text\"] * replications)[:max(batch_sizes) * num_iters]\n",
    "\n",
    "        for batch_size in batch_sizes:\n",
    "            throughputs = []\n",
    "            # Warmup\n",
    "            dataloader = iter(DataLoader(replicated_ds, batch_size=batch_size))\n",
    "            for _ in range(10):\n",
    "                with torch.no_grad(), torch.cpu.amp.autocast(enabled=self.enable_autocast):\n",
    "                    self.model(next(dataloader))\n",
    "            # Timed run\n",
    "            dataloader = iter(DataLoader(replicated_ds, batch_size=batch_size))\n",
    "            num_loops = int(num_iters * (max(batch_sizes) / batch_size))\n",
    "            for _ in tqdm(range(num_loops), file=sys.stdout):\n",
    "                start_time = perf_counter()\n",
    "                with torch.no_grad(), torch.cpu.amp.autocast(enabled=self.enable_autocast):\n",
    "                    self.model(next(dataloader))\n",
    "                total_time =  perf_counter() - start_time\n",
    "                throughputs.append(batch_size / total_time)\n",
    "                \n",
    "            # Compute run statistics\n",
    "            avg_throughput = np.mean(throughputs)\n",
    "            std_throughput = np.std(throughputs)\n",
    "            print(rf\"Average throughput with {batch_size=} (samples/second): {avg_throughput:.2f} +\\- {std_throughput:.2f}\")\n",
    "            results[f\"throughput_avg_{batch_size}\"] = avg_throughput\n",
    "            results[f\"throughput_std_{batch_size}\"] = std_throughput\n",
    "        return results\n",
    "        \n",
    "    def run_benchmark(self):\n",
    "        all_metrics = {}\n",
    "        for run_metric in self.compute_size, self.compute_accuracy, self.compute_latency, self.compute_throughput:\n",
    "            all_metrics |= run_metric()\n",
    "        return {self.optim_type: all_metrics}\n",
    "        \n",
    "\n",
    "def plot_metrics(perf_metrics):\n",
    "    df = pd.DataFrame.from_dict(perf_metrics, orient=\"index\")\n",
    "\n",
    "    for idx in df.index:\n",
    "        df_opt = df.loc[idx]\n",
    "        plt.errorbar(\n",
    "            df_opt[\"time_avg_ms\"],\n",
    "            df_opt[\"accuracy\"] * 100,\n",
    "            xerr=df_opt[\"time_std_ms\"],\n",
    "            fmt=\"o\",\n",
    "            alpha=0.5,\n",
    "            ms=df_opt[\"size_mb\"] / 15,\n",
    "            label=idx,\n",
    "            capsize=5,\n",
    "            capthick=1,\n",
    "        )\n",
    "\n",
    "    legend = plt.legend(loc=\"lower right\")\n",
    "\n",
    "    plt.ylim(63, 95)\n",
    "    # Use the slowest model to define the x-axis range\n",
    "    xlim = max([metrics[\"time_avg_ms\"] for metrics in perf_metrics.values()]) * 1.3\n",
    "    plt.xlim(0, xlim)\n",
    "    plt.ylabel(\"Accuracy (%)\")\n",
    "    plt.xlabel(\"Average latency with batch_size=1 (ms)\")\n",
    "    plt.show()"
   ]
  },
  {
   "cell_type": "markdown",
   "id": "d159ea96-f604-478c-b6a2-bf4cc5c57a5a",
   "metadata": {},
   "source": [
    "Load the dataset for running evaluations:"
   ]
  },
  {
   "cell_type": "code",
   "execution_count": 2,
   "id": "867a9450-d8f0-4697-b3b4-a5ddf6b04906",
   "metadata": {},
   "outputs": [],
   "source": [
    "from datasets import load_dataset\n",
    "test_dataset = load_dataset(\"SetFit/sst2\")[\"validation\"]"
   ]
  },
  {
   "cell_type": "markdown",
   "id": "b24b47c9-7076-4510-8c1e-5c17445bae34",
   "metadata": {},
   "source": [
    "Run the benchmark with the standard PyTorch backend:"
   ]
  },
  {
   "cell_type": "code",
   "execution_count": 3,
   "id": "u-w99Y2qW4lU",
   "metadata": {
    "colab": {
     "base_uri": "https://localhost:8080/"
    },
    "id": "u-w99Y2qW4lU",
    "outputId": "57f0b8f7-6dad-4e90-c779-658a7de6e960"
   },
   "outputs": [
    {
     "name": "stdout",
     "output_type": "stream",
     "text": [
      "Model size (MB) - 127.32\n",
      "Accuracy on test set - 0.906\n",
      "Average latency (ms) - 8.57 +\\- 0.11\n"
     ]
    },
    {
     "data": {
      "application/vnd.jupyter.widget-view+json": {
       "model_id": "f7aea01affc54cdcad1b9c34927b83ca",
       "version_major": 2,
       "version_minor": 0
      },
      "text/plain": [
       "  0%|          | 0/5120 [00:00<?, ?it/s]"
      ]
     },
     "metadata": {},
     "output_type": "display_data"
    },
    {
     "name": "stdout",
     "output_type": "stream",
     "text": [
      "Average throughput with batch_size=8 (samples/second): 492.43 +\\- 50.03\n"
     ]
    },
    {
     "data": {
      "application/vnd.jupyter.widget-view+json": {
       "model_id": "77b281db645944398bdbc0a64b6cb96c",
       "version_major": 2,
       "version_minor": 0
      },
      "text/plain": [
       "  0%|          | 0/2560 [00:00<?, ?it/s]"
      ]
     },
     "metadata": {},
     "output_type": "display_data"
    },
    {
     "name": "stdout",
     "output_type": "stream",
     "text": [
      "Average throughput with batch_size=16 (samples/second): 803.24 +\\- 42.44\n"
     ]
    },
    {
     "data": {
      "application/vnd.jupyter.widget-view+json": {
       "model_id": "4c41b3f86634428d933579b7544a0891",
       "version_major": 2,
       "version_minor": 0
      },
      "text/plain": [
       "  0%|          | 0/1280 [00:00<?, ?it/s]"
      ]
     },
     "metadata": {},
     "output_type": "display_data"
    },
    {
     "name": "stdout",
     "output_type": "stream",
     "text": [
      "Average throughput with batch_size=32 (samples/second): 620.06 +\\- 50.17\n"
     ]
    },
    {
     "data": {
      "application/vnd.jupyter.widget-view+json": {
       "model_id": "dd82707e2d9243af860f35db2675d151",
       "version_major": 2,
       "version_minor": 0
      },
      "text/plain": [
       "  0%|          | 0/640 [00:00<?, ?it/s]"
      ]
     },
     "metadata": {},
     "output_type": "display_data"
    },
    {
     "name": "stdout",
     "output_type": "stream",
     "text": [
      "Average throughput with batch_size=64 (samples/second): 646.09 +\\- 61.91\n"
     ]
    },
    {
     "data": {
      "application/vnd.jupyter.widget-view+json": {
       "model_id": "c433cedb19d84fb4a124c35cafc5d7c5",
       "version_major": 2,
       "version_minor": 0
      },
      "text/plain": [
       "  0%|          | 0/80 [00:00<?, ?it/s]"
      ]
     },
     "metadata": {},
     "output_type": "display_data"
    },
    {
     "name": "stdout",
     "output_type": "stream",
     "text": [
      "Average throughput with batch_size=512 (samples/second): 902.37 +\\- 135.49\n"
     ]
    },
    {
     "data": {
      "application/vnd.jupyter.widget-view+json": {
       "model_id": "39b0f82133384b1db7dfb22464e514e4",
       "version_major": 2,
       "version_minor": 0
      },
      "text/plain": [
       "  0%|          | 0/5 [00:00<?, ?it/s]"
      ]
     },
     "metadata": {},
     "output_type": "display_data"
    },
    {
     "name": "stdout",
     "output_type": "stream",
     "text": [
      "Average throughput with batch_size=8192 (samples/second): 1497.44 +\\- 30.31\n"
     ]
    },
    {
     "data": {
      "image/png": "[encoded data removed]",
      "text/plain": [
       "<Figure size 640x480 with 1 Axes>"
      ]
     },
     "metadata": {},
     "output_type": "display_data"
    }
   ],
   "source": [
    "import json\n",
    "from setfit import SetFitModel\n",
    "\n",
    "small_model = SetFitModel.from_pretrained(\"moshew/bge-small-en-v1.5_setfit-sst2-english\")\n",
    "pb = PerformanceBenchmark(model=small_model, dataset=test_dataset, optim_type=\"bge-small (PyTorch)\")\n",
    "perf_metrics = pb.run_benchmark()\n",
    "\n",
    "# Save the benchmark results to file\n",
    "with open(\"baseline_metrics.json\", \"w\") as f:\n",
    "    json.dump(perf_metrics, f)\n",
    "plot_metrics(perf_metrics)"
   ]
  },
  {
   "cell_type": "markdown",
   "id": "AiPUhOCNWRny",
   "metadata": {
    "id": "AiPUhOCNWRny"
   },
   "source": [
    "## 2. Optimizing with [`optimum-intel`](https://github.com/huggingface/optimum-intel)"
   ]
  },
  {
   "cell_type": "markdown",
   "id": "0e60d191-db3b-49a3-a281-34ae9063cb25",
   "metadata": {},
   "source": [
    "🤗 Optimum Intel is the interface between the 🤗 Transformers and Diffusers libraries and the different tools and libraries provided by Intel to accelerate end-to-end pipelines on Intel architectures.\n",
    "\n",
    "In order to optimize our SetFit model, we'll use Intel [Neural Compressor](https://www.intel.com/content/www/us/en/developer/tools/oneapi/neural-compressor.html) (`INC`), part of `optimum-intel`. \n",
    "We'll use INC to quantize the model body. This will compress the model in size and result in faster inference. "
   ]
  },
  {
   "cell_type": "markdown",
   "id": "6e0557f9-8193-4059-8056-bfc50c00deef",
   "metadata": {},
   "source": [
    "First, let's load the Qasper calibration dataset which we'll use for the quantization process:"
   ]
  },
  {
   "cell_type": "code",
   "execution_count": 4,
   "id": "5f8466be-f28d-4303-8511-15798806a18b",
   "metadata": {},
   "outputs": [],
   "source": [
    "import random\n",
    "from datasets import Dataset, load_dataset\n",
    "\n",
    "def load_qasper_calibration_set(sample_size) -> Dataset:\n",
    "    train_set = load_dataset(\"allenai/qasper\")[\"train\"]\n",
    "    random.seed(666)\n",
    "    random_samples = random.sample(range(len(train_set)), sample_size)\n",
    "    random_queries = [random.sample(train_set[x][\"qas\"][\"question\"], 1)[0] for x in random_samples]\n",
    "    random_abstracts = [train_set[x][\"abstract\"] for x in random_samples]\n",
    "    samples = random.sample(random_queries + random_abstracts, sample_size)\n",
    "    random.shuffle(samples)\n",
    "    def gen():\n",
    "        for s in samples:\n",
    "            yield {\"text\": s}\n",
    "    return Dataset.from_generator(gen)"
   ]
  },
  {
   "cell_type": "markdown",
   "id": "4b90c6ba-8f6e-4899-b404-ecebc0f7a78a",
   "metadata": {},
   "source": [
    "Define the desired quantization process using `optimum.intel`:"
   ]
  },
  {
   "cell_type": "code",
   "execution_count": 5,
   "id": "5a7739dc-2a56-4960-8f56-7f3f74991fea",
   "metadata": {
    "scrolled": true
   },
   "outputs": [],
   "source": [
    "import warnings\n",
    "import os\n",
    "\n",
    "import optimum.intel\n",
    "from neural_compressor.config import PostTrainingQuantConfig\n",
    "from transformers import AutoModel, AutoTokenizer\n",
    "\n",
    "warnings.filterwarnings(\"ignore\")\n",
    "\n",
    "def quantize(model_name, output_path, calibration_set):\n",
    "    model = AutoModel.from_pretrained(model_name)\n",
    "    tokenizer = AutoTokenizer.from_pretrained(model_name)\n",
    "\n",
    "    def preprocess_function(examples):\n",
    "        return tokenizer(examples[\"text\"], padding=\"max_length\", max_length=512, truncation=True)\n",
    "\n",
    "    vectorized_ds = calibration_set.map(preprocess_function, num_proc=10)\n",
    "    vectorized_ds = vectorized_ds.remove_columns([\"text\"])\n",
    "\n",
    "    quantizer = optimum.intel.INCQuantizer.from_pretrained(model)\n",
    "    quantization_config = PostTrainingQuantConfig(approach=\"static\", backend=\"ipex\", domain=\"nlp\")\n",
    "    quantizer.quantize(\n",
    "        quantization_config=quantization_config,\n",
    "        calibration_dataset=vectorized_ds,\n",
    "        save_directory=output_path,\n",
    "        batch_size=1,\n",
    "    )\n",
    "    tokenizer.save_pretrained(output_path)\n",
    "    \n",
    "model_name = \"moshew/bge-small-en-v1.5_setfit-sst2-english\"\n",
    "calibration_set = load_qasper_calibration_set(sample_size=100)\n",
    "optimum_model_path = os.path.expanduser(f\"~/models/{model_name}_opt\")"
   ]
  },
  {
   "cell_type": "markdown",
   "id": "06f935e3-d09a-4f44-87a0-f773b83e569a",
   "metadata": {},
   "source": [
    "Quantize our SetFit model using `optimum-intel` on 100 samples:"
   ]
  },
  {
   "cell_type": "code",
   "execution_count": 6,
   "id": "508125d2-7bc4-4a6a-9b9d-1243ac0ff002",
   "metadata": {},
   "outputs": [
    {
     "name": "stderr",
     "output_type": "stream",
     "text": [
      "ONNX export is no supported for model with quantized embeddings\n",
      "2024-01-30 03:39:14 [INFO] Start auto tuning.\n",
      "2024-01-30 03:39:14 [INFO] Execute the tuning process due to detect the evaluation function.\n",
      "2024-01-30 03:39:14 [INFO] Adaptor has 5 recipes.\n",
      "2024-01-30 03:39:14 [INFO] 0 recipes specified by user.\n",
      "2024-01-30 03:39:14 [INFO] 3 recipes require future tuning.\n",
      "2024-01-30 03:39:15 [WARNING] Fail to remove /home/sdp/dkorat/setfit/notebooks/nc_workspace/2024-01-30_03-39-07/ipex_config_tmp.json.\n",
      "2024-01-30 03:39:15 [INFO] *** Initialize auto tuning\n",
      "2024-01-30 03:39:15 [INFO] {\n",
      "2024-01-30 03:39:15 [INFO]     'PostTrainingQuantConfig': {\n",
      "2024-01-30 03:39:15 [INFO]         'AccuracyCriterion': {\n",
      "2024-01-30 03:39:15 [INFO]             'criterion': 'relative',\n",
      "2024-01-30 03:39:15 [INFO]             'higher_is_better': True,\n",
      "2024-01-30 03:39:15 [INFO]             'tolerable_loss': 0.01,\n",
      "2024-01-30 03:39:15 [INFO]             'absolute': None,\n",
      "2024-01-30 03:39:15 [INFO]             'keys': <bound method AccuracyCriterion.keys of <neural_compressor.config.AccuracyCriterion object at 0x7fdd83bd40d0>>,\n",
      "2024-01-30 03:39:15 [INFO]             'relative': 0.01\n",
      "2024-01-30 03:39:15 [INFO]         },\n",
      "2024-01-30 03:39:15 [INFO]         'approach': 'post_training_static_quant',\n",
      "2024-01-30 03:39:15 [INFO]         'backend': 'ipex',\n",
      "2024-01-30 03:39:15 [INFO]         'calibration_sampling_size': [\n",
      "2024-01-30 03:39:15 [INFO]             100\n",
      "2024-01-30 03:39:15 [INFO]         ],\n",
      "2024-01-30 03:39:15 [INFO]         'device': 'cpu',\n",
      "2024-01-30 03:39:15 [INFO]         'diagnosis': False,\n",
      "2024-01-30 03:39:15 [INFO]         'domain': 'nlp',\n",
      "2024-01-30 03:39:15 [INFO]         'example_inputs': 'Not printed here due to large size tensors...',\n",
      "2024-01-30 03:39:15 [INFO]         'excluded_precisions': [\n",
      "2024-01-30 03:39:15 [INFO]         ],\n",
      "2024-01-30 03:39:15 [INFO]         'framework': 'pytorch_ipex',\n",
      "2024-01-30 03:39:15 [INFO]         'inputs': [\n",
      "2024-01-30 03:39:15 [INFO]         ],\n",
      "2024-01-30 03:39:15 [INFO]         'model_name': '',\n",
      "2024-01-30 03:39:15 [INFO]         'ni_workload_name': 'quantization',\n",
      "2024-01-30 03:39:15 [INFO]         'op_name_dict': None,\n",
      "2024-01-30 03:39:15 [INFO]         'op_type_dict': None,\n",
      "2024-01-30 03:39:15 [INFO]         'outputs': [\n",
      "2024-01-30 03:39:15 [INFO]         ],\n",
      "2024-01-30 03:39:15 [INFO]         'quant_format': 'default',\n",
      "2024-01-30 03:39:15 [INFO]         'quant_level': 'auto',\n",
      "2024-01-30 03:39:15 [INFO]         'recipes': {\n",
      "2024-01-30 03:39:15 [INFO]             'smooth_quant': False,\n",
      "2024-01-30 03:39:15 [INFO]             'smooth_quant_args': {\n",
      "2024-01-30 03:39:15 [INFO]             },\n",
      "2024-01-30 03:39:15 [INFO]             'layer_wise_quant': False,\n",
      "2024-01-30 03:39:15 [INFO]             'layer_wise_quant_args': {\n",
      "2024-01-30 03:39:15 [INFO]             },\n",
      "2024-01-30 03:39:15 [INFO]             'fast_bias_correction': False,\n",
      "2024-01-30 03:39:15 [INFO]             'weight_correction': False,\n",
      "2024-01-30 03:39:15 [INFO]             'gemm_to_matmul': True,\n",
      "2024-01-30 03:39:15 [INFO]             'graph_optimization_level': None,\n",
      "2024-01-30 03:39:15 [INFO]             'first_conv_or_matmul_quantization': True,\n",
      "2024-01-30 03:39:15 [INFO]             'last_conv_or_matmul_quantization': True,\n",
      "2024-01-30 03:39:15 [INFO]             'pre_post_process_quantization': True,\n",
      "2024-01-30 03:39:15 [INFO]             'add_qdq_pair_to_weight': False,\n",
      "2024-01-30 03:39:15 [INFO]             'optypes_to_exclude_output_quant': [\n",
      "2024-01-30 03:39:15 [INFO]             ],\n",
      "2024-01-30 03:39:15 [INFO]             'dedicated_qdq_pair': False,\n",
      "2024-01-30 03:39:15 [INFO]             'rtn_args': {\n",
      "2024-01-30 03:39:15 [INFO]             },\n",
      "2024-01-30 03:39:15 [INFO]             'awq_args': {\n",
      "2024-01-30 03:39:15 [INFO]             },\n",
      "2024-01-30 03:39:15 [INFO]             'gptq_args': {\n",
      "2024-01-30 03:39:15 [INFO]             },\n",
      "2024-01-30 03:39:15 [INFO]             'teq_args': {\n",
      "2024-01-30 03:39:15 [INFO]             }\n",
      "2024-01-30 03:39:15 [INFO]         },\n",
      "2024-01-30 03:39:15 [INFO]         'reduce_range': None,\n",
      "2024-01-30 03:39:15 [INFO]         'TuningCriterion': {\n",
      "2024-01-30 03:39:15 [INFO]             'max_trials': 100,\n",
      "2024-01-30 03:39:15 [INFO]             'objective': [\n",
      "2024-01-30 03:39:15 [INFO]                 'performance'\n",
      "2024-01-30 03:39:15 [INFO]             ],\n",
      "2024-01-30 03:39:15 [INFO]             'strategy': 'basic',\n",
      "2024-01-30 03:39:15 [INFO]             'strategy_kwargs': None,\n",
      "2024-01-30 03:39:15 [INFO]             'timeout': 0\n",
      "2024-01-30 03:39:15 [INFO]         },\n",
      "2024-01-30 03:39:15 [INFO]         'use_bf16': True\n",
      "2024-01-30 03:39:15 [INFO]     }\n",
      "2024-01-30 03:39:15 [INFO] }\n",
      "2024-01-30 03:39:15 [WARNING] [Strategy] Please install `mpi4py` correctly if using distributed tuning; otherwise, ignore this warning.\n",
      "2024-01-30 03:39:15 [INFO]  Found 12 blocks\n",
      "2024-01-30 03:39:15 [INFO] Attention Blocks: 12\n",
      "2024-01-30 03:39:15 [INFO] FFN Blocks: 12\n",
      "2024-01-30 03:39:16 [INFO] Attention Blocks : \n",
      "2024-01-30 03:39:16 [INFO] [['encoder.layer.0.attention.self.query', 'encoder.layer.0.attention.self.key', 'encoder.layer.0.attention.self.value', 'encoder.layer.0.attention.output.dense'], ['encoder.layer.1.attention.self.query', 'encoder.layer.1.attention.self.key', 'encoder.layer.1.attention.self.value', 'encoder.layer.1.attention.output.dense'], ['encoder.layer.2.attention.self.query', 'encoder.layer.2.attention.self.key', 'encoder.layer.2.attention.self.value', 'encoder.layer.2.attention.output.dense'], ['encoder.layer.3.attention.self.query', 'encoder.layer.3.attention.self.key', 'encoder.layer.3.attention.self.value', 'encoder.layer.3.attention.output.dense'], ['encoder.layer.4.attention.self.query', 'encoder.layer.4.attention.self.key', 'encoder.layer.4.attention.self.value', 'encoder.layer.4.attention.output.dense'], ['encoder.layer.5.attention.self.query', 'encoder.layer.5.attention.self.key', 'encoder.layer.5.attention.self.value', 'encoder.layer.5.attention.output.dense'], ['encoder.layer.6.attention.self.query', 'encoder.layer.6.attention.self.key', 'encoder.layer.6.attention.self.value', 'encoder.layer.6.attention.output.dense'], ['encoder.layer.7.attention.self.query', 'encoder.layer.7.attention.self.key', 'encoder.layer.7.attention.self.value', 'encoder.layer.7.attention.output.dense'], ['encoder.layer.8.attention.self.query', 'encoder.layer.8.attention.self.key', 'encoder.layer.8.attention.self.value', 'encoder.layer.8.attention.output.dense'], ['encoder.layer.9.attention.self.query', 'encoder.layer.9.attention.self.key', 'encoder.layer.9.attention.self.value', 'encoder.layer.9.attention.output.dense'], ['encoder.layer.10.attention.self.query', 'encoder.layer.10.attention.self.key', 'encoder.layer.10.attention.self.value', 'encoder.layer.10.attention.output.dense'], ['encoder.layer.11.attention.self.query', 'encoder.layer.11.attention.self.key', 'encoder.layer.11.attention.self.value', 'encoder.layer.11.attention.output.dense']]\n",
      "2024-01-30 03:39:16 [INFO] FFN Blocks : \n",
      "2024-01-30 03:39:16 [INFO] [['encoder.layer.0.intermediate.dense', 'encoder.layer.0.output.dense'], ['encoder.layer.1.intermediate.dense', 'encoder.layer.1.output.dense'], ['encoder.layer.2.intermediate.dense', 'encoder.layer.2.output.dense'], ['encoder.layer.3.intermediate.dense', 'encoder.layer.3.output.dense'], ['encoder.layer.4.intermediate.dense', 'encoder.layer.4.output.dense'], ['encoder.layer.5.intermediate.dense', 'encoder.layer.5.output.dense'], ['encoder.layer.6.intermediate.dense', 'encoder.layer.6.output.dense'], ['encoder.layer.7.intermediate.dense', 'encoder.layer.7.output.dense'], ['encoder.layer.8.intermediate.dense', 'encoder.layer.8.output.dense'], ['encoder.layer.9.intermediate.dense', 'encoder.layer.9.output.dense'], ['encoder.layer.10.intermediate.dense', 'encoder.layer.10.output.dense'], ['encoder.layer.11.intermediate.dense', 'encoder.layer.11.output.dense']]\n",
      "2024-01-30 03:39:16 [INFO] Pass query framework capability elapsed time: 519.98 ms\n",
      "2024-01-30 03:39:16 [INFO] Get FP32 model baseline.\n",
      "2024-01-30 03:39:16 [INFO] Save tuning history to /home/sdp/dkorat/setfit/notebooks/nc_workspace/2024-01-30_03-39-07/./history.snapshot.\n",
      "2024-01-30 03:39:16 [INFO] FP32 baseline is: [Accuracy: 1.0000, Duration (seconds): 0.0000]\n",
      "2024-01-30 03:39:16 [INFO] Quantize the model with default config.\n",
      "2024-01-30 03:39:25 [INFO] |******Mixed Precision Statistics******|\n",
      "2024-01-30 03:39:25 [INFO] +---------------+-----------+----------+\n",
      "2024-01-30 03:39:25 [INFO] |    Op Type    |   Total   |   INT8   |\n",
      "2024-01-30 03:39:25 [INFO] +---------------+-----------+----------+\n",
      "2024-01-30 03:39:25 [INFO] |     matmul    |     24    |    24    |\n",
      "2024-01-30 03:39:25 [INFO] |     Linear    |     25    |    25    |\n",
      "2024-01-30 03:39:25 [INFO] +---------------+-----------+----------+\n",
      "2024-01-30 03:39:25 [INFO] Pass quantize model elapsed time: 8966.81 ms\n",
      "2024-01-30 03:39:25 [INFO] Tune 1 result is: [Accuracy (int8|fp32): 1.0000|1.0000, Duration (seconds) (int8|fp32): 0.0000|0.0000], Best tune result is: [Accuracy: 1.0000, Duration (seconds): 0.0000]\n",
      "2024-01-30 03:39:25 [INFO] |**********************Tune Result Statistics**********************|\n",
      "2024-01-30 03:39:25 [INFO] +--------------------+----------+---------------+------------------+\n",
      "2024-01-30 03:39:25 [INFO] |     Info Type      | Baseline | Tune 1 result | Best tune result |\n",
      "2024-01-30 03:39:25 [INFO] +--------------------+----------+---------------+------------------+\n",
      "2024-01-30 03:39:25 [INFO] |      Accuracy      | 1.0000   |    1.0000     |     1.0000       |\n",
      "2024-01-30 03:39:25 [INFO] | Duration (seconds) | 0.0000   |    0.0000     |     0.0000       |\n",
      "2024-01-30 03:39:25 [INFO] +--------------------+----------+---------------+------------------+\n",
      "2024-01-30 03:39:25 [INFO] [Strategy] Found a model that meets the accuracy requirements.\n",
      "2024-01-30 03:39:25 [INFO] Save tuning history to /home/sdp/dkorat/setfit/notebooks/nc_workspace/2024-01-30_03-39-07/./history.snapshot.\n",
      "2024-01-30 03:39:25 [INFO] [Strategy] Found the model meets accuracy requirements, ending the tuning process.\n",
      "2024-01-30 03:39:25 [INFO] Specified timeout or max trials is reached! Found a quantized model which meet accuracy goal. Exit.\n",
      "2024-01-30 03:39:25 [INFO] Save deploy yaml to /home/sdp/dkorat/setfit/notebooks/nc_workspace/2024-01-30_03-39-07/deploy.yaml\n",
      "Model weights saved to /home/sdp/models/moshew/bge-small-en-v1.5_setfit-sst2-english_opt/pytorch_model.bin\n",
      "Configuration saved in /home/sdp/models/moshew/bge-small-en-v1.5_setfit-sst2-english_opt/inc_config.json\n"
     ]
    }
   ],
   "source": [
    "quantize(model_name, output_path=optimum_model_path, calibration_set=calibration_set)"
   ]
  },
  {
   "cell_type": "markdown",
   "id": "17e8071a",
   "metadata": {},
   "source": [
    "Define a SetFit model wrapper which replaces the standard model body with the optimized model body:"
   ]
  },
  {
   "cell_type": "code",
   "execution_count": 7,
   "id": "enaQpBF9WRn9",
   "metadata": {
    "id": "enaQpBF9WRn9"
   },
   "outputs": [],
   "source": [
    "from setfit.exporters.utils import mean_pooling\n",
    "\n",
    "class OptimumSetFitModel:\n",
    "    def __init__(self, inc_model, tokenizer, model_head):\n",
    "        self.optimum_model = inc_model\n",
    "        self.tokenizer = tokenizer\n",
    "        self.model_head = model_head\n",
    "\n",
    "    def predict(self, inputs):\n",
    "        encoded_inputs = self.tokenizer(\n",
    "            inputs, padding=True, truncation=True, return_tensors=\"pt\"\n",
    "        ).to(self.optimum_model.device)\n",
    "\n",
    "        outputs = self.optimum_model(**encoded_inputs)\n",
    "        embeddings = mean_pooling(\n",
    "            outputs[\"last_hidden_state\"], encoded_inputs[\"attention_mask\"]\n",
    "        )\n",
    "        return self.model_head.predict(embeddings.cpu())\n",
    "\n",
    "    def __call__(self, inputs):\n",
    "        return self.predict(inputs)"
   ]
  },
  {
   "cell_type": "markdown",
   "id": "ae70f73e",
   "metadata": {},
   "source": [
    "Load the optimized model and the test dataset, and perform some inference."
   ]
  },
  {
   "cell_type": "code",
   "execution_count": 8,
   "id": "qRviEk2WWRn9",
   "metadata": {
    "colab": {
     "base_uri": "https://localhost:8080/"
    },
    "id": "qRviEk2WWRn9",
    "outputId": "33f010a8-376e-4f0c-b21b-97fe25bf1a81"
   },
   "outputs": [
    {
     "name": "stderr",
     "output_type": "stream",
     "text": [
      "loading configuration file /home/sdp/models/moshew/bge-small-en-v1.5_setfit-sst2-english_opt/inc_config.json\n",
      "INCConfig {\n",
      "  \"distillation\": {},\n",
      "  \"neural_compressor_version\": \"2.4.1\",\n",
      "  \"optimum_version\": \"1.16.2\",\n",
      "  \"pruning\": {},\n",
      "  \"quantization\": {\n",
      "    \"dataset_num_samples\": 100,\n",
      "    \"is_static\": true\n",
      "  },\n",
      "  \"save_onnx_model\": false,\n",
      "  \"torch_version\": \"2.1.2\",\n",
      "  \"transformers_version\": \"4.37.2\"\n",
      "}\n",
      "\n",
      "intel_extension_for_pytorch version is 2.1.100+cpu\n",
      "2024-01-30 03:39:26,255 - sentence_transformers.SentenceTransformer - INFO - Load pretrained SentenceTransformer: moshew/bge-small-en-v1.5_setfit-sst2-english\n",
      "2024-01-30 03:39:27,483 - sentence_transformers.SentenceTransformer - INFO - Use pytorch device_name: cpu\n"
     ]
    },
    {
     "data": {
      "text/plain": [
       "array([0, 0, 0, 0, 1, 1, 0, 1, 0, 1])"
      ]
     },
     "execution_count": 8,
     "metadata": {},
     "output_type": "execute_result"
    }
   ],
   "source": [
    "import json\n",
    "\n",
    "import optimum.intel\n",
    "from transformers import AutoTokenizer\n",
    "from setfit import SetFitModel\n",
    "\n",
    "tokenizer = AutoTokenizer.from_pretrained(optimum_model_path, model_max_length=512)\n",
    "optimum_model = optimum.intel.INCModel.from_pretrained(optimum_model_path)\n",
    "model = SetFitModel.from_pretrained(\"moshew/bge-small-en-v1.5_setfit-sst2-english\")\n",
    "optimum_setfit_model = OptimumSetFitModel(optimum_model, tokenizer, model.model_head)\n",
    "\n",
    "# Reload test dataset\n",
    "test_dataset = load_dataset(\"SetFit/sst2\")[\"validation\"]\n",
    "\n",
    "# Perform inference\n",
    "optimum_setfit_model(test_dataset[\"text\"][:10])"
   ]
  },
  {
   "cell_type": "markdown",
   "id": "72e7215f",
   "metadata": {},
   "source": [
    "Time to run the performance benchmark on our optimized SetFit model!"
   ]
  },
  {
   "cell_type": "code",
   "execution_count": 9,
   "id": "O8jpZ3gdWRn9",
   "metadata": {
    "colab": {
     "base_uri": "https://localhost:8080/"
    },
    "id": "O8jpZ3gdWRn9",
    "outputId": "8d31c81a-67e4-4074-cf35-9f56d6dcdd20"
   },
   "outputs": [
    {
     "name": "stdout",
     "output_type": "stream",
     "text": [
      "Model size (MB) - 44.65\n",
      "Accuracy on test set - 0.908\n",
      "Average latency (ms) - 3.13 +\\- 0.06\n"
     ]
    },
    {
     "data": {
      "application/vnd.jupyter.widget-view+json": {
       "model_id": "5eeb2425167f4820848cdaac5cfbe4ff",
       "version_major": 2,
       "version_minor": 0
      },
      "text/plain": [
       "  0%|          | 0/5120 [00:00<?, ?it/s]"
      ]
     },
     "metadata": {},
     "output_type": "display_data"
    },
    {
     "name": "stdout",
     "output_type": "stream",
     "text": [
      "Average throughput with batch_size=8 (samples/second): 1956.03 +\\- 201.62\n"
     ]
    },
    {
     "data": {
      "application/vnd.jupyter.widget-view+json": {
       "model_id": "3ed0128582874ca482d57261023cc6ca",
       "version_major": 2,
       "version_minor": 0
      },
      "text/plain": [
       "  0%|          | 0/2560 [00:00<?, ?it/s]"
      ]
     },
     "metadata": {},
     "output_type": "display_data"
    },
    {
     "name": "stdout",
     "output_type": "stream",
     "text": [
      "Average throughput with batch_size=16 (samples/second): 2840.72 +\\- 355.95\n"
     ]
    },
    {
     "data": {
      "application/vnd.jupyter.widget-view+json": {
       "model_id": "5bc6fd6267c44bffa2742e2e13c8c5f3",
       "version_major": 2,
       "version_minor": 0
      },
      "text/plain": [
       "  0%|          | 0/1280 [00:00<?, ?it/s]"
      ]
     },
     "metadata": {},
     "output_type": "display_data"
    },
    {
     "name": "stdout",
     "output_type": "stream",
     "text": [
      "Average throughput with batch_size=32 (samples/second): 1771.12 +\\- 485.26\n"
     ]
    },
    {
     "data": {
      "application/vnd.jupyter.widget-view+json": {
       "model_id": "1945aed002a14c018e7ac56d260e0f74",
       "version_major": 2,
       "version_minor": 0
      },
      "text/plain": [
       "  0%|          | 0/640 [00:00<?, ?it/s]"
      ]
     },
     "metadata": {},
     "output_type": "display_data"
    },
    {
     "name": "stdout",
     "output_type": "stream",
     "text": [
      "Average throughput with batch_size=64 (samples/second): 1950.32 +\\- 714.69\n"
     ]
    },
    {
     "data": {
      "application/vnd.jupyter.widget-view+json": {
       "model_id": "3c070b69341647f1ad72326e7f849132",
       "version_major": 2,
       "version_minor": 0
      },
      "text/plain": [
       "  0%|          | 0/80 [00:00<?, ?it/s]"
      ]
     },
     "metadata": {},
     "output_type": "display_data"
    },
    {
     "name": "stdout",
     "output_type": "stream",
     "text": [
      "Average throughput with batch_size=512 (samples/second): 2335.63 +\\- 560.85\n"
     ]
    },
    {
     "data": {
      "application/vnd.jupyter.widget-view+json": {
       "model_id": "e0a1c576cd0b4f89b4dd9dc58af074e4",
       "version_major": 2,
       "version_minor": 0
      },
      "text/plain": [
       "  0%|          | 0/5 [00:00<?, ?it/s]"
      ]
     },
     "metadata": {},
     "output_type": "display_data"
    },
    {
     "name": "stdout",
     "output_type": "stream",
     "text": [
      "Average throughput with batch_size=8192 (samples/second): 5624.42 +\\- 626.86\n",
      "\n",
      "Summary:\n",
      "bge-small (PyTorch):\n",
      "size_mb: 127.324\n",
      "accuracy: 0.906\n",
      "time_avg_ms: 8.574\n",
      "time_std_ms: 0.106\n",
      "throughput_avg_8: 492.429\n",
      "throughput_std_8: 50.027\n",
      "throughput_avg_16: 803.245\n",
      "throughput_std_16: 42.441\n",
      "throughput_avg_32: 620.063\n",
      "throughput_std_32: 50.171\n",
      "throughput_avg_64: 646.087\n",
      "throughput_std_64: 61.910\n",
      "throughput_avg_512: 902.371\n",
      "throughput_std_512: 135.489\n",
      "throughput_avg_8192: 1497.437\n",
      "throughput_std_8192: 30.309\n",
      "\n",
      "bge-small (optimum-intel):\n",
      "size_mb: 44.652\n",
      "accuracy: 0.908\n",
      "time_avg_ms: 3.128\n",
      "time_std_ms: 0.055\n",
      "throughput_avg_8: 1956.029\n",
      "throughput_std_8: 201.616\n",
      "throughput_avg_16: 2840.717\n",
      "throughput_std_16: 355.946\n",
      "throughput_avg_32: 1771.125\n",
      "throughput_std_32: 485.255\n",
      "throughput_avg_64: 1950.316\n",
      "throughput_std_64: 714.686\n",
      "throughput_avg_512: 2335.627\n",
      "throughput_std_512: 560.854\n",
      "throughput_avg_8192: 5624.415\n",
      "throughput_std_8192: 626.865\n",
      "\n"
     ]
    },
    {
     "data": {
      "image/png": "[encoded data removed]",
      "text/plain": [
       "<Figure size 640x480 with 1 Axes>"
      ]
     },
     "metadata": {},
     "output_type": "display_data"
    },
    {
     "name": "stdout",
     "output_type": "stream",
     "text": [
      "Latency speedup for 'bge-small (optimum-intel)': 2.74x\n"
     ]
    }
   ],
   "source": [
    "pb = PerformanceBenchmark(\n",
    "    optimum_setfit_model,\n",
    "    test_dataset,\n",
    "    \"bge-small (optimum-intel)\",\n",
    "    model_path=optimum_model_path,\n",
    ")\n",
    "\n",
    "# Load baseline benchmark results\n",
    "with open(\"baseline_metrics.json\") as f:\n",
    "    perf_metrics = json.load(f)\n",
    "perf_metrics.update(pb.run_benchmark())\n",
    "\n",
    "# Print all results\n",
    "print(\"\"\"\n",
    "Summary:\"\"\")\n",
    "for optim_type, results in perf_metrics.items():\n",
    "    s = [f\"{k}: {v:.3f}\" for k, v in results.items()]\n",
    "    print(f\"{optim_type}:\\n\" + \"\\n\".join(s) + \"\\n\")\n",
    "    \n",
    "plot_metrics(perf_metrics)\n",
    "\n",
    "def get_latency_speedup(model_name):\n",
    "    speedup = perf_metrics['bge-small (PyTorch)']['time_avg_ms'] / perf_metrics[model_name]['time_avg_ms']\n",
    "    return speedup\n",
    "print(f\"Latency speedup for 'bge-small (optimum-intel)': {get_latency_speedup('bge-small (optimum-intel)'):.2f}x\")"
   ]
  },
  {
   "cell_type": "markdown",
   "id": "48568c7b",
   "metadata": {},
   "source": [
    "#### The latency speedup for batch size 1 is 2.74x compared to the baseline, with no drop in accuracy!"
   ]
  }
 ],
 "metadata": {
  "accelerator": "GPU",
  "colab": {
   "gpuType": "T4",
   "provenance": []
  },
  "kernelspec": {
   "display_name": "Python 3 (ipykernel)",
   "language": "python",
   "name": "python3"
  },
  "language_info": {
   "codemirror_mode": {
    "name": "ipython",
    "version": 3
   },
   "file_extension": ".py",
   "mimetype": "text/x-python",
   "name": "python",
   "nbconvert_exporter": "python",
   "pygments_lexer": "ipython3",
   "version": "3.9.18"
  },
  "vscode": {
   "interpreter": {
    "hash": "31f2aee4e71d21fbe5cf8b01ff0e069b9275f58929596ceb00d14d90e3e16cd6"
   }
  }
 },
 "nbformat": 4,
 "nbformat_minor": 5
}
