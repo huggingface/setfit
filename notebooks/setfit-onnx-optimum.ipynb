{
 "cells": [
  {
   "cell_type": "markdown",
   "id": "76571396-8f54-40ed-9e81-6c7531e6eaee",
   "metadata": {
    "id": "76571396-8f54-40ed-9e81-6c7531e6eaee"
   },
   "source": [
    "# Efficiently run SetFit Models with 🤗 Optimum"
   ]
  },
  {
   "cell_type": "markdown",
   "id": "24fd5853-812f-45a4-8a7b-0a0c9a60d0a2",
   "metadata": {
    "id": "24fd5853-812f-45a4-8a7b-0a0c9a60d0a2"
   },
   "source": [
    "[SetFit](https://github.com/huggingface/setfit) is a technique for few-shot text classification that uses contrastive learning to fine-tune Sentence Transformers in domains where little to no labeled data is available. It achieves comparable performance to existing state-of-the-art methods based on large language models, yet requires no prompts and is efficient to train (typically a few seconds on a GPU to minutes on a CPU).\n",
    "\n",
    "In this notebook you'll learn how to further compress SetFit models for faster inference & deployment on GPU using Optimum Onnx."
   ]
  },
  {
   "cell_type": "markdown",
   "id": "a3b30b35-7875-498f-a771-068132f4084f",
   "metadata": {
    "id": "a3b30b35-7875-498f-a771-068132f4084f",
    "tags": []
   },
   "source": [
    "## 1. Setup development environment"
   ]
  },
  {
   "cell_type": "markdown",
   "id": "dc40c7af-1f4f-4324-847c-dc9b7797b60c",
   "metadata": {
    "id": "dc40c7af-1f4f-4324-847c-dc9b7797b60c"
   },
   "source": [
    "Our first step is to install SetFit. Running the following cell will install all the required packages for us."
   ]
  },
  {
   "cell_type": "code",
   "execution_count": 1,
   "id": "Cu9et-iSaU0i",
   "metadata": {
    "id": "Cu9et-iSaU0i"
   },
   "outputs": [],
   "source": [
    "!pip install setfit accelerate -qqq"
   ]
  },
  {
   "cell_type": "markdown",
   "id": "ffbea843-2e86-4f14-961c-b8895f9de77d",
   "metadata": {
    "id": "ffbea843-2e86-4f14-961c-b8895f9de77d"
   },
   "source": [
    "## 2. Create a performance benchmark\n",
    "\n",
    "Before we train and optimize any models, let's define a performance benchmark that we can use to compare our models. In general, deploying ML models in production environments involves a tradeoff among several constraints:\n",
    "\n",
    "* Model performance: how well does the model perform on a well crafted test set?\n",
    "* Latency: how fast can our model deliver predictions?\n",
    "* Memory: on what cloud instance or device can we store and load our model?\n",
    "\n",
    "The class below defines a simple benchmark that measure each quantity for a given SetFit model and test dataset:"
   ]
  },
  {
   "cell_type": "code",
   "execution_count": 2,
   "id": "55756fec-fc22-4590-84d7-2f3df37b9256",
   "metadata": {
    "id": "55756fec-fc22-4590-84d7-2f3df37b9256"
   },
   "outputs": [],
   "source": [
    "!export TOKENIZERS_PARALLELISM=false\n",
    "\n",
    "from pathlib import Path\n",
    "from time import perf_counter\n",
    "\n",
    "import evaluate\n",
    "import numpy as np\n",
    "import torch\n",
    "from tqdm.auto import tqdm\n",
    "\n",
    "metric = evaluate.load(\"accuracy\")\n",
    "\n",
    "class PerformanceBenchmark:\n",
    "    def __init__(self, model, dataset, optim_type):\n",
    "        self.model = model\n",
    "        self.dataset = dataset\n",
    "        self.optim_type = optim_type\n",
    "\n",
    "    def compute_accuracy(self):\n",
    "        preds = self.model.predict(self.dataset[\"text\"])\n",
    "        labels = self.dataset[\"label\"]\n",
    "        accuracy = metric.compute(predictions=preds, references=labels)\n",
    "        print(f\"Accuracy on test set - {accuracy['accuracy']:.3f}\")\n",
    "        return accuracy\n",
    "\n",
    "    def compute_size(self):\n",
    "        state_dict = self.model.model_body.state_dict()\n",
    "        tmp_path = Path(\"model.pt\")\n",
    "        torch.save(state_dict, tmp_path)\n",
    "        # Calculate size in megabytes\n",
    "        size_mb = Path(tmp_path).stat().st_size / (1024 * 1024)\n",
    "        # Delete temporary file\n",
    "        tmp_path.unlink()\n",
    "        print(f\"Model size (MB) - {size_mb:.2f}\")\n",
    "        return {\"size_mb\": size_mb}\n",
    "\n",
    "    def time_model(self, query=\"that loves its characters and communicates something rather beautiful about human nature\"):\n",
    "        latencies = []\n",
    "        # Warmup\n",
    "        for _ in range(10):\n",
    "            _ = self.model([query])\n",
    "        # Timed run\n",
    "        for _ in range(100):\n",
    "            start_time = perf_counter()\n",
    "            _ = self.model([query])\n",
    "            latency = perf_counter() - start_time\n",
    "            latencies.append(latency)\n",
    "        # Compute run statistics\n",
    "        time_avg_ms = 1000 * np.mean(latencies)\n",
    "        time_std_ms = 1000 * np.std(latencies)\n",
    "        print(rf\"Average latency (ms) - {time_avg_ms:.2f} +\\- {time_std_ms:.2f}\")\n",
    "        return {\"time_avg_ms\": time_avg_ms, \"time_std_ms\": time_std_ms}\n",
    "\n",
    "    def run_benchmark(self):\n",
    "        metrics = {}\n",
    "        metrics[self.optim_type] = self.compute_size()\n",
    "        metrics[self.optim_type].update(self.compute_accuracy())\n",
    "        metrics[self.optim_type].update(self.time_model())\n",
    "        return metrics"
   ]
  },
  {
   "cell_type": "markdown",
   "id": "4QkMcqR0qcBZ",
   "metadata": {
    "id": "4QkMcqR0qcBZ"
   },
   "source": [
    "Beyond that, we'll create a simple function to plot the performances reported by this benchmark."
   ]
  },
  {
   "cell_type": "code",
   "execution_count": 3,
   "id": "PurksLh3qcBa",
   "metadata": {
    "id": "PurksLh3qcBa"
   },
   "outputs": [],
   "source": [
    "import matplotlib.pyplot as plt\n",
    "import pandas as pd\n",
    "\n",
    "\n",
    "def plot_metrics(perf_metrics):\n",
    "    df = pd.DataFrame.from_dict(perf_metrics, orient=\"index\")\n",
    "\n",
    "    for idx in df.index:\n",
    "        df_opt = df.loc[idx]\n",
    "        plt.errorbar(\n",
    "            df_opt[\"time_avg_ms\"],\n",
    "            df_opt[\"accuracy\"] * 100,\n",
    "            xerr=df_opt[\"time_std_ms\"],\n",
    "            fmt=\"o\",\n",
    "            alpha=0.5,\n",
    "            ms=df_opt[\"size_mb\"] / 15,\n",
    "            label=idx,\n",
    "            capsize=5,\n",
    "            capthick=1,\n",
    "        )\n",
    "\n",
    "    legend = plt.legend(loc=\"lower right\")\n",
    "\n",
    "    plt.ylim(63, 95)\n",
    "    # Use the slowest model to define the x-axis range\n",
    "    xlim = max([metrics[\"time_avg_ms\"] for metrics in perf_metrics.values()]) * 1.2\n",
    "    plt.xlim(0, xlim)\n",
    "    plt.ylabel(\"Accuracy (%)\")\n",
    "    plt.xlabel(\"Average latency with batch_size=1 (ms)\")\n",
    "    plt.show()\n"
   ]
  },
  {
   "cell_type": "markdown",
   "id": "1402c1ba-aa7f-4b0b-9db5-1e6f0d301e70",
   "metadata": {
    "id": "1402c1ba-aa7f-4b0b-9db5-1e6f0d301e70"
   },
   "source": [
    "## 3. Train/evaluate bge-small SetFit models"
   ]
  },
  {
   "cell_type": "markdown",
   "id": "5a850dfb-fffb-4e03-b468-b1f78d434705",
   "metadata": {
    "id": "5a850dfb-fffb-4e03-b468-b1f78d434705"
   },
   "source": [
    "Before we optimize any models, let's train a few baselines as a point of reference. We'll use the [sst-2](https://huggingface.co/datasets/SetFit/sst2) dataset, which is a collection of sentiment text catagorized into 2 classes: positive, negative\n",
    "\n",
    "Let's start by loading the dataset from the Hub:"
   ]
  },
  {
   "cell_type": "code",
   "execution_count": 4,
   "id": "7850d846-07c8-48eb-9aa6-2ce1af276ff4",
   "metadata": {
    "colab": {
     "base_uri": "https://localhost:8080/"
    },
    "id": "7850d846-07c8-48eb-9aa6-2ce1af276ff4",
    "outputId": "056eff7c-293f-4fd8-e76e-29d261abff1b"
   },
   "outputs": [
    {
     "name": "stderr",
     "output_type": "stream",
     "text": [
      "/home/dkorat/anaconda/envs/dk-setfit-py310/lib/python3.10/site-packages/huggingface_hub/repocard.py:105: UserWarning: Repo card metadata block was not found. Setting CardData to empty.\n",
      "  warnings.warn(\"Repo card metadata block was not found. Setting CardData to empty.\")\n"
     ]
    },
    {
     "data": {
      "text/plain": [
       "DatasetDict({\n",
       "    train: Dataset({\n",
       "        features: ['text', 'label', 'label_text'],\n",
       "        num_rows: 6920\n",
       "    })\n",
       "    validation: Dataset({\n",
       "        features: ['text', 'label', 'label_text'],\n",
       "        num_rows: 872\n",
       "    })\n",
       "    test: Dataset({\n",
       "        features: ['text', 'label', 'label_text'],\n",
       "        num_rows: 1821\n",
       "    })\n",
       "})"
      ]
     },
     "execution_count": 4,
     "metadata": {},
     "output_type": "execute_result"
    }
   ],
   "source": [
    "from datasets import load_dataset\n",
    "\n",
    "dataset = load_dataset(\"SetFit/sst2\")\n",
    "dataset"
   ]
  },
  {
   "cell_type": "markdown",
   "id": "a714cf95-a831-41b7-8f04-ffe0350d4659",
   "metadata": {
    "id": "a714cf95-a831-41b7-8f04-ffe0350d4659"
   },
   "source": [
    "We train a SetFit model with the full dataset. Recall that SetFit excels with few-shot scenario, but this time we are interested to achieve maximum accuracy."
   ]
  },
  {
   "cell_type": "code",
   "execution_count": 5,
   "id": "a628cbfa-cfcd-4e4f-ab48-b454e5695ac8",
   "metadata": {
    "id": "a628cbfa-cfcd-4e4f-ab48-b454e5695ac8"
   },
   "outputs": [],
   "source": [
    "train_dataset = dataset[\"train\"]\n",
    "test_dataset = dataset[\"validation\"]"
   ]
  },
  {
   "cell_type": "markdown",
   "id": "P8yY_SBbWlv9",
   "metadata": {
    "id": "P8yY_SBbWlv9"
   },
   "source": [
    "Use the following line code to download the [already finetuned model](https://huggingface.co/moshew/bge-small-en-v1.5_setfit-sst2-english) and evaluate. Alternatively, uncomment the code below it to fine-tune the base model from scratch.\n",
    "\n",
    "Note that we perform the evaluations on Google Colab using the free T4 GPU."
   ]
  },
  {
   "cell_type": "code",
   "execution_count": 6,
   "id": "u-w99Y2qW4lU",
   "metadata": {
    "colab": {
     "base_uri": "https://localhost:8080/"
    },
    "id": "u-w99Y2qW4lU",
    "outputId": "57f0b8f7-6dad-4e90-c779-658a7de6e960"
   },
   "outputs": [
    {
     "name": "stdout",
     "output_type": "stream",
     "text": [
      "Model size (MB) - 127.33\n",
      "Accuracy on test set - 0.884\n",
      "Average latency (ms) - 8.31 +\\- 0.31\n"
     ]
    }
   ],
   "source": [
    "# Evaluate the uploaded model!\n",
    "from setfit import SetFitModel\n",
    "\n",
    "model = SetFitModel.from_pretrained(\"dkorat/bge-small-en-v1.5_setfit-sst2-english\")\n",
    "pb = PerformanceBenchmark(model=model, dataset=test_dataset, optim_type=\"bge-small (PyTorch)\")\n",
    "perf_metrics = pb.run_benchmark()"
   ]
  },
  {
   "cell_type": "code",
   "execution_count": 7,
   "id": "52b3bc70-dc3e-4c23-a152-7a149b8b46fe",
   "metadata": {
    "id": "52b3bc70-dc3e-4c23-a152-7a149b8b46fe"
   },
   "outputs": [],
   "source": [
    "# # Fine-tune the base model and Evaluate!\n",
    "# from setfit import SetFitModel, Trainer, TrainingArguments\n",
    "\n",
    "# # Load pretrained model from the Hub\n",
    "# model = SetFitModel.from_pretrained(\n",
    "#    \"BAAI/bge-small-en-v1.5\"\n",
    "# )\n",
    "# args = TrainingArguments(num_iterations=20)\n",
    "\n",
    "# # Create trainer\n",
    "# small_trainer = Trainer(\n",
    "#    model=model, args=args, train_dataset=train_dataset\n",
    "# )\n",
    "# # Train!\n",
    "# small_trainer.train()\n",
    "\n",
    "# # Evaluate!\n",
    "# pb = PerformanceBenchmark(\n",
    "#    model=small_trainer.model, dataset=test_dataset, optim_type=\"bge-small (base)\"\n",
    "# )\n",
    "# perf_metrics = pb.run_benchmark()"
   ]
  },
  {
   "cell_type": "markdown",
   "id": "82bf3e15-2804-4669-97d6-87e1bbef7223",
   "metadata": {
    "id": "82bf3e15-2804-4669-97d6-87e1bbef7223"
   },
   "source": [
    "Let's plot the results to visualise the performance:"
   ]
  },
  {
   "cell_type": "code",
   "execution_count": 8,
   "id": "89d0a144-d463-4a61-b78a-861d0d8cd061",
   "metadata": {
    "colab": {
     "base_uri": "https://localhost:8080/",
     "height": 455
    },
    "id": "89d0a144-d463-4a61-b78a-861d0d8cd061",
    "outputId": "9ba81223-b2d2-4b10-f78d-2691846782a2"
   },
   "outputs": [
    {
     "data": {
      "image/png": "[encoded data removed]",
      "text/plain": [
       "<Figure size 640x480 with 1 Axes>"
      ]
     },
     "metadata": {},
     "output_type": "display_data"
    }
   ],
   "source": [
    "plot_metrics(perf_metrics)"
   ]
  },
  {
   "cell_type": "markdown",
   "id": "AiPUhOCNWRny",
   "metadata": {
    "id": "AiPUhOCNWRny"
   },
   "source": [
    "## 4. Compressing with Optimum ONNX and CUDAExecutionProvider\n",
    "\n",
    "We'll be using Optimum's ONNX Runtime support with `CUDAExecutionProvider` [because it's fast while also supporting dynamic shapes](https://github.com/huggingface/optimum-benchmark/tree/main/examples/fast-mteb#notes)."
   ]
  },
  {
   "cell_type": "code",
   "execution_count": 9,
   "id": "NEnwnsEQWRn8",
   "metadata": {
    "cellView": "form",
    "id": "NEnwnsEQWRn8"
   },
   "outputs": [
    {
     "name": "stderr",
     "output_type": "stream",
     "text": [
      "huggingface/tokenizers: The current process just got forked, after parallelism has already been used. Disabling parallelism to avoid deadlocks...\n",
      "To disable this warning, you can either:\n",
      "\t- Avoid using `tokenizers` before the fork if possible\n",
      "\t- Explicitly set the environment variable TOKENIZERS_PARALLELISM=(true | false)\n"
     ]
    }
   ],
   "source": [
    "!pip install optimum[onnxruntime-gpu] -qqq"
   ]
  },
  {
   "cell_type": "markdown",
   "id": "HjeZkCtSqcBe",
   "metadata": {
    "id": "HjeZkCtSqcBe"
   },
   "source": [
    "Optimum makes it extremely easy to export a model to ONNX and apply SOTA graph optimizations / kernel fusions."
   ]
  },
  {
   "cell_type": "markdown",
   "id": "11ee6e82-97d3-4aa7-9181-12c5860c1a92",
   "metadata": {},
   "source": [
    "We use the `\"CUDAExecutionProvider\"` provider to export the SentenceTransformer to ONNX. Feel free to also experiment with other providers, such as `\"TensorrtExecutionProvider\"` and `\"CPUExecutionProvider\"`. The former may be even faster than `\"CUDAExecutionProvider\"`, but requires more installation."
   ]
  },
  {
   "cell_type": "code",
   "execution_count": null,
   "id": "hPqEcDi8WRn8",
   "metadata": {
    "colab": {
     "base_uri": "https://localhost:8080/"
    },
    "id": "hPqEcDi8WRn8",
    "outputId": "0e1202d8-aa84-422c-f10f-6bb0b43d1ef8"
   },
   "outputs": [
    {
     "name": "stderr",
     "output_type": "stream",
     "text": [
      "Framework not specified. Using pt to export the model.\n",
      "Using the export variant default. Available variants are:\n",
      "    - default: The default ONNX variant.\n"
     ]
    }
   ],
   "source": [
    "from optimum.onnxruntime import ORTModelForFeatureExtraction, AutoOptimizationConfig, ORTOptimizer\n",
    "\n",
    "# Load a PyTorch model and export it to the ONNX format\n",
    "ort_model = ORTModelForFeatureExtraction.from_pretrained(\n",
    "    \"dkorat/bge-small-en-v1.5_setfit-sst2-english\",\n",
    "    export=True,\n",
    "    provider=\"CUDAExecutionProvider\",\n",
    ")\n",
    "\n",
    "# Create the optimizer\n",
    "optimizer = ORTOptimizer.from_pretrained(ort_model)\n",
    "\n",
    "# Optimize using the appropriate optimization strategy\n",
    "opt_model_path = optimizer.optimize(save_dir=\"bge_auto_opt_O4\", optimization_config=AutoOptimizationConfig.O4())\n",
    "\n",
    "# Load the optimized ONNX model\n",
    "ort_model = ORTModelForFeatureExtraction.from_pretrained(opt_model_path, provider=\"CUDAExecutionProvider\")"
   ]
  },
  {
   "cell_type": "markdown",
   "id": "IYkxQOTRqcBe",
   "metadata": {
    "id": "IYkxQOTRqcBe"
   },
   "source": [
    "We may see some errors, but these are not ones to be concerned about. We'll see later that it does not affect the model performance.\n",
    "\n",
    "First of all, we'll create a subclass of our performance benchmark to also allow benchmarking ONNX models."
   ]
  },
  {
   "cell_type": "code",
   "execution_count": null,
   "id": "8hvfl3xvlnEs",
   "metadata": {
    "id": "8hvfl3xvlnEs"
   },
   "outputs": [],
   "source": [
    "class OnnxPerformanceBenchmark(PerformanceBenchmark):\n",
    "    def __init__(self, *args, model_path, **kwargs):\n",
    "        super().__init__(*args, **kwargs)\n",
    "        self.model_path = model_path\n",
    "\n",
    "    def compute_size(self):\n",
    "        size_mb = Path(self.model_path).stat().st_size / (1024 * 1024)\n",
    "        print(f\"Model size (MB) - {size_mb:.2f}\")\n",
    "        return {\"size_mb\": size_mb}"
   ]
  },
  {
   "cell_type": "markdown",
   "id": "Odn2lSPJqcBf",
   "metadata": {
    "id": "Odn2lSPJqcBf"
   },
   "source": [
    "And let's make a class that uses the tokenizer, ONNX Runtime (ORT) model and a model head."
   ]
  },
  {
   "cell_type": "code",
   "execution_count": null,
   "id": "enaQpBF9WRn9",
   "metadata": {
    "id": "enaQpBF9WRn9"
   },
   "outputs": [],
   "source": [
    "from setfit.exporters.utils import mean_pooling\n",
    "\n",
    "\n",
    "class OnnxSetFitModel:\n",
    "    def __init__(self, ort_model, tokenizer, model_head):\n",
    "        self.ort_model = ort_model\n",
    "        self.tokenizer = tokenizer\n",
    "        self.model_head = model_head\n",
    "\n",
    "    def predict(self, inputs):\n",
    "        encoded_inputs = self.tokenizer(\n",
    "            inputs, padding=True, truncation=True, return_tensors=\"pt\"\n",
    "        ).to(self.ort_model.device)\n",
    "\n",
    "        outputs = self.ort_model(**encoded_inputs)\n",
    "        embeddings = mean_pooling(\n",
    "            outputs[\"last_hidden_state\"], encoded_inputs[\"attention_mask\"]\n",
    "        )\n",
    "        return self.model_head.predict(embeddings)\n",
    "\n",
    "    def __call__(self, inputs):\n",
    "        return self.predict(inputs)"
   ]
  },
  {
   "cell_type": "markdown",
   "id": "N1TDdcOkqcBh",
   "metadata": {
    "id": "N1TDdcOkqcBh"
   },
   "source": [
    "We can initialize this model like so:"
   ]
  },
  {
   "cell_type": "code",
   "execution_count": null,
   "id": "qRviEk2WWRn9",
   "metadata": {
    "colab": {
     "base_uri": "https://localhost:8080/"
    },
    "id": "qRviEk2WWRn9",
    "outputId": "33f010a8-376e-4f0c-b21b-97fe25bf1a81"
   },
   "outputs": [],
   "source": [
    "from transformers import AutoTokenizer\n",
    "\n",
    "# Load the optimized ONNX model\n",
    "tokenizer = AutoTokenizer.from_pretrained(opt_model_path, model_max_length=512)\n",
    "onnx_setfit_model = OnnxSetFitModel(ort_model, tokenizer, model.model_head)\n",
    "\n",
    "# Perform inference\n",
    "onnx_setfit_model(test_dataset[\"text\"][:2])"
   ]
  },
  {
   "cell_type": "markdown",
   "id": "3DPl1ZpYqcBh",
   "metadata": {
    "id": "3DPl1ZpYqcBh"
   },
   "source": [
    "Time to benchmark this ONNX model."
   ]
  },
  {
   "cell_type": "code",
   "execution_count": null,
   "id": "O8jpZ3gdWRn9",
   "metadata": {
    "colab": {
     "base_uri": "https://localhost:8080/"
    },
    "id": "O8jpZ3gdWRn9",
    "outputId": "8d31c81a-67e4-4074-cf35-9f56d6dcdd20"
   },
   "outputs": [],
   "source": [
    "pb = OnnxPerformanceBenchmark(\n",
    "    onnx_setfit_model,\n",
    "    test_dataset,\n",
    "    \"bge-small (optimum ONNX)\",\n",
    "    model_path=\"bge_auto_opt_O4/model_optimized.onnx\",\n",
    ")\n",
    "perf_metrics.update(pb.run_benchmark())"
   ]
  },
  {
   "cell_type": "code",
   "execution_count": null,
   "id": "tpjtxQQlZQPa",
   "metadata": {
    "colab": {
     "base_uri": "https://localhost:8080/",
     "height": 455
    },
    "id": "tpjtxQQlZQPa",
    "outputId": "01efad97-4780-4c47-f10f-3afa7e819d15"
   },
   "outputs": [],
   "source": [
    "plot_metrics(perf_metrics)"
   ]
  },
  {
   "cell_type": "code",
   "execution_count": null,
   "id": "a0b2ed13-0661-4c4d-8a10-e3e280f1407a",
   "metadata": {},
   "outputs": [],
   "source": [
    "print(f\"Speedup: {perf_metrics['bge-small (PyTorch)']['time_avg_ms'] / perf_metrics['bge-small (optimum ONNX)']['time_avg_ms']:.2f}x\")"
   ]
  },
  {
   "cell_type": "markdown",
   "id": "gvdggvIbvowO",
   "metadata": {
    "id": "gvdggvIbvowO"
   },
   "source": [
    "By applying ONNX, we were able to improve the latency from 13.43ms per sample to 2.19ms per sample, for a speedup of 5.28x!\n",
    "\n",
    "For further improvements, we recommend increasing the inference batch size, as this may also heavily improve the throughput. For example, setting the batch size to 128 reduces the latency further down to 0.3ms, and down to 0.2ms at a batch size of 2048."
   ]
  }
 ],
 "metadata": {
  "accelerator": "GPU",
  "colab": {
   "gpuType": "T4",
   "provenance": []
  },
  "kernelspec": {
   "display_name": "Python 3 (ipykernel)",
   "language": "python",
   "name": "python3"
  },
  "language_info": {
   "codemirror_mode": {
    "name": "ipython",
    "version": 3
   },
   "file_extension": ".py",
   "mimetype": "text/x-python",
   "name": "python",
   "nbconvert_exporter": "python",
   "pygments_lexer": "ipython3",
   "version": "3.10.13"
  },
  "vscode": {
   "interpreter": {
    "hash": "31f2aee4e71d21fbe5cf8b01ff0e069b9275f58929596ceb00d14d90e3e16cd6"
   }
  }
 },
 "nbformat": 4,
 "nbformat_minor": 5
}
