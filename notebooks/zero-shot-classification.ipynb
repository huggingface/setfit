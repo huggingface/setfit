{
 "cells": [
  {
   "cell_type": "markdown",
   "id": "6f553cf6-868e-4e45-9663-0245789c959d",
   "metadata": {},
   "source": [
    "# Zero-shot Text Classification with SetFit"
   ]
  },
  {
   "cell_type": "markdown",
   "id": "79ea24b5-4d5b-4285-9797-15e1b8ea2350",
   "metadata": {},
   "source": [
    "Although SetFit was designed for few-shot learning, the method can also be applied in scenarios where no labeled data is available. The main trick is to create _synthetic examples_ that resemble the classification task, and then train a SetFit model on them. \n",
    "\n",
    "Remarkably, this simple technique significantly outperforms the zero-shot pipeline in 🤗 Transformers, and can generate predictions by a factor of 5x (or more) faster!\n",
    "\n",
    "In this notebook, we'll explore how SetFit can be applied in these \"zero-shot\" settings, and also show how adding synthetic examples can provide a boost to standard few-shot classification."
   ]
  },
  {
   "cell_type": "markdown",
   "id": "526b47c7-a78f-4dce-b740-3008de1b0d2a",
   "metadata": {
    "tags": []
   },
   "source": [
    "## Setup"
   ]
  },
  {
   "cell_type": "markdown",
   "id": "1e7c6e98-36f4-4d28-aaaf-3bb683a6736f",
   "metadata": {},
   "source": [
    "If you're running this Notebook on Colab or some other cloud platform, you will need to install the `setfit` library. Uncomment the following cell and run it:"
   ]
  },
  {
   "cell_type": "code",
   "execution_count": null,
   "id": "c4005543-bf83-48d2-864a-b89269878df1",
   "metadata": {},
   "outputs": [],
   "source": [
    "# %pip install setfit matplotlib"
   ]
  },
  {
   "cell_type": "markdown",
   "id": "0bf2908e-f3dc-42c7-8bf3-624a7ae9fb46",
   "metadata": {},
   "source": [
    "To be able to share your model with the community, there are a few more steps to follow.\n",
    "\n",
    "First, you have to store your authentication token from the Hugging Face Hub (sign up [here](https://huggingface.co/join) if you haven't already!). To do so, execute the following cell and input an [access token](https://huggingface.co/docs/hub/security-tokens) associated with your account:"
   ]
  },
  {
   "cell_type": "code",
   "execution_count": null,
   "id": "ae76e2b3-ece5-4049-b3d5-ce742a92471b",
   "metadata": {},
   "outputs": [],
   "source": [
    "from huggingface_hub import notebook_login\n",
    "\n",
    "notebook_login()"
   ]
  },
  {
   "cell_type": "markdown",
   "id": "3bf97b4d-47fd-43d5-9973-b792bb8ca280",
   "metadata": {},
   "source": [
    "Then you need to install Git-LFS, which you can do by uncommenting and running following command:"
   ]
  },
  {
   "cell_type": "code",
   "execution_count": null,
   "id": "caae23f2-fee9-4d87-8e00-28393d20c00b",
   "metadata": {},
   "outputs": [],
   "source": [
    "# !apt install git-lfs"
   ]
  },
  {
   "cell_type": "markdown",
   "id": "229d7bae-50f1-4edf-9304-e1ddaf4c1f35",
   "metadata": {},
   "source": [
    "Finally, you may need to configue Git on your system by providing details about who you are:"
   ]
  },
  {
   "cell_type": "code",
   "execution_count": 1,
   "id": "7d7afbac-aa00-477c-9265-22fe1bdf36e5",
   "metadata": {},
   "outputs": [],
   "source": [
    "# !git config --global user.email \"you@example.com\"\n",
    "# !git config --global user.name \"Your Name\""
   ]
  },
  {
   "cell_type": "markdown",
   "id": "270bed0d-5fd1-420e-97fb-147fd52d26b0",
   "metadata": {},
   "source": [
    "To benchmark the performance of the \"zero-shot\" method, we'll use the following dataset and pretrained model: "
   ]
  },
  {
   "cell_type": "code",
   "execution_count": 1,
   "id": "7c5c92ba-b74b-4275-8133-aada51a7522d",
   "metadata": {},
   "outputs": [],
   "source": [
    "dataset_id = \"emotion\"\n",
    "model_id = \"sentence-transformers/paraphrase-mpnet-base-v2\""
   ]
  },
  {
   "cell_type": "markdown",
   "id": "f1d0637d-7945-4c7f-ac16-abadfc027bbb",
   "metadata": {},
   "source": [
    "Next, we'll download the reference dataset from the Hugging Face Hub:"
   ]
  },
  {
   "cell_type": "code",
   "execution_count": 2,
   "id": "1cbcc6f0-da7d-4e3d-9ae4-f78cc83f0e8e",
   "metadata": {},
   "outputs": [
    {
     "name": "stderr",
     "output_type": "stream",
     "text": [
      "Using custom data configuration default\n",
      "Reusing dataset emotion (/home/lewis/.cache/huggingface/datasets/emotion/default/0.0.0/348f63ca8e27b3713b6c04d723efe6d824a56fb3d1449794716c0f0296072705)\n"
     ]
    },
    {
     "data": {
      "application/vnd.jupyter.widget-view+json": {
       "model_id": "6308288f0d464fc8a5d05f8441a54810",
       "version_major": 2,
       "version_minor": 0
      },
      "text/plain": [
       "  0%|          | 0/3 [00:00<?, ?it/s]"
      ]
     },
     "metadata": {},
     "output_type": "display_data"
    },
    {
     "data": {
      "text/plain": [
       "DatasetDict({\n",
       "    train: Dataset({\n",
       "        features: ['text', 'label'],\n",
       "        num_rows: 16000\n",
       "    })\n",
       "    validation: Dataset({\n",
       "        features: ['text', 'label'],\n",
       "        num_rows: 2000\n",
       "    })\n",
       "    test: Dataset({\n",
       "        features: ['text', 'label'],\n",
       "        num_rows: 2000\n",
       "    })\n",
       "})"
      ]
     },
     "execution_count": 2,
     "metadata": {},
     "output_type": "execute_result"
    }
   ],
   "source": [
    "from datasets import load_dataset\n",
    "\n",
    "reference_dataset = load_dataset(dataset_id)\n",
    "reference_dataset"
   ]
  },
  {
   "cell_type": "markdown",
   "id": "81207762-1226-4229-b276-ae2a48e94ceb",
   "metadata": {},
   "source": [
    "Now that we're set up, let's create some synthetic data to train on!"
   ]
  },
  {
   "cell_type": "markdown",
   "id": "1e5a6fef-b903-450f-8416-07ecdc679a6f",
   "metadata": {},
   "source": [
    "## Creating a synthetic dataset"
   ]
  },
  {
   "cell_type": "markdown",
   "id": "9f68181b-20dc-4cdb-b85c-9decd2aa2c2b",
   "metadata": {},
   "source": [
    "The first thing we need to do is create a dataset of synthetic examples. In `setfit`, we can do this by applying the `add_templated_examples()` function to a dummy dataset. This function expects a few main things:\n",
    "\n",
    "* A list of candidate labels to classify with. We'll use the labels from the reference dataset here, but this could be anything that's relevant to the task and dataset at hand.\n",
    "* A template to generate examples with. By default, it is `\"This sentence is {}\"`, where the `{}` will be filled by one of the candidate labels\n",
    "* A sample size, which will create this many examples per class. We find a sample size of 8 usually works best.\n",
    "\n",
    "Armed with this information, let's go ahead an create our synthetic dataset:"
   ]
  },
  {
   "cell_type": "code",
   "execution_count": 3,
   "id": "03d87964-3361-4e03-8119-15034a5ef869",
   "metadata": {},
   "outputs": [
    {
     "data": {
      "text/plain": [
       "Dataset({\n",
       "    features: ['text', 'label'],\n",
       "    num_rows: 48\n",
       "})"
      ]
     },
     "execution_count": 3,
     "metadata": {},
     "output_type": "execute_result"
    }
   ],
   "source": [
    "from datasets import Dataset\n",
    "from setfit import add_templated_examples\n",
    "\n",
    "label_features = reference_dataset[\"train\"].features[\"label\"]\n",
    "candidate_labels = label_features.names\n",
    "dummy_dataset = Dataset.from_dict({})\n",
    "train_dataset = add_templated_examples(dummy_dataset, candidate_labels=candidate_labels, sample_size=8)\n",
    "train_dataset"
   ]
  },
  {
   "cell_type": "markdown",
   "id": "ffc404c4-07fb-46a7-9684-3752d3e29946",
   "metadata": {},
   "source": [
    "Since our dataset has 6 classes and we chose a sample size of 8, our synthetic dataset contains $6\\times 8=48$ examples. If we take a look at a few of the examples:"
   ]
  },
  {
   "cell_type": "code",
   "execution_count": 4,
   "id": "6540a7a1-04d8-45aa-ae09-be8c736ffaee",
   "metadata": {},
   "outputs": [
    {
     "data": {
      "text/plain": [
       "{'text': ['This sentence is fear',\n",
       "  'This sentence is sadness',\n",
       "  'This sentence is fear'],\n",
       " 'label': [4, 0, 4]}"
      ]
     },
     "execution_count": 4,
     "metadata": {},
     "output_type": "execute_result"
    }
   ],
   "source": [
    "train_dataset.shuffle()[:3]"
   ]
  },
  {
   "cell_type": "markdown",
   "id": "85a0d010-389a-4bc1-aaef-4814c0c96e45",
   "metadata": {},
   "source": [
    "we can see that each input takes the form of the template and has a corresponding label associated with it. \n",
    "\n",
    "Let's not train a SetFit model on these examples!"
   ]
  },
  {
   "cell_type": "markdown",
   "id": "bfb02947-56f5-4999-a2cb-c736890ab799",
   "metadata": {},
   "source": [
    "## Fine-tuning the model"
   ]
  },
  {
   "cell_type": "markdown",
   "id": "157ce26c-ecf9-41c7-8f52-4aadeea97df4",
   "metadata": {},
   "source": [
    "To train a SetFit model, the first thing to do is download a pretrained checkpoint from the Hub. We can do so by using the `from_pretrained()` method associated with the `SetFitModel` class:"
   ]
  },
  {
   "cell_type": "code",
   "execution_count": 5,
   "id": "0aa2c903-86ef-47a5-a812-951c39b6deb2",
   "metadata": {},
   "outputs": [
    {
     "name": "stderr",
     "output_type": "stream",
     "text": [
      "model_head.pkl not found on HuggingFace Hub, initialising classification head with random weights. You should TRAIN this model on a downstream task to use it for predictions and inference.\n"
     ]
    }
   ],
   "source": [
    "from setfit import SetFitModel\n",
    "\n",
    "model = SetFitModel.from_pretrained(model_id)"
   ]
  },
  {
   "cell_type": "markdown",
   "id": "8ac28218-16cd-4b59-908c-30b41a0a7427",
   "metadata": {},
   "source": [
    "Here, we've downloaded a pretrained Sentence Transformer from the Hub and added a logistic classification head to the create the SetFit model. As indicated in the message, we need to train this model on some labeled examples. We can do so by using the `SetFitTrainer` class as follows:"
   ]
  },
  {
   "cell_type": "code",
   "execution_count": 6,
   "id": "73a6e674-67ae-41b7-8743-0ae134998814",
   "metadata": {},
   "outputs": [],
   "source": [
    "from setfit import SetFitTrainer\n",
    "\n",
    "trainer = SetFitTrainer(\n",
    "    model=model,\n",
    "    train_dataset=train_dataset,\n",
    "    eval_dataset=reference_dataset[\"test\"]\n",
    ")"
   ]
  },
  {
   "cell_type": "markdown",
   "id": "473f9fd4-1240-426d-baa4-810c2af08796",
   "metadata": {},
   "source": [
    "Now that we've created a trainer, we can train it! While we're at it, let's time how long it takes to train and evaluate the model:"
   ]
  },
  {
   "cell_type": "code",
   "execution_count": 7,
   "id": "901adf79-9275-4c41-bc3f-2813631be7e6",
   "metadata": {},
   "outputs": [
    {
     "name": "stderr",
     "output_type": "stream",
     "text": [
      "***** Running training *****\n",
      "  Num examples = 1920\n",
      "  Num epochs = 1\n",
      "  Total optimization steps = 120\n",
      "  Total train batch size = 16\n"
     ]
    },
    {
     "data": {
      "application/vnd.jupyter.widget-view+json": {
       "model_id": "4a77733bbf4541fa958a1c127b67862e",
       "version_major": 2,
       "version_minor": 0
      },
      "text/plain": [
       "Epoch:   0%|          | 0/1 [00:00<?, ?it/s]"
      ]
     },
     "metadata": {},
     "output_type": "display_data"
    },
    {
     "data": {
      "application/vnd.jupyter.widget-view+json": {
       "model_id": "9322bbdc2d80414f9bc9055c3ec23cc6",
       "version_major": 2,
       "version_minor": 0
      },
      "text/plain": [
       "Iteration:   0%|          | 0/120 [00:00<?, ?it/s]"
      ]
     },
     "metadata": {},
     "output_type": "display_data"
    },
    {
     "name": "stderr",
     "output_type": "stream",
     "text": [
      "***** Running evaluation *****\n"
     ]
    },
    {
     "name": "stdout",
     "output_type": "stream",
     "text": [
      "CPU times: user 12.6 s, sys: 2.4 s, total: 15 s\n",
      "Wall time: 10.9 s\n"
     ]
    },
    {
     "data": {
      "text/plain": [
       "{'accuracy': 0.537}"
      ]
     },
     "execution_count": 7,
     "metadata": {},
     "output_type": "execute_result"
    }
   ],
   "source": [
    "%%time\n",
    "trainer.train()\n",
    "zeroshot_metrics = trainer.evaluate()\n",
    "zeroshot_metrics"
   ]
  },
  {
   "cell_type": "markdown",
   "id": "7d291100-eb27-4a33-90d2-3762783b58b8",
   "metadata": {},
   "source": [
    "Great, now that we have a reference score let's compare against the zero-shot pipeline from 🤗 Transformers."
   ]
  },
  {
   "cell_type": "markdown",
   "id": "2803d060-e2a3-4d8a-9ff3-41e447cf9ecd",
   "metadata": {},
   "source": [
    "## Comparing against the zero-shot pipeline from 🤗 Transformers"
   ]
  },
  {
   "cell_type": "markdown",
   "id": "59cf81d8-0389-4d9b-b05f-9c36f0564eee",
   "metadata": {},
   "source": [
    "🤗 Transformers provides a zero-shot pipeline that frames text classification as a natural language inference task. Let's load the pipeline and place it on the GPU for fast inference: "
   ]
  },
  {
   "cell_type": "code",
   "execution_count": 8,
   "id": "54c513a8-b27f-4d4c-817a-66faef82127c",
   "metadata": {},
   "outputs": [
    {
     "name": "stderr",
     "output_type": "stream",
     "text": [
      "No model was supplied, defaulted to facebook/bart-large-mnli and revision c626438 (https://huggingface.co/facebook/bart-large-mnli).\n",
      "Using a pipeline without specifying a model name and revision in production is not recommended.\n"
     ]
    }
   ],
   "source": [
    "from transformers import pipeline\n",
    "\n",
    "pipe = pipeline(\"zero-shot-classification\", device=0)"
   ]
  },
  {
   "cell_type": "markdown",
   "id": "9b016081-4bcb-4574-83b2-64ec5fdb7142",
   "metadata": {},
   "source": [
    "Now that we have the model, let's generate some predictions. We'll use the same candidate labels as we did with SetFit and adjust the hypothesis template to match the same one as well: "
   ]
  },
  {
   "cell_type": "code",
   "execution_count": 11,
   "id": "d953c43f-3374-41e1-a0e7-1faa002e2d2f",
   "metadata": {},
   "outputs": [
    {
     "name": "stdout",
     "output_type": "stream",
     "text": [
      "CPU times: user 1min 7s, sys: 19.2 ms, total: 1min 7s\n",
      "Wall time: 51.2 s\n"
     ]
    }
   ],
   "source": [
    "%%time\n",
    "zeroshot_preds = pipe(reference_dataset[\"test\"][\"text\"], batch_size=16, hypothesis_template=\"This sentence is {}\", candidate_labels=candidate_labels)"
   ]
  },
  {
   "cell_type": "markdown",
   "id": "ec36e37c-feb4-49fa-9912-786e183e67be",
   "metadata": {},
   "source": [
    "Note that this took almost 7x longer to generate predictions than SetFit! OK, so how well does it perform? Since each prediction is a dictionary of label names ranked by score:"
   ]
  },
  {
   "cell_type": "code",
   "execution_count": 12,
   "id": "7242e190-85cf-4bbc-927e-40fa724d17af",
   "metadata": {},
   "outputs": [
    {
     "data": {
      "text/plain": [
       "{'sequence': 'im feeling rather rotten so im not very ambitious right now',\n",
       " 'labels': ['sadness', 'anger', 'surprise', 'fear', 'love', 'joy'],\n",
       " 'scores': [0.4163009822368622,\n",
       "  0.24801068007946014,\n",
       "  0.2174292504787445,\n",
       "  0.10036562383174896,\n",
       "  0.009636969305574894,\n",
       "  0.00825644563883543]}"
      ]
     },
     "execution_count": 12,
     "metadata": {},
     "output_type": "execute_result"
    }
   ],
   "source": [
    "zeroshot_preds[0]"
   ]
  },
  {
   "cell_type": "markdown",
   "id": "01c7c784-3896-483f-bc60-43373a38b4ed",
   "metadata": {},
   "source": [
    "we can use the `str2int()` function from the `label` column to convert them to integers. "
   ]
  },
  {
   "cell_type": "code",
   "execution_count": 13,
   "id": "24581915-49ce-43ba-963a-6bf932fb6f10",
   "metadata": {},
   "outputs": [],
   "source": [
    "preds = [label_features.str2int(pred[\"labels\"][0]) for pred in zeroshot_preds]"
   ]
  },
  {
   "cell_type": "markdown",
   "id": "95e97c33-d1e1-442c-be60-e5268d3a4e56",
   "metadata": {},
   "source": [
    "The last step is to compute accuracy using 🤗 Evaluate:"
   ]
  },
  {
   "cell_type": "code",
   "execution_count": 14,
   "id": "d87a7c64-326b-45db-b984-1e99a9bc3c9f",
   "metadata": {},
   "outputs": [
    {
     "data": {
      "text/plain": [
       "{'accuracy': 0.386}"
      ]
     },
     "execution_count": 14,
     "metadata": {},
     "output_type": "execute_result"
    }
   ],
   "source": [
    "import evaluate\n",
    "\n",
    "metric = evaluate.load(\"accuracy\")\n",
    "transformers_metrics = metric.compute(predictions=preds, references=reference_dataset[\"test\"][\"label\"])\n",
    "transformers_metrics"
   ]
  },
  {
   "cell_type": "markdown",
   "id": "ce87fdf0-dbbd-4fa8-81c6-89c417861ea4",
   "metadata": {},
   "source": [
    "Compared to SetFit, this approach performs significantly worse. Let's wrap up our analysis by combining synthetic examples with a few labeled ones."
   ]
  },
  {
   "cell_type": "markdown",
   "id": "1fd008c8-149b-48d1-9111-4b9969d0fc60",
   "metadata": {},
   "source": [
    "## Augmenting labeled data with synthetic examples"
   ]
  },
  {
   "cell_type": "markdown",
   "id": "95445860-3ff8-4bdf-a115-b3ed4440319d",
   "metadata": {},
   "source": [
    "If you have a few labeled examples, adding synthetic data can often boost performance. To simulate this, let's first sample 8 labeled examples from our reference dataset:"
   ]
  },
  {
   "cell_type": "code",
   "execution_count": 15,
   "id": "d49bb5f2-ab4f-493e-ac6c-a7c959244ca7",
   "metadata": {},
   "outputs": [
    {
     "name": "stderr",
     "output_type": "stream",
     "text": [
      "Loading cached shuffled indices for dataset at /home/lewis/.cache/huggingface/datasets/emotion/default/0.0.0/348f63ca8e27b3713b6c04d723efe6d824a56fb3d1449794716c0f0296072705/cache-5cdfbd5e800ffaf7.arrow\n",
      "Parameter 'function'=<function sample_dataset.<locals>.<lambda> at 0x7fd42d0f6560> of the transform datasets.arrow_dataset.Dataset.filter@2.0.1 couldn't be hashed properly, a random hash was used instead. Make sure your transforms and parameters are serializable with pickle or dill for the dataset fingerprinting and caching to work. If you reuse this transform, the caching mechanism will consider it to be different from the previous calls and recompute everything. This warning is only showed once. Subsequent hashing failures won't be showed.\n"
     ]
    },
    {
     "data": {
      "application/vnd.jupyter.widget-view+json": {
       "model_id": "48816291e9ff4bd6beb1fe42abb795cd",
       "version_major": 2,
       "version_minor": 0
      },
      "text/plain": [
       "  0%|          | 0/16 [00:00<?, ?ba/s]"
      ]
     },
     "metadata": {},
     "output_type": "display_data"
    },
    {
     "data": {
      "application/vnd.jupyter.widget-view+json": {
       "model_id": "fa392dedfeff4ebca3c6cf9df6e5fe6c",
       "version_major": 2,
       "version_minor": 0
      },
      "text/plain": [
       "  0%|          | 0/16 [00:00<?, ?ba/s]"
      ]
     },
     "metadata": {},
     "output_type": "display_data"
    },
    {
     "data": {
      "application/vnd.jupyter.widget-view+json": {
       "model_id": "b894eb81682b46329422f97906c7cc8c",
       "version_major": 2,
       "version_minor": 0
      },
      "text/plain": [
       "  0%|          | 0/16 [00:00<?, ?ba/s]"
      ]
     },
     "metadata": {},
     "output_type": "display_data"
    },
    {
     "data": {
      "application/vnd.jupyter.widget-view+json": {
       "model_id": "07c63cfe7d67453999efcf460d5c61d4",
       "version_major": 2,
       "version_minor": 0
      },
      "text/plain": [
       "  0%|          | 0/16 [00:00<?, ?ba/s]"
      ]
     },
     "metadata": {},
     "output_type": "display_data"
    },
    {
     "data": {
      "application/vnd.jupyter.widget-view+json": {
       "model_id": "76526a36f9f04297b0b1e6f5b2348e4f",
       "version_major": 2,
       "version_minor": 0
      },
      "text/plain": [
       "  0%|          | 0/16 [00:00<?, ?ba/s]"
      ]
     },
     "metadata": {},
     "output_type": "display_data"
    },
    {
     "data": {
      "application/vnd.jupyter.widget-view+json": {
       "model_id": "d9f413749ad74603a1dfd8f299e89ce0",
       "version_major": 2,
       "version_minor": 0
      },
      "text/plain": [
       "  0%|          | 0/16 [00:00<?, ?ba/s]"
      ]
     },
     "metadata": {},
     "output_type": "display_data"
    },
    {
     "data": {
      "text/plain": [
       "Dataset({\n",
       "    features: ['text', 'label'],\n",
       "    num_rows: 48\n",
       "})"
      ]
     },
     "execution_count": 15,
     "metadata": {},
     "output_type": "execute_result"
    }
   ],
   "source": [
    "from setfit import sample_dataset\n",
    "\n",
    "train_dataset = sample_dataset(reference_dataset[\"train\"])\n",
    "train_dataset"
   ]
  },
  {
   "cell_type": "markdown",
   "id": "90c41149-2d94-4bda-9880-b589de97c619",
   "metadata": {},
   "source": [
    "To warm up, we'll train a SetFit model on these true labels:"
   ]
  },
  {
   "cell_type": "code",
   "execution_count": 16,
   "id": "74d8308d-66d1-4eaa-b498-9b0e8b91b5e3",
   "metadata": {},
   "outputs": [
    {
     "name": "stderr",
     "output_type": "stream",
     "text": [
      "model_head.pkl not found on HuggingFace Hub, initialising classification head with random weights. You should TRAIN this model on a downstream task to use it for predictions and inference.\n",
      "***** Running training *****\n",
      "  Num examples = 1920\n",
      "  Num epochs = 1\n",
      "  Total optimization steps = 120\n",
      "  Total train batch size = 16\n"
     ]
    },
    {
     "data": {
      "application/vnd.jupyter.widget-view+json": {
       "model_id": "01bc7c33232f42beba7a1cc49b658b09",
       "version_major": 2,
       "version_minor": 0
      },
      "text/plain": [
       "Epoch:   0%|          | 0/1 [00:00<?, ?it/s]"
      ]
     },
     "metadata": {},
     "output_type": "display_data"
    },
    {
     "data": {
      "application/vnd.jupyter.widget-view+json": {
       "model_id": "a7ee456fe7c24c69b1fc230bd7f6fb1e",
       "version_major": 2,
       "version_minor": 0
      },
      "text/plain": [
       "Iteration:   0%|          | 0/120 [00:00<?, ?it/s]"
      ]
     },
     "metadata": {},
     "output_type": "display_data"
    },
    {
     "name": "stderr",
     "output_type": "stream",
     "text": [
      "***** Running evaluation *****\n"
     ]
    },
    {
     "data": {
      "text/plain": [
       "{'accuracy': 0.459}"
      ]
     },
     "execution_count": 16,
     "metadata": {},
     "output_type": "execute_result"
    }
   ],
   "source": [
    "model = SetFitModel.from_pretrained(model_id)\n",
    "\n",
    "trainer = SetFitTrainer(\n",
    "    model=model,\n",
    "    train_dataset=train_dataset,\n",
    "    eval_dataset=reference_dataset[\"test\"]\n",
    ")\n",
    "trainer.train()\n",
    "fewshot_metrics = trainer.evaluate()\n",
    "fewshot_metrics"
   ]
  },
  {
   "cell_type": "markdown",
   "id": "fe548576-b257-466e-9cdd-b12432729ce3",
   "metadata": {},
   "source": [
    "Note that for this particular dataset, the performance with true labels is _worse_ than training on synthetic examples! In our experiments, we found that the difference depends strongly on the dataset in question. Since SetFit models are fast to train, you can always try both approaches and pick the best one.\n",
    "\n",
    "In any case, let's now add some synthetic examples to our training set:"
   ]
  },
  {
   "cell_type": "code",
   "execution_count": 18,
   "id": "1efe7562-74a6-4aa5-915f-ef76623b7783",
   "metadata": {},
   "outputs": [
    {
     "data": {
      "text/plain": [
       "Dataset({\n",
       "    features: ['text', 'label'],\n",
       "    num_rows: 96\n",
       "})"
      ]
     },
     "execution_count": 18,
     "metadata": {},
     "output_type": "execute_result"
    }
   ],
   "source": [
    "augmented_dataset = add_templated_examples(train_dataset, candidate_labels=candidate_labels, sample_size=8)\n",
    "augmented_dataset"
   ]
  },
  {
   "cell_type": "markdown",
   "id": "b7ab8285-72a2-495b-813c-b3251f9a3597",
   "metadata": {},
   "source": [
    "As before, we can train and evaluate SetFit with the augmented dataset:"
   ]
  },
  {
   "cell_type": "code",
   "execution_count": 19,
   "id": "93ca49dd-198f-4631-a621-d59010efcfbd",
   "metadata": {},
   "outputs": [
    {
     "name": "stderr",
     "output_type": "stream",
     "text": [
      "model_head.pkl not found on HuggingFace Hub, initialising classification head with random weights. You should TRAIN this model on a downstream task to use it for predictions and inference.\n",
      "***** Running training *****\n",
      "  Num examples = 3840\n",
      "  Num epochs = 1\n",
      "  Total optimization steps = 240\n",
      "  Total train batch size = 16\n"
     ]
    },
    {
     "data": {
      "application/vnd.jupyter.widget-view+json": {
       "model_id": "5b69be72e6a44c11bc12d9c26a730520",
       "version_major": 2,
       "version_minor": 0
      },
      "text/plain": [
       "Epoch:   0%|          | 0/1 [00:00<?, ?it/s]"
      ]
     },
     "metadata": {},
     "output_type": "display_data"
    },
    {
     "data": {
      "application/vnd.jupyter.widget-view+json": {
       "model_id": "cbbe8b3da71243b9856646c2ead39523",
       "version_major": 2,
       "version_minor": 0
      },
      "text/plain": [
       "Iteration:   0%|          | 0/240 [00:00<?, ?it/s]"
      ]
     },
     "metadata": {},
     "output_type": "display_data"
    },
    {
     "name": "stderr",
     "output_type": "stream",
     "text": [
      "***** Running evaluation *****\n"
     ]
    },
    {
     "data": {
      "text/plain": [
       "{'accuracy': 0.591}"
      ]
     },
     "execution_count": 19,
     "metadata": {},
     "output_type": "execute_result"
    }
   ],
   "source": [
    "model = SetFitModel.from_pretrained(model_id)\n",
    "\n",
    "trainer = SetFitTrainer(\n",
    "    model=model,\n",
    "    train_dataset=augmented_dataset,\n",
    "    eval_dataset=reference_dataset[\"test\"]\n",
    ")\n",
    "trainer.train()\n",
    "augmented_metrics = trainer.evaluate()\n",
    "augmented_metrics"
   ]
  },
  {
   "cell_type": "markdown",
   "id": "2eda6232-1e3b-4cb3-872a-7a654d02d257",
   "metadata": {},
   "source": [
    "Great, this has given us a significant boost in performance and given us a few percentage points over the purely synthetic example. \n",
    "\n",
    "Let's plot the final results for comparison:"
   ]
  },
  {
   "cell_type": "code",
   "execution_count": 20,
   "id": "180beb46-cd71-4186-bd62-31e4fefb19bd",
   "metadata": {},
   "outputs": [],
   "source": [
    "import pandas as pd"
   ]
  },
  {
   "cell_type": "code",
   "execution_count": 33,
   "id": "bb2e90db-52f5-4378-85ac-d4205b870f2a",
   "metadata": {},
   "outputs": [
    {
     "data": {
      "text/html": [
       "<div>\n",
       "<style scoped>\n",
       "    .dataframe tbody tr th:only-of-type {\n",
       "        vertical-align: middle;\n",
       "    }\n",
       "\n",
       "    .dataframe tbody tr th {\n",
       "        vertical-align: top;\n",
       "    }\n",
       "\n",
       "    .dataframe thead th {\n",
       "        text-align: right;\n",
       "    }\n",
       "</style>\n",
       "<table border=\"1\" class=\"dataframe\">\n",
       "  <thead>\n",
       "    <tr style=\"text-align: right;\">\n",
       "      <th></th>\n",
       "      <th>Method</th>\n",
       "      <th>Accuracy</th>\n",
       "    </tr>\n",
       "  </thead>\n",
       "  <tbody>\n",
       "    <tr>\n",
       "      <th>0</th>\n",
       "      <td>Zero-shot Transformers</td>\n",
       "      <td>0.386</td>\n",
       "    </tr>\n",
       "    <tr>\n",
       "      <th>1</th>\n",
       "      <td>Zero-shot SetFit</td>\n",
       "      <td>0.537</td>\n",
       "    </tr>\n",
       "    <tr>\n",
       "      <th>2</th>\n",
       "      <td>Augmented SetFit</td>\n",
       "      <td>0.591</td>\n",
       "    </tr>\n",
       "  </tbody>\n",
       "</table>\n",
       "</div>"
      ],
      "text/plain": [
       "                   Method  Accuracy\n",
       "0  Zero-shot Transformers     0.386\n",
       "1        Zero-shot SetFit     0.537\n",
       "2        Augmented SetFit     0.591"
      ]
     },
     "execution_count": 33,
     "metadata": {},
     "output_type": "execute_result"
    }
   ],
   "source": [
    "import pandas as pd\n",
    "df = pd.DataFrame.from_dict({\"Method\":[\"Zero-shot Transformers\", \"Zero-shot SetFit\", \"Augmented SetFit\"], \"Accuracy\": [transformers_metrics[\"accuracy\"], zeroshot_metrics[\"accuracy\"], augmented_metrics[\"accuracy\"]]})\n",
    "df                                        "
   ]
  },
  {
   "cell_type": "code",
   "execution_count": 36,
   "id": "d3b756a4-3e23-4877-a63d-adb8de35510f",
   "metadata": {},
   "outputs": [
    {
     "data": {
      "image/png": "[encoded data removed]",
      "text/plain": [
       "<Figure size 640x480 with 1 Axes>"
      ]
     },
     "metadata": {},
     "output_type": "display_data"
    }
   ],
   "source": [
    "import matplotlib.pyplot as plt\n",
    "\n",
    "fig, ax = plt.subplots()\n",
    "df.plot(kind=\"barh\", x=\"Method\", ax=ax)\n",
    "plt.show()"
   ]
  },
  {
   "cell_type": "code",
   "execution_count": null,
   "id": "2184b2ca-ebfc-4499-8dbd-6ea9c6036bdf",
   "metadata": {},
   "outputs": [],
   "source": []
  }
 ],
 "metadata": {
  "kernelspec": {
   "display_name": "Python 3 (ipykernel)",
   "language": "python",
   "name": "python3"
  },
  "language_info": {
   "codemirror_mode": {
    "name": "ipython",
    "version": 3
   },
   "file_extension": ".py",
   "mimetype": "text/x-python",
   "name": "python",
   "nbconvert_exporter": "python",
   "pygments_lexer": "ipython3",
   "version": "3.10.6"
  }
 },
 "nbformat": 4,
 "nbformat_minor": 5
}
