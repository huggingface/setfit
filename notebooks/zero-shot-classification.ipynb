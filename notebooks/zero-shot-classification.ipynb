{
 "cells": [
  {
   "cell_type": "markdown",
   "id": "6f553cf6-868e-4e45-9663-0245789c959d",
   "metadata": {},
   "source": [
    "# Zero-shot Text Classification with SetFit"
   ]
  },
  {
   "cell_type": "markdown",
   "id": "79ea24b5-4d5b-4285-9797-15e1b8ea2350",
   "metadata": {},
   "source": [
    "Although SetFit was designed for few-shot learning, the method can also be applied in scenarios where no labeled data is available. The main trick is to create _synthetic examples_ that resemble the classification task, and then train a SetFit model on them. \n",
    "\n",
    "Remarkably, this simple technique typically outperforms the zero-shot pipeline in 🤗 Transformers, and can generate predictions by a factor of 5x (or more) faster!\n",
    "\n",
    "In this notebook, we'll explore how:\n",
    "\n",
    "* SetFit can be applied for zero-shot classification\n",
    "* Adding synthetic examples can also provide a performance boost to few-shot classification."
   ]
  },
  {
   "cell_type": "markdown",
   "id": "526b47c7-a78f-4dce-b740-3008de1b0d2a",
   "metadata": {
    "tags": []
   },
   "source": [
    "## Setup"
   ]
  },
  {
   "cell_type": "markdown",
   "id": "1e7c6e98-36f4-4d28-aaaf-3bb683a6736f",
   "metadata": {},
   "source": [
    "If you're running this Notebook on Colab or some other cloud platform, you will need to install the `setfit` library. Uncomment the following cell and run it:"
   ]
  },
  {
   "cell_type": "code",
   "execution_count": null,
   "id": "c4005543-bf83-48d2-864a-b89269878df1",
   "metadata": {},
   "outputs": [],
   "source": [
    "# %pip install setfit matplotlib"
   ]
  },
  {
   "cell_type": "markdown",
   "id": "270bed0d-5fd1-420e-97fb-147fd52d26b0",
   "metadata": {},
   "source": [
    "To benchmark the performance of the \"zero-shot\" method, we'll use the following dataset and pretrained model: "
   ]
  },
  {
   "cell_type": "code",
   "execution_count": 1,
   "id": "7c5c92ba-b74b-4275-8133-aada51a7522d",
   "metadata": {},
   "outputs": [],
   "source": [
    "dataset_id = \"emotion\"\n",
    "model_id = \"sentence-transformers/paraphrase-mpnet-base-v2\""
   ]
  },
  {
   "cell_type": "markdown",
   "id": "f1d0637d-7945-4c7f-ac16-abadfc027bbb",
   "metadata": {},
   "source": [
    "Next, we'll download the reference dataset from the Hugging Face Hub:"
   ]
  },
  {
   "cell_type": "code",
   "execution_count": 2,
   "id": "1cbcc6f0-da7d-4e3d-9ae4-f78cc83f0e8e",
   "metadata": {},
   "outputs": [
    {
     "name": "stderr",
     "output_type": "stream",
     "text": [
      "Using custom data configuration default\n",
      "Reusing dataset emotion (/home/lewis/.cache/huggingface/datasets/emotion/default/0.0.0/348f63ca8e27b3713b6c04d723efe6d824a56fb3d1449794716c0f0296072705)\n"
     ]
    },
    {
     "data": {
      "application/vnd.jupyter.widget-view+json": {
       "model_id": "0fe5dce78cbe449baa4b3e3d6b6c579e",
       "version_major": 2,
       "version_minor": 0
      },
      "text/plain": [
       "  0%|          | 0/3 [00:00<?, ?it/s]"
      ]
     },
     "metadata": {},
     "output_type": "display_data"
    },
    {
     "data": {
      "text/plain": [
       "DatasetDict({\n",
       "    train: Dataset({\n",
       "        features: ['text', 'label'],\n",
       "        num_rows: 16000\n",
       "    })\n",
       "    validation: Dataset({\n",
       "        features: ['text', 'label'],\n",
       "        num_rows: 2000\n",
       "    })\n",
       "    test: Dataset({\n",
       "        features: ['text', 'label'],\n",
       "        num_rows: 2000\n",
       "    })\n",
       "})"
      ]
     },
     "execution_count": 2,
     "metadata": {},
     "output_type": "execute_result"
    }
   ],
   "source": [
    "from datasets import load_dataset\n",
    "\n",
    "reference_dataset = load_dataset(dataset_id)\n",
    "reference_dataset"
   ]
  },
  {
   "cell_type": "markdown",
   "id": "81207762-1226-4229-b276-ae2a48e94ceb",
   "metadata": {},
   "source": [
    "Now that we're set up, let's create some synthetic data to train on!"
   ]
  },
  {
   "cell_type": "markdown",
   "id": "1e5a6fef-b903-450f-8416-07ecdc679a6f",
   "metadata": {},
   "source": [
    "## Creating a synthetic dataset"
   ]
  },
  {
   "cell_type": "markdown",
   "id": "806fcdc4-f12c-47db-b84f-51a98af5920f",
   "metadata": {},
   "source": [
    "The first thing we need to do is create a dataset of synthetic examples. In `setfit`, we can do this by applying the `add_templated_examples()` function to a dummy dataset. This function expects a few main things:\n",
    "\n",
    "* A list of candidate labels to classify with. We'll use the labels from the reference dataset here, but this could be anything that's relevant to the task and dataset at hand.\n",
    "* A template to generate examples with. By default, it is `\"This sentence is {}\"`, where the `{}` will be filled by one of the candidate labels\n",
    "* A sample size $N$, which will create $N$ synthetic examples per class. We find $N=8$ usually works best.\n",
    "\n",
    "Armed with this information, let's first extract some candidate labels from the dataset:"
   ]
  },
  {
   "cell_type": "code",
   "execution_count": 3,
   "id": "a1118625-584e-46d4-8c79-087b05fef641",
   "metadata": {},
   "outputs": [
    {
     "data": {
      "text/plain": [
       "['sadness', 'joy', 'love', 'anger', 'fear', 'surprise']"
      ]
     },
     "execution_count": 3,
     "metadata": {},
     "output_type": "execute_result"
    }
   ],
   "source": [
    "# Extract ClassLabel feature from \"label\" column\n",
    "label_features = reference_dataset[\"train\"].features[\"label\"]\n",
    "# Label names to classify with\n",
    "candidate_labels = label_features.names\n",
    "candidate_labels"
   ]
  },
  {
   "cell_type": "markdown",
   "id": "d1822652-318c-41a9-8707-3c327ac1458b",
   "metadata": {},
   "source": [
    "**Note:** some datasets on the Hugging Face Hub don't have a `ClassLabel` feature for the label column. In these cases, you should compute the candidate labels manually by first computing the id2label mapping as follows:\n",
    "\n",
    "```python\n",
    "def get_id2label(dataset):\n",
    "    # The column with the label names\n",
    "    label_names = dataset.unique(\"label_text\")\n",
    "    # The column with the label IDs\n",
    "    label_ids = dataset.unique(\"label\")\n",
    "    id2label = dict(zip(label_ids, label_names))\n",
    "    # Sort by label ID\n",
    "    return {key: val for key, val in sorted(id2label.items(), key = lambda x: x[0])}\n",
    "\n",
    "id2label = get_id2label(reference_dataset[\"train\"])\n",
    "candidate_labels = list(id2label.values())\n",
    "```"
   ]
  },
  {
   "cell_type": "markdown",
   "id": "3b27aae7-5bb9-47ae-9e11-c29bab8099f1",
   "metadata": {},
   "source": [
    "Now that we have the labels, it's a simple matter to create synthetic examples:"
   ]
  },
  {
   "cell_type": "code",
   "execution_count": 4,
   "id": "03d87964-3361-4e03-8119-15034a5ef869",
   "metadata": {},
   "outputs": [
    {
     "data": {
      "text/plain": [
       "Dataset({\n",
       "    features: ['text', 'label'],\n",
       "    num_rows: 48\n",
       "})"
      ]
     },
     "execution_count": 4,
     "metadata": {},
     "output_type": "execute_result"
    }
   ],
   "source": [
    "from datasets import Dataset\n",
    "from setfit import add_templated_examples\n",
    "\n",
    "# A dummy dataset to fill with synthetic examples\n",
    "dummy_dataset = Dataset.from_dict({})\n",
    "train_dataset = add_templated_examples(dummy_dataset, candidate_labels=candidate_labels, sample_size=8)\n",
    "train_dataset"
   ]
  },
  {
   "cell_type": "markdown",
   "id": "cb2325b6-5d17-46ae-8b65-149b7e49353c",
   "metadata": {},
   "source": [
    "**Tip:** you might find you can get better performance by tweaking the `template` argument from the default of `\"The sentence is {}\"` to variants like `\"This sentence is {}\"` or `\"This example is {}\"`."
   ]
  },
  {
   "cell_type": "markdown",
   "id": "ffc404c4-07fb-46a7-9684-3752d3e29946",
   "metadata": {},
   "source": [
    "Since our dataset has 6 classes and we chose a sample size of 8, our synthetic dataset contains $6\\times 8=48$ examples. If we take a look at a few of the examples:"
   ]
  },
  {
   "cell_type": "code",
   "execution_count": 5,
   "id": "6540a7a1-04d8-45aa-ae09-be8c736ffaee",
   "metadata": {},
   "outputs": [
    {
     "data": {
      "text/plain": [
       "{'text': ['This sentence is love',\n",
       "  'This sentence is fear',\n",
       "  'This sentence is joy'],\n",
       " 'label': [2, 4, 1]}"
      ]
     },
     "execution_count": 5,
     "metadata": {},
     "output_type": "execute_result"
    }
   ],
   "source": [
    "train_dataset.shuffle()[:3]"
   ]
  },
  {
   "cell_type": "markdown",
   "id": "85a0d010-389a-4bc1-aaef-4814c0c96e45",
   "metadata": {},
   "source": [
    "we can see that each input takes the form of the template and has a corresponding label associated with it. \n",
    "\n",
    "Let's not train a SetFit model on these examples!"
   ]
  },
  {
   "cell_type": "markdown",
   "id": "bfb02947-56f5-4999-a2cb-c736890ab799",
   "metadata": {},
   "source": [
    "## Fine-tuning the model"
   ]
  },
  {
   "cell_type": "markdown",
   "id": "157ce26c-ecf9-41c7-8f52-4aadeea97df4",
   "metadata": {},
   "source": [
    "To train a SetFit model, the first thing to do is download a pretrained checkpoint from the Hub. We can do so by using the `from_pretrained()` method associated with the `SetFitModel` class:"
   ]
  },
  {
   "cell_type": "code",
   "execution_count": 6,
   "id": "0aa2c903-86ef-47a5-a812-951c39b6deb2",
   "metadata": {},
   "outputs": [
    {
     "name": "stderr",
     "output_type": "stream",
     "text": [
      "model_head.pkl not found on HuggingFace Hub, initialising classification head with random weights. You should TRAIN this model on a downstream task to use it for predictions and inference.\n"
     ]
    }
   ],
   "source": [
    "from setfit import SetFitModel\n",
    "\n",
    "model = SetFitModel.from_pretrained(model_id)"
   ]
  },
  {
   "cell_type": "markdown",
   "id": "8ac28218-16cd-4b59-908c-30b41a0a7427",
   "metadata": {},
   "source": [
    "Here, we've downloaded a pretrained Sentence Transformer from the Hub and added a logistic classification head to the create the SetFit model. As indicated in the message, we need to train this model on some labeled examples. We can do so by using the `SetFitTrainer` class as follows:"
   ]
  },
  {
   "cell_type": "code",
   "execution_count": 7,
   "id": "73a6e674-67ae-41b7-8743-0ae134998814",
   "metadata": {},
   "outputs": [],
   "source": [
    "from setfit import SetFitTrainer\n",
    "\n",
    "trainer = SetFitTrainer(\n",
    "    model=model,\n",
    "    train_dataset=train_dataset,\n",
    "    eval_dataset=reference_dataset[\"test\"]\n",
    ")"
   ]
  },
  {
   "cell_type": "markdown",
   "id": "473f9fd4-1240-426d-baa4-810c2af08796",
   "metadata": {},
   "source": [
    "Now that we've created a trainer, we can train it! While we're at it, let's time how long it takes to train and evaluate the model:"
   ]
  },
  {
   "cell_type": "code",
   "execution_count": 8,
   "id": "901adf79-9275-4c41-bc3f-2813631be7e6",
   "metadata": {},
   "outputs": [
    {
     "name": "stderr",
     "output_type": "stream",
     "text": [
      "***** Running training *****\n",
      "  Num examples = 1920\n",
      "  Num epochs = 1\n",
      "  Total optimization steps = 120\n",
      "  Total train batch size = 16\n"
     ]
    },
    {
     "data": {
      "application/vnd.jupyter.widget-view+json": {
       "model_id": "e4bf4b5036ff489c916454cc62c42476",
       "version_major": 2,
       "version_minor": 0
      },
      "text/plain": [
       "Epoch:   0%|          | 0/1 [00:00<?, ?it/s]"
      ]
     },
     "metadata": {},
     "output_type": "display_data"
    },
    {
     "data": {
      "application/vnd.jupyter.widget-view+json": {
       "model_id": "fc97df17dbd44dadad6754605dbf36a5",
       "version_major": 2,
       "version_minor": 0
      },
      "text/plain": [
       "Iteration:   0%|          | 0/120 [00:00<?, ?it/s]"
      ]
     },
     "metadata": {},
     "output_type": "display_data"
    },
    {
     "name": "stderr",
     "output_type": "stream",
     "text": [
      "***** Running evaluation *****\n"
     ]
    },
    {
     "name": "stdout",
     "output_type": "stream",
     "text": [
      "CPU times: user 12.9 s, sys: 2.37 s, total: 15.2 s\n",
      "Wall time: 11 s\n"
     ]
    },
    {
     "data": {
      "text/plain": [
       "{'accuracy': 0.5345}"
      ]
     },
     "execution_count": 8,
     "metadata": {},
     "output_type": "execute_result"
    }
   ],
   "source": [
    "%%time\n",
    "trainer.train()\n",
    "zeroshot_metrics = trainer.evaluate()\n",
    "zeroshot_metrics"
   ]
  },
  {
   "cell_type": "markdown",
   "id": "7d291100-eb27-4a33-90d2-3762783b58b8",
   "metadata": {},
   "source": [
    "Great, now that we have a reference score let's compare against the zero-shot pipeline from 🤗 Transformers."
   ]
  },
  {
   "cell_type": "markdown",
   "id": "2803d060-e2a3-4d8a-9ff3-41e447cf9ecd",
   "metadata": {},
   "source": [
    "## Comparing against the zero-shot pipeline from 🤗 Transformers"
   ]
  },
  {
   "cell_type": "markdown",
   "id": "59cf81d8-0389-4d9b-b05f-9c36f0564eee",
   "metadata": {},
   "source": [
    "🤗 Transformers provides a zero-shot pipeline that frames text classification as a natural language inference task. Let's load the pipeline and place it on the GPU for fast inference: "
   ]
  },
  {
   "cell_type": "code",
   "execution_count": 9,
   "id": "54c513a8-b27f-4d4c-817a-66faef82127c",
   "metadata": {},
   "outputs": [
    {
     "name": "stderr",
     "output_type": "stream",
     "text": [
      "No model was supplied, defaulted to facebook/bart-large-mnli and revision c626438 (https://huggingface.co/facebook/bart-large-mnli).\n",
      "Using a pipeline without specifying a model name and revision in production is not recommended.\n"
     ]
    }
   ],
   "source": [
    "from transformers import pipeline\n",
    "\n",
    "pipe = pipeline(\"zero-shot-classification\", device=0)"
   ]
  },
  {
   "cell_type": "markdown",
   "id": "9b016081-4bcb-4574-83b2-64ec5fdb7142",
   "metadata": {},
   "source": [
    "Now that we have the model, let's generate some predictions. We'll use the same candidate labels as we did with SetFit and increase the batch size for to speed things up: "
   ]
  },
  {
   "cell_type": "code",
   "execution_count": 10,
   "id": "d953c43f-3374-41e1-a0e7-1faa002e2d2f",
   "metadata": {},
   "outputs": [
    {
     "name": "stdout",
     "output_type": "stream",
     "text": [
      "CPU times: user 1min 10s, sys: 166 ms, total: 1min 11s\n",
      "Wall time: 53.1 s\n"
     ]
    }
   ],
   "source": [
    "%%time\n",
    "zeroshot_preds = pipe(reference_dataset[\"test\"][\"text\"], batch_size=16, candidate_labels=candidate_labels)"
   ]
  },
  {
   "cell_type": "markdown",
   "id": "ec36e37c-feb4-49fa-9912-786e183e67be",
   "metadata": {},
   "source": [
    "Note that this took almost 5x longer to generate predictions than SetFit! OK, so how well does it perform? Since each prediction is a dictionary of label names ranked by score:"
   ]
  },
  {
   "cell_type": "code",
   "execution_count": 11,
   "id": "7242e190-85cf-4bbc-927e-40fa724d17af",
   "metadata": {},
   "outputs": [
    {
     "data": {
      "text/plain": [
       "{'sequence': 'im feeling rather rotten so im not very ambitious right now',\n",
       " 'labels': ['sadness', 'anger', 'surprise', 'fear', 'joy', 'love'],\n",
       " 'scores': [0.7367985844612122,\n",
       "  0.10041674226522446,\n",
       "  0.09770156443119049,\n",
       "  0.05880110710859299,\n",
       "  0.004266355652362108,\n",
       "  0.0020156768150627613]}"
      ]
     },
     "execution_count": 11,
     "metadata": {},
     "output_type": "execute_result"
    }
   ],
   "source": [
    "zeroshot_preds[0]"
   ]
  },
  {
   "cell_type": "markdown",
   "id": "01c7c784-3896-483f-bc60-43373a38b4ed",
   "metadata": {},
   "source": [
    "we can use the `str2int()` function from the `label` column to convert them to integers. "
   ]
  },
  {
   "cell_type": "code",
   "execution_count": 12,
   "id": "24581915-49ce-43ba-963a-6bf932fb6f10",
   "metadata": {},
   "outputs": [],
   "source": [
    "preds = [label_features.str2int(pred[\"labels\"][0]) for pred in zeroshot_preds]"
   ]
  },
  {
   "cell_type": "markdown",
   "id": "12e56632-d61e-42e4-80e7-9b31b9a4d4e6",
   "metadata": {},
   "source": [
    "**Note:** As noted earlier, if you're using a dataset that doesn't have a `ClassLabel` feature for the label column, you'll need to compute the label mapping manually with something like:\n",
    "\n",
    "```python\n",
    "id2label = get_id2label(reference_dataset[\"train\"])\n",
    "label2id = {v:k for k,v in id2label.items()}\n",
    "preds = [label2id[pred[\"labels\"][0]] for pred in zeroshot_preds]\n",
    "```"
   ]
  },
  {
   "cell_type": "markdown",
   "id": "95e97c33-d1e1-442c-be60-e5268d3a4e56",
   "metadata": {},
   "source": [
    "The last step is to compute accuracy using 🤗 Evaluate:"
   ]
  },
  {
   "cell_type": "code",
   "execution_count": 13,
   "id": "d87a7c64-326b-45db-b984-1e99a9bc3c9f",
   "metadata": {},
   "outputs": [
    {
     "data": {
      "text/plain": [
       "{'accuracy': 0.3765}"
      ]
     },
     "execution_count": 13,
     "metadata": {},
     "output_type": "execute_result"
    }
   ],
   "source": [
    "import evaluate\n",
    "\n",
    "metric = evaluate.load(\"accuracy\")\n",
    "transformers_metrics = metric.compute(predictions=preds, references=reference_dataset[\"test\"][\"label\"])\n",
    "transformers_metrics"
   ]
  },
  {
   "cell_type": "markdown",
   "id": "ce87fdf0-dbbd-4fa8-81c6-89c417861ea4",
   "metadata": {},
   "source": [
    "Compared to SetFit, this approach performs significantly worse. Let's wrap up our analysis by combining synthetic examples with a few labeled ones."
   ]
  },
  {
   "cell_type": "markdown",
   "id": "1fd008c8-149b-48d1-9111-4b9969d0fc60",
   "metadata": {},
   "source": [
    "## Augmenting labeled data with synthetic examples"
   ]
  },
  {
   "cell_type": "markdown",
   "id": "95445860-3ff8-4bdf-a115-b3ed4440319d",
   "metadata": {},
   "source": [
    "If you have a few labeled examples, adding synthetic data can often boost performance. To simulate this, let's first sample 8 labeled examples from our reference dataset:"
   ]
  },
  {
   "cell_type": "code",
   "execution_count": 14,
   "id": "d49bb5f2-ab4f-493e-ac6c-a7c959244ca7",
   "metadata": {},
   "outputs": [
    {
     "name": "stderr",
     "output_type": "stream",
     "text": [
      "Loading cached shuffled indices for dataset at /home/lewis/.cache/huggingface/datasets/emotion/default/0.0.0/348f63ca8e27b3713b6c04d723efe6d824a56fb3d1449794716c0f0296072705/cache-5cdfbd5e800ffaf7.arrow\n",
      "Parameter 'function'=<function sample_dataset.<locals>.<lambda> at 0x7f2a0fa8be20> of the transform datasets.arrow_dataset.Dataset.filter@2.0.1 couldn't be hashed properly, a random hash was used instead. Make sure your transforms and parameters are serializable with pickle or dill for the dataset fingerprinting and caching to work. If you reuse this transform, the caching mechanism will consider it to be different from the previous calls and recompute everything. This warning is only showed once. Subsequent hashing failures won't be showed.\n"
     ]
    },
    {
     "data": {
      "application/vnd.jupyter.widget-view+json": {
       "model_id": "cff710766b24402f85ca868c4817561b",
       "version_major": 2,
       "version_minor": 0
      },
      "text/plain": [
       "  0%|          | 0/16 [00:00<?, ?ba/s]"
      ]
     },
     "metadata": {},
     "output_type": "display_data"
    },
    {
     "data": {
      "application/vnd.jupyter.widget-view+json": {
       "model_id": "703ef48749514127823ebda52fc02358",
       "version_major": 2,
       "version_minor": 0
      },
      "text/plain": [
       "  0%|          | 0/16 [00:00<?, ?ba/s]"
      ]
     },
     "metadata": {},
     "output_type": "display_data"
    },
    {
     "data": {
      "application/vnd.jupyter.widget-view+json": {
       "model_id": "7853fcb1fd78478ca286d81682b4983f",
       "version_major": 2,
       "version_minor": 0
      },
      "text/plain": [
       "  0%|          | 0/16 [00:00<?, ?ba/s]"
      ]
     },
     "metadata": {},
     "output_type": "display_data"
    },
    {
     "data": {
      "application/vnd.jupyter.widget-view+json": {
       "model_id": "7f02463755e14214915c392f0db02578",
       "version_major": 2,
       "version_minor": 0
      },
      "text/plain": [
       "  0%|          | 0/16 [00:00<?, ?ba/s]"
      ]
     },
     "metadata": {},
     "output_type": "display_data"
    },
    {
     "data": {
      "application/vnd.jupyter.widget-view+json": {
       "model_id": "97f3b7a083b342bfa5b1e09102694f54",
       "version_major": 2,
       "version_minor": 0
      },
      "text/plain": [
       "  0%|          | 0/16 [00:00<?, ?ba/s]"
      ]
     },
     "metadata": {},
     "output_type": "display_data"
    },
    {
     "data": {
      "application/vnd.jupyter.widget-view+json": {
       "model_id": "6d1da11574ef461fad8ab7e1ff948eb7",
       "version_major": 2,
       "version_minor": 0
      },
      "text/plain": [
       "  0%|          | 0/16 [00:00<?, ?ba/s]"
      ]
     },
     "metadata": {},
     "output_type": "display_data"
    },
    {
     "data": {
      "text/plain": [
       "Dataset({\n",
       "    features: ['text', 'label'],\n",
       "    num_rows: 48\n",
       "})"
      ]
     },
     "execution_count": 14,
     "metadata": {},
     "output_type": "execute_result"
    }
   ],
   "source": [
    "from setfit import sample_dataset\n",
    "\n",
    "train_dataset = sample_dataset(reference_dataset[\"train\"])\n",
    "train_dataset"
   ]
  },
  {
   "cell_type": "markdown",
   "id": "90c41149-2d94-4bda-9880-b589de97c619",
   "metadata": {},
   "source": [
    "To warm up, we'll train a SetFit model on these true labels:"
   ]
  },
  {
   "cell_type": "code",
   "execution_count": 15,
   "id": "74d8308d-66d1-4eaa-b498-9b0e8b91b5e3",
   "metadata": {},
   "outputs": [
    {
     "name": "stderr",
     "output_type": "stream",
     "text": [
      "model_head.pkl not found on HuggingFace Hub, initialising classification head with random weights. You should TRAIN this model on a downstream task to use it for predictions and inference.\n",
      "***** Running training *****\n",
      "  Num examples = 1920\n",
      "  Num epochs = 1\n",
      "  Total optimization steps = 120\n",
      "  Total train batch size = 16\n"
     ]
    },
    {
     "data": {
      "application/vnd.jupyter.widget-view+json": {
       "model_id": "e4fa75f761e640c68ab1c9cf24139d0e",
       "version_major": 2,
       "version_minor": 0
      },
      "text/plain": [
       "Epoch:   0%|          | 0/1 [00:00<?, ?it/s]"
      ]
     },
     "metadata": {},
     "output_type": "display_data"
    },
    {
     "data": {
      "application/vnd.jupyter.widget-view+json": {
       "model_id": "f2e58ccccf9d494aafa169b8058a3855",
       "version_major": 2,
       "version_minor": 0
      },
      "text/plain": [
       "Iteration:   0%|          | 0/120 [00:00<?, ?it/s]"
      ]
     },
     "metadata": {},
     "output_type": "display_data"
    },
    {
     "name": "stderr",
     "output_type": "stream",
     "text": [
      "***** Running evaluation *****\n"
     ]
    },
    {
     "data": {
      "text/plain": [
       "{'accuracy': 0.4705}"
      ]
     },
     "execution_count": 15,
     "metadata": {},
     "output_type": "execute_result"
    }
   ],
   "source": [
    "model = SetFitModel.from_pretrained(model_id)\n",
    "\n",
    "trainer = SetFitTrainer(\n",
    "    model=model,\n",
    "    train_dataset=train_dataset,\n",
    "    eval_dataset=reference_dataset[\"test\"]\n",
    ")\n",
    "trainer.train()\n",
    "fewshot_metrics = trainer.evaluate()\n",
    "fewshot_metrics"
   ]
  },
  {
   "cell_type": "markdown",
   "id": "fe548576-b257-466e-9cdd-b12432729ce3",
   "metadata": {},
   "source": [
    "Note that for this particular dataset, the performance with true labels is _worse_ than training on synthetic examples! In our experiments, we found that the difference depends strongly on the dataset in question. Since SetFit models are fast to train, you can always try both approaches and pick the best one.\n",
    "\n",
    "In any case, let's now add some synthetic examples to our training set:"
   ]
  },
  {
   "cell_type": "code",
   "execution_count": 16,
   "id": "1efe7562-74a6-4aa5-915f-ef76623b7783",
   "metadata": {},
   "outputs": [
    {
     "data": {
      "text/plain": [
       "Dataset({\n",
       "    features: ['text', 'label'],\n",
       "    num_rows: 96\n",
       "})"
      ]
     },
     "execution_count": 16,
     "metadata": {},
     "output_type": "execute_result"
    }
   ],
   "source": [
    "augmented_dataset = add_templated_examples(train_dataset, candidate_labels=candidate_labels, sample_size=8)\n",
    "augmented_dataset"
   ]
  },
  {
   "cell_type": "markdown",
   "id": "b7ab8285-72a2-495b-813c-b3251f9a3597",
   "metadata": {},
   "source": [
    "As before, we can train and evaluate SetFit with the augmented dataset:"
   ]
  },
  {
   "cell_type": "code",
   "execution_count": 17,
   "id": "93ca49dd-198f-4631-a621-d59010efcfbd",
   "metadata": {},
   "outputs": [
    {
     "name": "stderr",
     "output_type": "stream",
     "text": [
      "model_head.pkl not found on HuggingFace Hub, initialising classification head with random weights. You should TRAIN this model on a downstream task to use it for predictions and inference.\n",
      "***** Running training *****\n",
      "  Num examples = 3840\n",
      "  Num epochs = 1\n",
      "  Total optimization steps = 240\n",
      "  Total train batch size = 16\n"
     ]
    },
    {
     "data": {
      "application/vnd.jupyter.widget-view+json": {
       "model_id": "ddc9d932ed774676880d4e8316069a3b",
       "version_major": 2,
       "version_minor": 0
      },
      "text/plain": [
       "Epoch:   0%|          | 0/1 [00:00<?, ?it/s]"
      ]
     },
     "metadata": {},
     "output_type": "display_data"
    },
    {
     "data": {
      "application/vnd.jupyter.widget-view+json": {
       "model_id": "72d6f08345654bdfb4867f216f054a7d",
       "version_major": 2,
       "version_minor": 0
      },
      "text/plain": [
       "Iteration:   0%|          | 0/240 [00:00<?, ?it/s]"
      ]
     },
     "metadata": {},
     "output_type": "display_data"
    },
    {
     "name": "stderr",
     "output_type": "stream",
     "text": [
      "***** Running evaluation *****\n"
     ]
    },
    {
     "data": {
      "text/plain": [
       "{'accuracy': 0.613}"
      ]
     },
     "execution_count": 17,
     "metadata": {},
     "output_type": "execute_result"
    }
   ],
   "source": [
    "model = SetFitModel.from_pretrained(model_id)\n",
    "\n",
    "trainer = SetFitTrainer(\n",
    "    model=model,\n",
    "    train_dataset=augmented_dataset,\n",
    "    eval_dataset=reference_dataset[\"test\"]\n",
    ")\n",
    "trainer.train()\n",
    "augmented_metrics = trainer.evaluate()\n",
    "augmented_metrics"
   ]
  },
  {
   "cell_type": "markdown",
   "id": "2eda6232-1e3b-4cb3-872a-7a654d02d257",
   "metadata": {},
   "source": [
    "Great, this has given us a significant boost in performance and given us a few percentage points over the purely synthetic example. \n",
    "\n",
    "Let's plot the final results for comparison:"
   ]
  },
  {
   "cell_type": "code",
   "execution_count": 18,
   "id": "bb2e90db-52f5-4378-85ac-d4205b870f2a",
   "metadata": {},
   "outputs": [
    {
     "data": {
      "image/png": "[encoded data removed]",
      "text/plain": [
       "<Figure size 640x480 with 1 Axes>"
      ]
     },
     "metadata": {},
     "output_type": "display_data"
    }
   ],
   "source": [
    "import pandas as pd\n",
    "\n",
    "df = pd.DataFrame.from_dict({\"Method\":[\"Transformers (zero-shot)\", \"SetFit (zero-shot)\", \"SetFit (augmented)\"], \"Accuracy\": [transformers_metrics[\"accuracy\"], zeroshot_metrics[\"accuracy\"], augmented_metrics[\"accuracy\"]]})\n",
    "df.plot(kind=\"barh\", x=\"Method\");                                       "
   ]
  }
 ],
 "metadata": {
  "kernelspec": {
   "display_name": "Python 3 (ipykernel)",
   "language": "python",
   "name": "python3"
  },
  "language_info": {
   "codemirror_mode": {
    "name": "ipython",
    "version": 3
   },
   "file_extension": ".py",
   "mimetype": "text/x-python",
   "name": "python",
   "nbconvert_exporter": "python",
   "pygments_lexer": "ipython3",
   "version": "3.10.6"
  }
 },
 "nbformat": 4,
 "nbformat_minor": 5
}
