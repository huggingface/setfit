{
 "cells": [
  {
   "cell_type": "markdown",
   "id": "76571396-8f54-40ed-9e81-6c7531e6eaee",
   "metadata": {
    "id": "76571396-8f54-40ed-9e81-6c7531e6eaee"
   },
   "source": [
    "# Efficiently run SetFit Models with Optimum"
   ]
  },
  {
   "cell_type": "code",
   "execution_count": 6,
   "id": "ead5bfb5",
   "metadata": {},
   "outputs": [],
   "source": [
    "# Run this notebook using `numactl`` to gain better control on which resources you are running. \n",
    "# It is best to run on a single socket.\n",
    "\n",
    "# NUM_THREADS=<NUM_AVAILABLE_CORES>\n",
    "# OMP_NUM_THREADS=$NUM_THREADS numactl -C 0-\"$(($NUM_THREADS-1))\" -m 0 jupyter notebook"
   ]
  },
  {
   "cell_type": "code",
   "execution_count": 7,
   "id": "e1e4e4c6",
   "metadata": {},
   "outputs": [],
   "source": [
    "!python -m pip install matplotlib -qqq"
   ]
  },
  {
   "cell_type": "code",
   "execution_count": 8,
   "id": "55756fec-fc22-4590-84d7-2f3df37b9256",
   "metadata": {
    "id": "55756fec-fc22-4590-84d7-2f3df37b9256"
   },
   "outputs": [],
   "source": [
    "from pathlib import Path\n",
    "from time import perf_counter\n",
    "import os\n",
    "\n",
    "import evaluate\n",
    "import numpy as np\n",
    "import torch\n",
    "from torch.utils.data import DataLoader\n",
    "\n",
    "metric = evaluate.load(\"accuracy\")\n",
    "\n",
    "os.environ[\"TOKENIZERS_PARALLELISM\"] = \"false\"\n",
    "\n",
    "class PerformanceBenchmark:\n",
    "    def __init__(self, model, dataset, optim_type):\n",
    "        self.model = model\n",
    "        self.dataset = dataset\n",
    "        self.optim_type = optim_type\n",
    "        self.enable_autocast = 'optimum' in self.optim_type.lower()\n",
    "        \n",
    "    def compute_accuracy(self):\n",
    "        with torch.cpu.amp.autocast(enabled=self.enable_autocast):\n",
    "            preds = self.model.predict(self.dataset[\"text\"])\n",
    "        labels = self.dataset[\"label\"]\n",
    "        accuracy = metric.compute(predictions=preds, references=labels)\n",
    "        print(f\"Accuracy on test set - {accuracy['accuracy']:.3f}\")\n",
    "        return accuracy\n",
    "\n",
    "    def compute_size(self):\n",
    "        state_dict = self.model.model_body.state_dict()\n",
    "        tmp_path = Path(\"model.pt\")\n",
    "        torch.save(state_dict, tmp_path)\n",
    "        # Calculate size in megabytes\n",
    "        size_mb = Path(tmp_path).stat().st_size / (1024 * 1024)\n",
    "        # Delete temporary file\n",
    "        tmp_path.unlink()\n",
    "        print(f\"Model size (MB) - {size_mb:.2f}\")\n",
    "        return {\"size_mb\": size_mb}\n",
    "\n",
    "    def compute_latency(self, query=\"that loves its characters and communicates something rather beautiful about human nature\"):\n",
    "        latencies = []\n",
    "        # Warmup\n",
    "        for _ in range(10):\n",
    "            with torch.no_grad(), torch.cpu.amp.autocast(enabled=self.enable_autocast):\n",
    "                _ = self.model([query])\n",
    "        # Timed run\n",
    "        for _ in range(1000):\n",
    "            start_time = perf_counter()\n",
    "            with torch.no_grad(), torch.cpu.amp.autocast(enabled=self.enable_autocast):\n",
    "                _ = self.model([query])\n",
    "            latency = perf_counter() - start_time\n",
    "            latencies.append(latency)\n",
    "        # Compute run statistics\n",
    "        time_avg_ms = 1000 * np.mean(latencies)\n",
    "        time_std_ms = 1000 * np.std(latencies)\n",
    "        print(rf\"Average latency (ms) - {time_avg_ms:.2f} +\\- {time_std_ms:.2f}\")\n",
    "        return {\"time_avg_ms\": time_avg_ms, \"time_std_ms\": time_std_ms}\n",
    "\n",
    "    def compute_throughput(self, batch_sizes=[64, 512, 8192]):\n",
    "        results = {}\n",
    "        num_iters = 5\n",
    "        replications = int((max(batch_sizes) * (num_iters + 1)) / len(self.dataset))\n",
    "        replicated_ds = (self.dataset[\"text\"] * replications)[:max(batch_sizes) * num_iters]\n",
    "\n",
    "        s = \"\"\n",
    "        for batch_size in batch_sizes:\n",
    "            print(f\"Batch size: {batch_size}\")\n",
    "            \n",
    "            throughputs = []\n",
    "            dataloader = iter(DataLoader(replicated_ds, batch_size=batch_size))\n",
    "            # Warmup\n",
    "            for _ in range(2):\n",
    "                with torch.no_grad(), torch.cpu.amp.autocast(enabled=self.enable_autocast):\n",
    "                    _ = self.model(next(dataloader))\n",
    "\n",
    "            dataloader = iter(DataLoader(replicated_ds, batch_size=batch_size))\n",
    "            # Timed run\n",
    "            num_loops = num_iters * (max(batch_sizes) / batch_size)\n",
    "            assert int(num_loops) == num_loops\n",
    "            \n",
    "            for _ in range(int(num_loops)):\n",
    "                start_time = perf_counter()\n",
    "                with torch.no_grad(), torch.cpu.amp.autocast(enabled=self.enable_autocast):\n",
    "                    _ = self.model(next(dataloader))\n",
    "                latency =  perf_counter() - start_time\n",
    "                throughputs.append(batch_size / latency)\n",
    "                \n",
    "            # Compute run statistics\n",
    "            avg_throughput = np.mean(throughputs)\n",
    "            std_throughput = np.std(throughputs)\n",
    "            print(rf\"Average throughput (bs={batch_size}) (samples/second): {avg_throughput:.2f} +\\- {std_throughput:.2f}\\n\")\n",
    "            results[f\"throughput_avg_{batch_size}\"] = avg_throughput\n",
    "            results[f\"throughput_std_{batch_size}\"] = std_throughput\n",
    "        return results\n",
    "        \n",
    "    def run_benchmark(self):\n",
    "        metrics = {self.optim_type: {}}\n",
    "        metrics[self.optim_type].update(self.compute_size())\n",
    "        metrics[self.optim_type].update(self.compute_accuracy())\n",
    "        metrics[self.optim_type].update(self.compute_latency())\n",
    "        metrics[self.optim_type].update(self.compute_throughput())\n",
    "        return metrics"
   ]
  },
  {
   "cell_type": "code",
   "execution_count": 9,
   "id": "PurksLh3qcBa",
   "metadata": {
    "id": "PurksLh3qcBa"
   },
   "outputs": [],
   "source": [
    "import matplotlib.pyplot as plt\n",
    "import pandas as pd\n",
    "\n",
    "def plot_metrics(perf_metrics):\n",
    "    df = pd.DataFrame.from_dict(perf_metrics, orient=\"index\")\n",
    "\n",
    "    for idx in df.index:\n",
    "        df_opt = df.loc[idx]\n",
    "        plt.errorbar(\n",
    "            df_opt[\"time_avg_ms\"],\n",
    "            df_opt[\"accuracy\"] * 100,\n",
    "            xerr=df_opt[\"time_std_ms\"],\n",
    "            fmt=\"o\",\n",
    "            alpha=0.5,\n",
    "            ms=df_opt[\"size_mb\"] / 15,\n",
    "            label=idx,\n",
    "            capsize=5,\n",
    "            capthick=1,\n",
    "        )\n",
    "\n",
    "    legend = plt.legend(loc=\"lower right\")\n",
    "\n",
    "    plt.ylim(63, 95)\n",
    "    # Use the slowest model to define the x-axis range\n",
    "    xlim = max([metrics[\"time_avg_ms\"] for metrics in perf_metrics.values()]) * 1.3\n",
    "    plt.xlim(0, xlim)\n",
    "    plt.ylabel(\"Accuracy (%)\")\n",
    "    plt.xlabel(\"Average latency with batch_size=1 (ms)\")\n",
    "    plt.show()"
   ]
  },
  {
   "cell_type": "code",
   "execution_count": 10,
   "id": "u-w99Y2qW4lU",
   "metadata": {
    "colab": {
     "base_uri": "https://localhost:8080/"
    },
    "id": "u-w99Y2qW4lU",
    "outputId": "57f0b8f7-6dad-4e90-c779-658a7de6e960"
   },
   "outputs": [
    {
     "name": "stdout",
     "output_type": "stream",
     "text": [
      "Model size (MB) - 127.32\n",
      "Accuracy on test set - 0.906\n",
      "Average latency (ms) - 35.35 +\\- 5.18\n",
      "Batch size: 64\n"
     ]
    },
    {
     "ename": "KeyboardInterrupt",
     "evalue": "",
     "output_type": "error",
     "traceback": [
      "\u001b[0;31m---------------------------------------------------------------------------\u001b[0m",
      "\u001b[0;31mKeyboardInterrupt\u001b[0m                         Traceback (most recent call last)",
      "Cell \u001b[0;32mIn[10], line 9\u001b[0m\n\u001b[1;32m      7\u001b[0m small_model \u001b[38;5;241m=\u001b[39m SetFitModel\u001b[38;5;241m.\u001b[39mfrom_pretrained(\u001b[38;5;124m\"\u001b[39m\u001b[38;5;124mmoshew/bge-small-en-v1.5_setfit-sst2-english\u001b[39m\u001b[38;5;124m\"\u001b[39m)\n\u001b[1;32m      8\u001b[0m pb \u001b[38;5;241m=\u001b[39m PerformanceBenchmark(model\u001b[38;5;241m=\u001b[39msmall_model, dataset\u001b[38;5;241m=\u001b[39mtest_dataset, optim_type\u001b[38;5;241m=\u001b[39m\u001b[38;5;124m\"\u001b[39m\u001b[38;5;124mbge-small (PyTorch)\u001b[39m\u001b[38;5;124m\"\u001b[39m)\n\u001b[0;32m----> 9\u001b[0m perf_metrics \u001b[38;5;241m=\u001b[39m \u001b[43mpb\u001b[49m\u001b[38;5;241;43m.\u001b[39;49m\u001b[43mrun_benchmark\u001b[49m\u001b[43m(\u001b[49m\u001b[43m)\u001b[49m\n\u001b[1;32m     10\u001b[0m plot_metrics(perf_metrics)\n",
      "Cell \u001b[0;32mIn[8], line 101\u001b[0m, in \u001b[0;36mPerformanceBenchmark.run_benchmark\u001b[0;34m(self)\u001b[0m\n\u001b[1;32m     99\u001b[0m metrics[\u001b[38;5;28mself\u001b[39m\u001b[38;5;241m.\u001b[39moptim_type]\u001b[38;5;241m.\u001b[39mupdate(\u001b[38;5;28mself\u001b[39m\u001b[38;5;241m.\u001b[39mcompute_accuracy())\n\u001b[1;32m    100\u001b[0m metrics[\u001b[38;5;28mself\u001b[39m\u001b[38;5;241m.\u001b[39moptim_type]\u001b[38;5;241m.\u001b[39mupdate(\u001b[38;5;28mself\u001b[39m\u001b[38;5;241m.\u001b[39mcompute_latency())\n\u001b[0;32m--> 101\u001b[0m metrics[\u001b[38;5;28mself\u001b[39m\u001b[38;5;241m.\u001b[39moptim_type]\u001b[38;5;241m.\u001b[39mupdate(\u001b[38;5;28;43mself\u001b[39;49m\u001b[38;5;241;43m.\u001b[39;49m\u001b[43mcompute_throughput\u001b[49m\u001b[43m(\u001b[49m\u001b[43m)\u001b[49m)\n\u001b[1;32m    102\u001b[0m \u001b[38;5;28;01mreturn\u001b[39;00m metrics\n",
      "Cell \u001b[0;32mIn[8], line 84\u001b[0m, in \u001b[0;36mPerformanceBenchmark.compute_throughput\u001b[0;34m(self, batch_sizes)\u001b[0m\n\u001b[1;32m     82\u001b[0m start_time \u001b[38;5;241m=\u001b[39m perf_counter()\n\u001b[1;32m     83\u001b[0m \u001b[38;5;28;01mwith\u001b[39;00m torch\u001b[38;5;241m.\u001b[39mno_grad(), torch\u001b[38;5;241m.\u001b[39mcpu\u001b[38;5;241m.\u001b[39mamp\u001b[38;5;241m.\u001b[39mautocast(enabled\u001b[38;5;241m=\u001b[39m\u001b[38;5;28mself\u001b[39m\u001b[38;5;241m.\u001b[39menable_autocast):\n\u001b[0;32m---> 84\u001b[0m     _ \u001b[38;5;241m=\u001b[39m \u001b[38;5;28;43mself\u001b[39;49m\u001b[38;5;241;43m.\u001b[39;49m\u001b[43mmodel\u001b[49m\u001b[43m(\u001b[49m\u001b[38;5;28;43mnext\u001b[39;49m\u001b[43m(\u001b[49m\u001b[43mdataloader\u001b[49m\u001b[43m)\u001b[49m\u001b[43m)\u001b[49m\n\u001b[1;32m     85\u001b[0m latency \u001b[38;5;241m=\u001b[39m  perf_counter() \u001b[38;5;241m-\u001b[39m start_time\n\u001b[1;32m     86\u001b[0m throughputs\u001b[38;5;241m.\u001b[39mappend(batch_size \u001b[38;5;241m/\u001b[39m latency)\n",
      "File \u001b[0;32m~/dkorat/setfit/src/setfit/modeling.py:606\u001b[0m, in \u001b[0;36mSetFitModel.__call__\u001b[0;34m(self, inputs, batch_size, as_numpy, use_labels, show_progress_bar)\u001b[0m\n\u001b[1;32m    574\u001b[0m \u001b[38;5;28;01mdef\u001b[39;00m \u001b[38;5;21m__call__\u001b[39m(\n\u001b[1;32m    575\u001b[0m     \u001b[38;5;28mself\u001b[39m,\n\u001b[1;32m    576\u001b[0m     inputs: Union[\u001b[38;5;28mstr\u001b[39m, List[\u001b[38;5;28mstr\u001b[39m]],\n\u001b[0;32m   (...)\u001b[0m\n\u001b[1;32m    580\u001b[0m     show_progress_bar: Optional[\u001b[38;5;28mbool\u001b[39m] \u001b[38;5;241m=\u001b[39m \u001b[38;5;28;01mNone\u001b[39;00m,\n\u001b[1;32m    581\u001b[0m ) \u001b[38;5;241m-\u001b[39m\u001b[38;5;241m>\u001b[39m Union[torch\u001b[38;5;241m.\u001b[39mTensor, np\u001b[38;5;241m.\u001b[39mndarray, List[\u001b[38;5;28mstr\u001b[39m], \u001b[38;5;28mint\u001b[39m, \u001b[38;5;28mstr\u001b[39m]:\n\u001b[1;32m    582\u001b[0m \u001b[38;5;250m    \u001b[39m\u001b[38;5;124;03m\"\"\"Predict the various classes.\u001b[39;00m\n\u001b[1;32m    583\u001b[0m \n\u001b[1;32m    584\u001b[0m \u001b[38;5;124;03m    Args:\u001b[39;00m\n\u001b[0;32m   (...)\u001b[0m\n\u001b[1;32m    604\u001b[0m \u001b[38;5;124;03m            is a single string, then the output is a single label as well.\u001b[39;00m\n\u001b[1;32m    605\u001b[0m \u001b[38;5;124;03m    \"\"\"\u001b[39;00m\n\u001b[0;32m--> 606\u001b[0m     \u001b[38;5;28;01mreturn\u001b[39;00m \u001b[38;5;28;43mself\u001b[39;49m\u001b[38;5;241;43m.\u001b[39;49m\u001b[43mpredict\u001b[49m\u001b[43m(\u001b[49m\n\u001b[1;32m    607\u001b[0m \u001b[43m        \u001b[49m\u001b[43minputs\u001b[49m\u001b[43m,\u001b[49m\n\u001b[1;32m    608\u001b[0m \u001b[43m        \u001b[49m\u001b[43mbatch_size\u001b[49m\u001b[38;5;241;43m=\u001b[39;49m\u001b[43mbatch_size\u001b[49m\u001b[43m,\u001b[49m\n\u001b[1;32m    609\u001b[0m \u001b[43m        \u001b[49m\u001b[43mas_numpy\u001b[49m\u001b[38;5;241;43m=\u001b[39;49m\u001b[43mas_numpy\u001b[49m\u001b[43m,\u001b[49m\n\u001b[1;32m    610\u001b[0m \u001b[43m        \u001b[49m\u001b[43muse_labels\u001b[49m\u001b[38;5;241;43m=\u001b[39;49m\u001b[43muse_labels\u001b[49m\u001b[43m,\u001b[49m\n\u001b[1;32m    611\u001b[0m \u001b[43m        \u001b[49m\u001b[43mshow_progress_bar\u001b[49m\u001b[38;5;241;43m=\u001b[39;49m\u001b[43mshow_progress_bar\u001b[49m\u001b[43m,\u001b[49m\n\u001b[1;32m    612\u001b[0m \u001b[43m    \u001b[49m\u001b[43m)\u001b[49m\n",
      "File \u001b[0;32m~/dkorat/setfit/src/setfit/modeling.py:560\u001b[0m, in \u001b[0;36mSetFitModel.predict\u001b[0;34m(self, inputs, batch_size, as_numpy, use_labels, show_progress_bar)\u001b[0m\n\u001b[1;32m    558\u001b[0m \u001b[38;5;28;01mif\u001b[39;00m is_singular:\n\u001b[1;32m    559\u001b[0m     inputs \u001b[38;5;241m=\u001b[39m [inputs]\n\u001b[0;32m--> 560\u001b[0m embeddings \u001b[38;5;241m=\u001b[39m \u001b[38;5;28;43mself\u001b[39;49m\u001b[38;5;241;43m.\u001b[39;49m\u001b[43mencode\u001b[49m\u001b[43m(\u001b[49m\u001b[43minputs\u001b[49m\u001b[43m,\u001b[49m\u001b[43m \u001b[49m\u001b[43mbatch_size\u001b[49m\u001b[38;5;241;43m=\u001b[39;49m\u001b[43mbatch_size\u001b[49m\u001b[43m,\u001b[49m\u001b[43m \u001b[49m\u001b[43mshow_progress_bar\u001b[49m\u001b[38;5;241;43m=\u001b[39;49m\u001b[43mshow_progress_bar\u001b[49m\u001b[43m)\u001b[49m\n\u001b[1;32m    561\u001b[0m preds \u001b[38;5;241m=\u001b[39m \u001b[38;5;28mself\u001b[39m\u001b[38;5;241m.\u001b[39mmodel_head\u001b[38;5;241m.\u001b[39mpredict(embeddings)\n\u001b[1;32m    562\u001b[0m \u001b[38;5;66;03m# If labels are defined, we don't have multilabels & the output is not already strings, then we convert to string labels\u001b[39;00m\n",
      "File \u001b[0;32m~/dkorat/setfit/src/setfit/modeling.py:452\u001b[0m, in \u001b[0;36mSetFitModel.encode\u001b[0;34m(self, inputs, batch_size, show_progress_bar)\u001b[0m\n\u001b[1;32m    437\u001b[0m \u001b[38;5;28;01mdef\u001b[39;00m \u001b[38;5;21mencode\u001b[39m(\n\u001b[1;32m    438\u001b[0m     \u001b[38;5;28mself\u001b[39m, inputs: List[\u001b[38;5;28mstr\u001b[39m], batch_size: \u001b[38;5;28mint\u001b[39m \u001b[38;5;241m=\u001b[39m \u001b[38;5;241m32\u001b[39m, show_progress_bar: Optional[\u001b[38;5;28mbool\u001b[39m] \u001b[38;5;241m=\u001b[39m \u001b[38;5;28;01mNone\u001b[39;00m\n\u001b[1;32m    439\u001b[0m ) \u001b[38;5;241m-\u001b[39m\u001b[38;5;241m>\u001b[39m Union[torch\u001b[38;5;241m.\u001b[39mTensor, np\u001b[38;5;241m.\u001b[39mndarray]:\n\u001b[1;32m    440\u001b[0m \u001b[38;5;250m    \u001b[39m\u001b[38;5;124;03m\"\"\"Convert input sentences to embeddings using the `SentenceTransformer` body.\u001b[39;00m\n\u001b[1;32m    441\u001b[0m \n\u001b[1;32m    442\u001b[0m \u001b[38;5;124;03m    Args:\u001b[39;00m\n\u001b[0;32m   (...)\u001b[0m\n\u001b[1;32m    450\u001b[0m \u001b[38;5;124;03m        torch Tensor if this model has a differentiable Torch head, or otherwise as a numpy array.\u001b[39;00m\n\u001b[1;32m    451\u001b[0m \u001b[38;5;124;03m    \"\"\"\u001b[39;00m\n\u001b[0;32m--> 452\u001b[0m     \u001b[38;5;28;01mreturn\u001b[39;00m \u001b[38;5;28;43mself\u001b[39;49m\u001b[38;5;241;43m.\u001b[39;49m\u001b[43mmodel_body\u001b[49m\u001b[38;5;241;43m.\u001b[39;49m\u001b[43mencode\u001b[49m\u001b[43m(\u001b[49m\n\u001b[1;32m    453\u001b[0m \u001b[43m        \u001b[49m\u001b[43minputs\u001b[49m\u001b[43m,\u001b[49m\n\u001b[1;32m    454\u001b[0m \u001b[43m        \u001b[49m\u001b[43mbatch_size\u001b[49m\u001b[38;5;241;43m=\u001b[39;49m\u001b[43mbatch_size\u001b[49m\u001b[43m,\u001b[49m\n\u001b[1;32m    455\u001b[0m \u001b[43m        \u001b[49m\u001b[43mnormalize_embeddings\u001b[49m\u001b[38;5;241;43m=\u001b[39;49m\u001b[38;5;28;43mself\u001b[39;49m\u001b[38;5;241;43m.\u001b[39;49m\u001b[43mnormalize_embeddings\u001b[49m\u001b[43m,\u001b[49m\n\u001b[1;32m    456\u001b[0m \u001b[43m        \u001b[49m\u001b[43mconvert_to_tensor\u001b[49m\u001b[38;5;241;43m=\u001b[39;49m\u001b[38;5;28;43mself\u001b[39;49m\u001b[38;5;241;43m.\u001b[39;49m\u001b[43mhas_differentiable_head\u001b[49m\u001b[43m,\u001b[49m\n\u001b[1;32m    457\u001b[0m \u001b[43m        \u001b[49m\u001b[43mshow_progress_bar\u001b[49m\u001b[38;5;241;43m=\u001b[39;49m\u001b[43mshow_progress_bar\u001b[49m\u001b[43m,\u001b[49m\n\u001b[1;32m    458\u001b[0m \u001b[43m    \u001b[49m\u001b[43m)\u001b[49m\n",
      "File \u001b[0;32m/storage/sdp/anaconda3/envs/setfit-pr/lib/python3.9/site-packages/sentence_transformers/SentenceTransformer.py:165\u001b[0m, in \u001b[0;36mSentenceTransformer.encode\u001b[0;34m(self, sentences, batch_size, show_progress_bar, output_value, convert_to_numpy, convert_to_tensor, device, normalize_embeddings)\u001b[0m\n\u001b[1;32m    162\u001b[0m features \u001b[38;5;241m=\u001b[39m batch_to_device(features, device)\n\u001b[1;32m    164\u001b[0m \u001b[38;5;28;01mwith\u001b[39;00m torch\u001b[38;5;241m.\u001b[39mno_grad():\n\u001b[0;32m--> 165\u001b[0m     out_features \u001b[38;5;241m=\u001b[39m \u001b[38;5;28;43mself\u001b[39;49m\u001b[38;5;241;43m.\u001b[39;49m\u001b[43mforward\u001b[49m\u001b[43m(\u001b[49m\u001b[43mfeatures\u001b[49m\u001b[43m)\u001b[49m\n\u001b[1;32m    167\u001b[0m     \u001b[38;5;28;01mif\u001b[39;00m output_value \u001b[38;5;241m==\u001b[39m \u001b[38;5;124m'\u001b[39m\u001b[38;5;124mtoken_embeddings\u001b[39m\u001b[38;5;124m'\u001b[39m:\n\u001b[1;32m    168\u001b[0m         embeddings \u001b[38;5;241m=\u001b[39m []\n",
      "File \u001b[0;32m/storage/sdp/anaconda3/envs/setfit-pr/lib/python3.9/site-packages/torch/nn/modules/container.py:215\u001b[0m, in \u001b[0;36mSequential.forward\u001b[0;34m(self, input)\u001b[0m\n\u001b[1;32m    213\u001b[0m \u001b[38;5;28;01mdef\u001b[39;00m \u001b[38;5;21mforward\u001b[39m(\u001b[38;5;28mself\u001b[39m, \u001b[38;5;28minput\u001b[39m):\n\u001b[1;32m    214\u001b[0m     \u001b[38;5;28;01mfor\u001b[39;00m module \u001b[38;5;129;01min\u001b[39;00m \u001b[38;5;28mself\u001b[39m:\n\u001b[0;32m--> 215\u001b[0m         \u001b[38;5;28minput\u001b[39m \u001b[38;5;241m=\u001b[39m \u001b[43mmodule\u001b[49m\u001b[43m(\u001b[49m\u001b[38;5;28;43minput\u001b[39;49m\u001b[43m)\u001b[49m\n\u001b[1;32m    216\u001b[0m     \u001b[38;5;28;01mreturn\u001b[39;00m \u001b[38;5;28minput\u001b[39m\n",
      "File \u001b[0;32m/storage/sdp/anaconda3/envs/setfit-pr/lib/python3.9/site-packages/torch/nn/modules/module.py:1518\u001b[0m, in \u001b[0;36mModule._wrapped_call_impl\u001b[0;34m(self, *args, **kwargs)\u001b[0m\n\u001b[1;32m   1516\u001b[0m     \u001b[38;5;28;01mreturn\u001b[39;00m \u001b[38;5;28mself\u001b[39m\u001b[38;5;241m.\u001b[39m_compiled_call_impl(\u001b[38;5;241m*\u001b[39margs, \u001b[38;5;241m*\u001b[39m\u001b[38;5;241m*\u001b[39mkwargs)  \u001b[38;5;66;03m# type: ignore[misc]\u001b[39;00m\n\u001b[1;32m   1517\u001b[0m \u001b[38;5;28;01melse\u001b[39;00m:\n\u001b[0;32m-> 1518\u001b[0m     \u001b[38;5;28;01mreturn\u001b[39;00m \u001b[38;5;28;43mself\u001b[39;49m\u001b[38;5;241;43m.\u001b[39;49m\u001b[43m_call_impl\u001b[49m\u001b[43m(\u001b[49m\u001b[38;5;241;43m*\u001b[39;49m\u001b[43margs\u001b[49m\u001b[43m,\u001b[49m\u001b[43m \u001b[49m\u001b[38;5;241;43m*\u001b[39;49m\u001b[38;5;241;43m*\u001b[39;49m\u001b[43mkwargs\u001b[49m\u001b[43m)\u001b[49m\n",
      "File \u001b[0;32m/storage/sdp/anaconda3/envs/setfit-pr/lib/python3.9/site-packages/torch/nn/modules/module.py:1527\u001b[0m, in \u001b[0;36mModule._call_impl\u001b[0;34m(self, *args, **kwargs)\u001b[0m\n\u001b[1;32m   1522\u001b[0m \u001b[38;5;66;03m# If we don't have any hooks, we want to skip the rest of the logic in\u001b[39;00m\n\u001b[1;32m   1523\u001b[0m \u001b[38;5;66;03m# this function, and just call forward.\u001b[39;00m\n\u001b[1;32m   1524\u001b[0m \u001b[38;5;28;01mif\u001b[39;00m \u001b[38;5;129;01mnot\u001b[39;00m (\u001b[38;5;28mself\u001b[39m\u001b[38;5;241m.\u001b[39m_backward_hooks \u001b[38;5;129;01mor\u001b[39;00m \u001b[38;5;28mself\u001b[39m\u001b[38;5;241m.\u001b[39m_backward_pre_hooks \u001b[38;5;129;01mor\u001b[39;00m \u001b[38;5;28mself\u001b[39m\u001b[38;5;241m.\u001b[39m_forward_hooks \u001b[38;5;129;01mor\u001b[39;00m \u001b[38;5;28mself\u001b[39m\u001b[38;5;241m.\u001b[39m_forward_pre_hooks\n\u001b[1;32m   1525\u001b[0m         \u001b[38;5;129;01mor\u001b[39;00m _global_backward_pre_hooks \u001b[38;5;129;01mor\u001b[39;00m _global_backward_hooks\n\u001b[1;32m   1526\u001b[0m         \u001b[38;5;129;01mor\u001b[39;00m _global_forward_hooks \u001b[38;5;129;01mor\u001b[39;00m _global_forward_pre_hooks):\n\u001b[0;32m-> 1527\u001b[0m     \u001b[38;5;28;01mreturn\u001b[39;00m \u001b[43mforward_call\u001b[49m\u001b[43m(\u001b[49m\u001b[38;5;241;43m*\u001b[39;49m\u001b[43margs\u001b[49m\u001b[43m,\u001b[49m\u001b[43m \u001b[49m\u001b[38;5;241;43m*\u001b[39;49m\u001b[38;5;241;43m*\u001b[39;49m\u001b[43mkwargs\u001b[49m\u001b[43m)\u001b[49m\n\u001b[1;32m   1529\u001b[0m \u001b[38;5;28;01mtry\u001b[39;00m:\n\u001b[1;32m   1530\u001b[0m     result \u001b[38;5;241m=\u001b[39m \u001b[38;5;28;01mNone\u001b[39;00m\n",
      "File \u001b[0;32m/storage/sdp/anaconda3/envs/setfit-pr/lib/python3.9/site-packages/sentence_transformers/models/Transformer.py:66\u001b[0m, in \u001b[0;36mTransformer.forward\u001b[0;34m(self, features)\u001b[0m\n\u001b[1;32m     63\u001b[0m \u001b[38;5;28;01mif\u001b[39;00m \u001b[38;5;124m'\u001b[39m\u001b[38;5;124mtoken_type_ids\u001b[39m\u001b[38;5;124m'\u001b[39m \u001b[38;5;129;01min\u001b[39;00m features:\n\u001b[1;32m     64\u001b[0m     trans_features[\u001b[38;5;124m'\u001b[39m\u001b[38;5;124mtoken_type_ids\u001b[39m\u001b[38;5;124m'\u001b[39m] \u001b[38;5;241m=\u001b[39m features[\u001b[38;5;124m'\u001b[39m\u001b[38;5;124mtoken_type_ids\u001b[39m\u001b[38;5;124m'\u001b[39m]\n\u001b[0;32m---> 66\u001b[0m output_states \u001b[38;5;241m=\u001b[39m \u001b[38;5;28;43mself\u001b[39;49m\u001b[38;5;241;43m.\u001b[39;49m\u001b[43mauto_model\u001b[49m\u001b[43m(\u001b[49m\u001b[38;5;241;43m*\u001b[39;49m\u001b[38;5;241;43m*\u001b[39;49m\u001b[43mtrans_features\u001b[49m\u001b[43m,\u001b[49m\u001b[43m \u001b[49m\u001b[43mreturn_dict\u001b[49m\u001b[38;5;241;43m=\u001b[39;49m\u001b[38;5;28;43;01mFalse\u001b[39;49;00m\u001b[43m)\u001b[49m\n\u001b[1;32m     67\u001b[0m output_tokens \u001b[38;5;241m=\u001b[39m output_states[\u001b[38;5;241m0\u001b[39m]\n\u001b[1;32m     69\u001b[0m features\u001b[38;5;241m.\u001b[39mupdate({\u001b[38;5;124m'\u001b[39m\u001b[38;5;124mtoken_embeddings\u001b[39m\u001b[38;5;124m'\u001b[39m: output_tokens, \u001b[38;5;124m'\u001b[39m\u001b[38;5;124mattention_mask\u001b[39m\u001b[38;5;124m'\u001b[39m: features[\u001b[38;5;124m'\u001b[39m\u001b[38;5;124mattention_mask\u001b[39m\u001b[38;5;124m'\u001b[39m]})\n",
      "File \u001b[0;32m/storage/sdp/anaconda3/envs/setfit-pr/lib/python3.9/site-packages/torch/nn/modules/module.py:1518\u001b[0m, in \u001b[0;36mModule._wrapped_call_impl\u001b[0;34m(self, *args, **kwargs)\u001b[0m\n\u001b[1;32m   1516\u001b[0m     \u001b[38;5;28;01mreturn\u001b[39;00m \u001b[38;5;28mself\u001b[39m\u001b[38;5;241m.\u001b[39m_compiled_call_impl(\u001b[38;5;241m*\u001b[39margs, \u001b[38;5;241m*\u001b[39m\u001b[38;5;241m*\u001b[39mkwargs)  \u001b[38;5;66;03m# type: ignore[misc]\u001b[39;00m\n\u001b[1;32m   1517\u001b[0m \u001b[38;5;28;01melse\u001b[39;00m:\n\u001b[0;32m-> 1518\u001b[0m     \u001b[38;5;28;01mreturn\u001b[39;00m \u001b[38;5;28;43mself\u001b[39;49m\u001b[38;5;241;43m.\u001b[39;49m\u001b[43m_call_impl\u001b[49m\u001b[43m(\u001b[49m\u001b[38;5;241;43m*\u001b[39;49m\u001b[43margs\u001b[49m\u001b[43m,\u001b[49m\u001b[43m \u001b[49m\u001b[38;5;241;43m*\u001b[39;49m\u001b[38;5;241;43m*\u001b[39;49m\u001b[43mkwargs\u001b[49m\u001b[43m)\u001b[49m\n",
      "File \u001b[0;32m/storage/sdp/anaconda3/envs/setfit-pr/lib/python3.9/site-packages/torch/nn/modules/module.py:1527\u001b[0m, in \u001b[0;36mModule._call_impl\u001b[0;34m(self, *args, **kwargs)\u001b[0m\n\u001b[1;32m   1522\u001b[0m \u001b[38;5;66;03m# If we don't have any hooks, we want to skip the rest of the logic in\u001b[39;00m\n\u001b[1;32m   1523\u001b[0m \u001b[38;5;66;03m# this function, and just call forward.\u001b[39;00m\n\u001b[1;32m   1524\u001b[0m \u001b[38;5;28;01mif\u001b[39;00m \u001b[38;5;129;01mnot\u001b[39;00m (\u001b[38;5;28mself\u001b[39m\u001b[38;5;241m.\u001b[39m_backward_hooks \u001b[38;5;129;01mor\u001b[39;00m \u001b[38;5;28mself\u001b[39m\u001b[38;5;241m.\u001b[39m_backward_pre_hooks \u001b[38;5;129;01mor\u001b[39;00m \u001b[38;5;28mself\u001b[39m\u001b[38;5;241m.\u001b[39m_forward_hooks \u001b[38;5;129;01mor\u001b[39;00m \u001b[38;5;28mself\u001b[39m\u001b[38;5;241m.\u001b[39m_forward_pre_hooks\n\u001b[1;32m   1525\u001b[0m         \u001b[38;5;129;01mor\u001b[39;00m _global_backward_pre_hooks \u001b[38;5;129;01mor\u001b[39;00m _global_backward_hooks\n\u001b[1;32m   1526\u001b[0m         \u001b[38;5;129;01mor\u001b[39;00m _global_forward_hooks \u001b[38;5;129;01mor\u001b[39;00m _global_forward_pre_hooks):\n\u001b[0;32m-> 1527\u001b[0m     \u001b[38;5;28;01mreturn\u001b[39;00m \u001b[43mforward_call\u001b[49m\u001b[43m(\u001b[49m\u001b[38;5;241;43m*\u001b[39;49m\u001b[43margs\u001b[49m\u001b[43m,\u001b[49m\u001b[43m \u001b[49m\u001b[38;5;241;43m*\u001b[39;49m\u001b[38;5;241;43m*\u001b[39;49m\u001b[43mkwargs\u001b[49m\u001b[43m)\u001b[49m\n\u001b[1;32m   1529\u001b[0m \u001b[38;5;28;01mtry\u001b[39;00m:\n\u001b[1;32m   1530\u001b[0m     result \u001b[38;5;241m=\u001b[39m \u001b[38;5;28;01mNone\u001b[39;00m\n",
      "File \u001b[0;32m/storage/sdp/anaconda3/envs/setfit-pr/lib/python3.9/site-packages/transformers/models/bert/modeling_bert.py:1013\u001b[0m, in \u001b[0;36mBertModel.forward\u001b[0;34m(self, input_ids, attention_mask, token_type_ids, position_ids, head_mask, inputs_embeds, encoder_hidden_states, encoder_attention_mask, past_key_values, use_cache, output_attentions, output_hidden_states, return_dict)\u001b[0m\n\u001b[1;32m   1004\u001b[0m head_mask \u001b[38;5;241m=\u001b[39m \u001b[38;5;28mself\u001b[39m\u001b[38;5;241m.\u001b[39mget_head_mask(head_mask, \u001b[38;5;28mself\u001b[39m\u001b[38;5;241m.\u001b[39mconfig\u001b[38;5;241m.\u001b[39mnum_hidden_layers)\n\u001b[1;32m   1006\u001b[0m embedding_output \u001b[38;5;241m=\u001b[39m \u001b[38;5;28mself\u001b[39m\u001b[38;5;241m.\u001b[39membeddings(\n\u001b[1;32m   1007\u001b[0m     input_ids\u001b[38;5;241m=\u001b[39minput_ids,\n\u001b[1;32m   1008\u001b[0m     position_ids\u001b[38;5;241m=\u001b[39mposition_ids,\n\u001b[0;32m   (...)\u001b[0m\n\u001b[1;32m   1011\u001b[0m     past_key_values_length\u001b[38;5;241m=\u001b[39mpast_key_values_length,\n\u001b[1;32m   1012\u001b[0m )\n\u001b[0;32m-> 1013\u001b[0m encoder_outputs \u001b[38;5;241m=\u001b[39m \u001b[38;5;28;43mself\u001b[39;49m\u001b[38;5;241;43m.\u001b[39;49m\u001b[43mencoder\u001b[49m\u001b[43m(\u001b[49m\n\u001b[1;32m   1014\u001b[0m \u001b[43m    \u001b[49m\u001b[43membedding_output\u001b[49m\u001b[43m,\u001b[49m\n\u001b[1;32m   1015\u001b[0m \u001b[43m    \u001b[49m\u001b[43mattention_mask\u001b[49m\u001b[38;5;241;43m=\u001b[39;49m\u001b[43mextended_attention_mask\u001b[49m\u001b[43m,\u001b[49m\n\u001b[1;32m   1016\u001b[0m \u001b[43m    \u001b[49m\u001b[43mhead_mask\u001b[49m\u001b[38;5;241;43m=\u001b[39;49m\u001b[43mhead_mask\u001b[49m\u001b[43m,\u001b[49m\n\u001b[1;32m   1017\u001b[0m \u001b[43m    \u001b[49m\u001b[43mencoder_hidden_states\u001b[49m\u001b[38;5;241;43m=\u001b[39;49m\u001b[43mencoder_hidden_states\u001b[49m\u001b[43m,\u001b[49m\n\u001b[1;32m   1018\u001b[0m \u001b[43m    \u001b[49m\u001b[43mencoder_attention_mask\u001b[49m\u001b[38;5;241;43m=\u001b[39;49m\u001b[43mencoder_extended_attention_mask\u001b[49m\u001b[43m,\u001b[49m\n\u001b[1;32m   1019\u001b[0m \u001b[43m    \u001b[49m\u001b[43mpast_key_values\u001b[49m\u001b[38;5;241;43m=\u001b[39;49m\u001b[43mpast_key_values\u001b[49m\u001b[43m,\u001b[49m\n\u001b[1;32m   1020\u001b[0m \u001b[43m    \u001b[49m\u001b[43muse_cache\u001b[49m\u001b[38;5;241;43m=\u001b[39;49m\u001b[43muse_cache\u001b[49m\u001b[43m,\u001b[49m\n\u001b[1;32m   1021\u001b[0m \u001b[43m    \u001b[49m\u001b[43moutput_attentions\u001b[49m\u001b[38;5;241;43m=\u001b[39;49m\u001b[43moutput_attentions\u001b[49m\u001b[43m,\u001b[49m\n\u001b[1;32m   1022\u001b[0m \u001b[43m    \u001b[49m\u001b[43moutput_hidden_states\u001b[49m\u001b[38;5;241;43m=\u001b[39;49m\u001b[43moutput_hidden_states\u001b[49m\u001b[43m,\u001b[49m\n\u001b[1;32m   1023\u001b[0m \u001b[43m    \u001b[49m\u001b[43mreturn_dict\u001b[49m\u001b[38;5;241;43m=\u001b[39;49m\u001b[43mreturn_dict\u001b[49m\u001b[43m,\u001b[49m\n\u001b[1;32m   1024\u001b[0m \u001b[43m\u001b[49m\u001b[43m)\u001b[49m\n\u001b[1;32m   1025\u001b[0m sequence_output \u001b[38;5;241m=\u001b[39m encoder_outputs[\u001b[38;5;241m0\u001b[39m]\n\u001b[1;32m   1026\u001b[0m pooled_output \u001b[38;5;241m=\u001b[39m \u001b[38;5;28mself\u001b[39m\u001b[38;5;241m.\u001b[39mpooler(sequence_output) \u001b[38;5;28;01mif\u001b[39;00m \u001b[38;5;28mself\u001b[39m\u001b[38;5;241m.\u001b[39mpooler \u001b[38;5;129;01mis\u001b[39;00m \u001b[38;5;129;01mnot\u001b[39;00m \u001b[38;5;28;01mNone\u001b[39;00m \u001b[38;5;28;01melse\u001b[39;00m \u001b[38;5;28;01mNone\u001b[39;00m\n",
      "File \u001b[0;32m/storage/sdp/anaconda3/envs/setfit-pr/lib/python3.9/site-packages/torch/nn/modules/module.py:1518\u001b[0m, in \u001b[0;36mModule._wrapped_call_impl\u001b[0;34m(self, *args, **kwargs)\u001b[0m\n\u001b[1;32m   1516\u001b[0m     \u001b[38;5;28;01mreturn\u001b[39;00m \u001b[38;5;28mself\u001b[39m\u001b[38;5;241m.\u001b[39m_compiled_call_impl(\u001b[38;5;241m*\u001b[39margs, \u001b[38;5;241m*\u001b[39m\u001b[38;5;241m*\u001b[39mkwargs)  \u001b[38;5;66;03m# type: ignore[misc]\u001b[39;00m\n\u001b[1;32m   1517\u001b[0m \u001b[38;5;28;01melse\u001b[39;00m:\n\u001b[0;32m-> 1518\u001b[0m     \u001b[38;5;28;01mreturn\u001b[39;00m \u001b[38;5;28;43mself\u001b[39;49m\u001b[38;5;241;43m.\u001b[39;49m\u001b[43m_call_impl\u001b[49m\u001b[43m(\u001b[49m\u001b[38;5;241;43m*\u001b[39;49m\u001b[43margs\u001b[49m\u001b[43m,\u001b[49m\u001b[43m \u001b[49m\u001b[38;5;241;43m*\u001b[39;49m\u001b[38;5;241;43m*\u001b[39;49m\u001b[43mkwargs\u001b[49m\u001b[43m)\u001b[49m\n",
      "File \u001b[0;32m/storage/sdp/anaconda3/envs/setfit-pr/lib/python3.9/site-packages/torch/nn/modules/module.py:1527\u001b[0m, in \u001b[0;36mModule._call_impl\u001b[0;34m(self, *args, **kwargs)\u001b[0m\n\u001b[1;32m   1522\u001b[0m \u001b[38;5;66;03m# If we don't have any hooks, we want to skip the rest of the logic in\u001b[39;00m\n\u001b[1;32m   1523\u001b[0m \u001b[38;5;66;03m# this function, and just call forward.\u001b[39;00m\n\u001b[1;32m   1524\u001b[0m \u001b[38;5;28;01mif\u001b[39;00m \u001b[38;5;129;01mnot\u001b[39;00m (\u001b[38;5;28mself\u001b[39m\u001b[38;5;241m.\u001b[39m_backward_hooks \u001b[38;5;129;01mor\u001b[39;00m \u001b[38;5;28mself\u001b[39m\u001b[38;5;241m.\u001b[39m_backward_pre_hooks \u001b[38;5;129;01mor\u001b[39;00m \u001b[38;5;28mself\u001b[39m\u001b[38;5;241m.\u001b[39m_forward_hooks \u001b[38;5;129;01mor\u001b[39;00m \u001b[38;5;28mself\u001b[39m\u001b[38;5;241m.\u001b[39m_forward_pre_hooks\n\u001b[1;32m   1525\u001b[0m         \u001b[38;5;129;01mor\u001b[39;00m _global_backward_pre_hooks \u001b[38;5;129;01mor\u001b[39;00m _global_backward_hooks\n\u001b[1;32m   1526\u001b[0m         \u001b[38;5;129;01mor\u001b[39;00m _global_forward_hooks \u001b[38;5;129;01mor\u001b[39;00m _global_forward_pre_hooks):\n\u001b[0;32m-> 1527\u001b[0m     \u001b[38;5;28;01mreturn\u001b[39;00m \u001b[43mforward_call\u001b[49m\u001b[43m(\u001b[49m\u001b[38;5;241;43m*\u001b[39;49m\u001b[43margs\u001b[49m\u001b[43m,\u001b[49m\u001b[43m \u001b[49m\u001b[38;5;241;43m*\u001b[39;49m\u001b[38;5;241;43m*\u001b[39;49m\u001b[43mkwargs\u001b[49m\u001b[43m)\u001b[49m\n\u001b[1;32m   1529\u001b[0m \u001b[38;5;28;01mtry\u001b[39;00m:\n\u001b[1;32m   1530\u001b[0m     result \u001b[38;5;241m=\u001b[39m \u001b[38;5;28;01mNone\u001b[39;00m\n",
      "File \u001b[0;32m/storage/sdp/anaconda3/envs/setfit-pr/lib/python3.9/site-packages/transformers/models/bert/modeling_bert.py:607\u001b[0m, in \u001b[0;36mBertEncoder.forward\u001b[0;34m(self, hidden_states, attention_mask, head_mask, encoder_hidden_states, encoder_attention_mask, past_key_values, use_cache, output_attentions, output_hidden_states, return_dict)\u001b[0m\n\u001b[1;32m    596\u001b[0m     layer_outputs \u001b[38;5;241m=\u001b[39m \u001b[38;5;28mself\u001b[39m\u001b[38;5;241m.\u001b[39m_gradient_checkpointing_func(\n\u001b[1;32m    597\u001b[0m         layer_module\u001b[38;5;241m.\u001b[39m\u001b[38;5;21m__call__\u001b[39m,\n\u001b[1;32m    598\u001b[0m         hidden_states,\n\u001b[0;32m   (...)\u001b[0m\n\u001b[1;32m    604\u001b[0m         output_attentions,\n\u001b[1;32m    605\u001b[0m     )\n\u001b[1;32m    606\u001b[0m \u001b[38;5;28;01melse\u001b[39;00m:\n\u001b[0;32m--> 607\u001b[0m     layer_outputs \u001b[38;5;241m=\u001b[39m \u001b[43mlayer_module\u001b[49m\u001b[43m(\u001b[49m\n\u001b[1;32m    608\u001b[0m \u001b[43m        \u001b[49m\u001b[43mhidden_states\u001b[49m\u001b[43m,\u001b[49m\n\u001b[1;32m    609\u001b[0m \u001b[43m        \u001b[49m\u001b[43mattention_mask\u001b[49m\u001b[43m,\u001b[49m\n\u001b[1;32m    610\u001b[0m \u001b[43m        \u001b[49m\u001b[43mlayer_head_mask\u001b[49m\u001b[43m,\u001b[49m\n\u001b[1;32m    611\u001b[0m \u001b[43m        \u001b[49m\u001b[43mencoder_hidden_states\u001b[49m\u001b[43m,\u001b[49m\n\u001b[1;32m    612\u001b[0m \u001b[43m        \u001b[49m\u001b[43mencoder_attention_mask\u001b[49m\u001b[43m,\u001b[49m\n\u001b[1;32m    613\u001b[0m \u001b[43m        \u001b[49m\u001b[43mpast_key_value\u001b[49m\u001b[43m,\u001b[49m\n\u001b[1;32m    614\u001b[0m \u001b[43m        \u001b[49m\u001b[43moutput_attentions\u001b[49m\u001b[43m,\u001b[49m\n\u001b[1;32m    615\u001b[0m \u001b[43m    \u001b[49m\u001b[43m)\u001b[49m\n\u001b[1;32m    617\u001b[0m hidden_states \u001b[38;5;241m=\u001b[39m layer_outputs[\u001b[38;5;241m0\u001b[39m]\n\u001b[1;32m    618\u001b[0m \u001b[38;5;28;01mif\u001b[39;00m use_cache:\n",
      "File \u001b[0;32m/storage/sdp/anaconda3/envs/setfit-pr/lib/python3.9/site-packages/torch/nn/modules/module.py:1518\u001b[0m, in \u001b[0;36mModule._wrapped_call_impl\u001b[0;34m(self, *args, **kwargs)\u001b[0m\n\u001b[1;32m   1516\u001b[0m     \u001b[38;5;28;01mreturn\u001b[39;00m \u001b[38;5;28mself\u001b[39m\u001b[38;5;241m.\u001b[39m_compiled_call_impl(\u001b[38;5;241m*\u001b[39margs, \u001b[38;5;241m*\u001b[39m\u001b[38;5;241m*\u001b[39mkwargs)  \u001b[38;5;66;03m# type: ignore[misc]\u001b[39;00m\n\u001b[1;32m   1517\u001b[0m \u001b[38;5;28;01melse\u001b[39;00m:\n\u001b[0;32m-> 1518\u001b[0m     \u001b[38;5;28;01mreturn\u001b[39;00m \u001b[38;5;28;43mself\u001b[39;49m\u001b[38;5;241;43m.\u001b[39;49m\u001b[43m_call_impl\u001b[49m\u001b[43m(\u001b[49m\u001b[38;5;241;43m*\u001b[39;49m\u001b[43margs\u001b[49m\u001b[43m,\u001b[49m\u001b[43m \u001b[49m\u001b[38;5;241;43m*\u001b[39;49m\u001b[38;5;241;43m*\u001b[39;49m\u001b[43mkwargs\u001b[49m\u001b[43m)\u001b[49m\n",
      "File \u001b[0;32m/storage/sdp/anaconda3/envs/setfit-pr/lib/python3.9/site-packages/torch/nn/modules/module.py:1527\u001b[0m, in \u001b[0;36mModule._call_impl\u001b[0;34m(self, *args, **kwargs)\u001b[0m\n\u001b[1;32m   1522\u001b[0m \u001b[38;5;66;03m# If we don't have any hooks, we want to skip the rest of the logic in\u001b[39;00m\n\u001b[1;32m   1523\u001b[0m \u001b[38;5;66;03m# this function, and just call forward.\u001b[39;00m\n\u001b[1;32m   1524\u001b[0m \u001b[38;5;28;01mif\u001b[39;00m \u001b[38;5;129;01mnot\u001b[39;00m (\u001b[38;5;28mself\u001b[39m\u001b[38;5;241m.\u001b[39m_backward_hooks \u001b[38;5;129;01mor\u001b[39;00m \u001b[38;5;28mself\u001b[39m\u001b[38;5;241m.\u001b[39m_backward_pre_hooks \u001b[38;5;129;01mor\u001b[39;00m \u001b[38;5;28mself\u001b[39m\u001b[38;5;241m.\u001b[39m_forward_hooks \u001b[38;5;129;01mor\u001b[39;00m \u001b[38;5;28mself\u001b[39m\u001b[38;5;241m.\u001b[39m_forward_pre_hooks\n\u001b[1;32m   1525\u001b[0m         \u001b[38;5;129;01mor\u001b[39;00m _global_backward_pre_hooks \u001b[38;5;129;01mor\u001b[39;00m _global_backward_hooks\n\u001b[1;32m   1526\u001b[0m         \u001b[38;5;129;01mor\u001b[39;00m _global_forward_hooks \u001b[38;5;129;01mor\u001b[39;00m _global_forward_pre_hooks):\n\u001b[0;32m-> 1527\u001b[0m     \u001b[38;5;28;01mreturn\u001b[39;00m \u001b[43mforward_call\u001b[49m\u001b[43m(\u001b[49m\u001b[38;5;241;43m*\u001b[39;49m\u001b[43margs\u001b[49m\u001b[43m,\u001b[49m\u001b[43m \u001b[49m\u001b[38;5;241;43m*\u001b[39;49m\u001b[38;5;241;43m*\u001b[39;49m\u001b[43mkwargs\u001b[49m\u001b[43m)\u001b[49m\n\u001b[1;32m   1529\u001b[0m \u001b[38;5;28;01mtry\u001b[39;00m:\n\u001b[1;32m   1530\u001b[0m     result \u001b[38;5;241m=\u001b[39m \u001b[38;5;28;01mNone\u001b[39;00m\n",
      "File \u001b[0;32m/storage/sdp/anaconda3/envs/setfit-pr/lib/python3.9/site-packages/transformers/models/bert/modeling_bert.py:497\u001b[0m, in \u001b[0;36mBertLayer.forward\u001b[0;34m(self, hidden_states, attention_mask, head_mask, encoder_hidden_states, encoder_attention_mask, past_key_value, output_attentions)\u001b[0m\n\u001b[1;32m    485\u001b[0m \u001b[38;5;28;01mdef\u001b[39;00m \u001b[38;5;21mforward\u001b[39m(\n\u001b[1;32m    486\u001b[0m     \u001b[38;5;28mself\u001b[39m,\n\u001b[1;32m    487\u001b[0m     hidden_states: torch\u001b[38;5;241m.\u001b[39mTensor,\n\u001b[0;32m   (...)\u001b[0m\n\u001b[1;32m    494\u001b[0m ) \u001b[38;5;241m-\u001b[39m\u001b[38;5;241m>\u001b[39m Tuple[torch\u001b[38;5;241m.\u001b[39mTensor]:\n\u001b[1;32m    495\u001b[0m     \u001b[38;5;66;03m# decoder uni-directional self-attention cached key/values tuple is at positions 1,2\u001b[39;00m\n\u001b[1;32m    496\u001b[0m     self_attn_past_key_value \u001b[38;5;241m=\u001b[39m past_key_value[:\u001b[38;5;241m2\u001b[39m] \u001b[38;5;28;01mif\u001b[39;00m past_key_value \u001b[38;5;129;01mis\u001b[39;00m \u001b[38;5;129;01mnot\u001b[39;00m \u001b[38;5;28;01mNone\u001b[39;00m \u001b[38;5;28;01melse\u001b[39;00m \u001b[38;5;28;01mNone\u001b[39;00m\n\u001b[0;32m--> 497\u001b[0m     self_attention_outputs \u001b[38;5;241m=\u001b[39m \u001b[38;5;28;43mself\u001b[39;49m\u001b[38;5;241;43m.\u001b[39;49m\u001b[43mattention\u001b[49m\u001b[43m(\u001b[49m\n\u001b[1;32m    498\u001b[0m \u001b[43m        \u001b[49m\u001b[43mhidden_states\u001b[49m\u001b[43m,\u001b[49m\n\u001b[1;32m    499\u001b[0m \u001b[43m        \u001b[49m\u001b[43mattention_mask\u001b[49m\u001b[43m,\u001b[49m\n\u001b[1;32m    500\u001b[0m \u001b[43m        \u001b[49m\u001b[43mhead_mask\u001b[49m\u001b[43m,\u001b[49m\n\u001b[1;32m    501\u001b[0m \u001b[43m        \u001b[49m\u001b[43moutput_attentions\u001b[49m\u001b[38;5;241;43m=\u001b[39;49m\u001b[43moutput_attentions\u001b[49m\u001b[43m,\u001b[49m\n\u001b[1;32m    502\u001b[0m \u001b[43m        \u001b[49m\u001b[43mpast_key_value\u001b[49m\u001b[38;5;241;43m=\u001b[39;49m\u001b[43mself_attn_past_key_value\u001b[49m\u001b[43m,\u001b[49m\n\u001b[1;32m    503\u001b[0m \u001b[43m    \u001b[49m\u001b[43m)\u001b[49m\n\u001b[1;32m    504\u001b[0m     attention_output \u001b[38;5;241m=\u001b[39m self_attention_outputs[\u001b[38;5;241m0\u001b[39m]\n\u001b[1;32m    506\u001b[0m     \u001b[38;5;66;03m# if decoder, the last output is tuple of self-attn cache\u001b[39;00m\n",
      "File \u001b[0;32m/storage/sdp/anaconda3/envs/setfit-pr/lib/python3.9/site-packages/torch/nn/modules/module.py:1518\u001b[0m, in \u001b[0;36mModule._wrapped_call_impl\u001b[0;34m(self, *args, **kwargs)\u001b[0m\n\u001b[1;32m   1516\u001b[0m     \u001b[38;5;28;01mreturn\u001b[39;00m \u001b[38;5;28mself\u001b[39m\u001b[38;5;241m.\u001b[39m_compiled_call_impl(\u001b[38;5;241m*\u001b[39margs, \u001b[38;5;241m*\u001b[39m\u001b[38;5;241m*\u001b[39mkwargs)  \u001b[38;5;66;03m# type: ignore[misc]\u001b[39;00m\n\u001b[1;32m   1517\u001b[0m \u001b[38;5;28;01melse\u001b[39;00m:\n\u001b[0;32m-> 1518\u001b[0m     \u001b[38;5;28;01mreturn\u001b[39;00m \u001b[38;5;28;43mself\u001b[39;49m\u001b[38;5;241;43m.\u001b[39;49m\u001b[43m_call_impl\u001b[49m\u001b[43m(\u001b[49m\u001b[38;5;241;43m*\u001b[39;49m\u001b[43margs\u001b[49m\u001b[43m,\u001b[49m\u001b[43m \u001b[49m\u001b[38;5;241;43m*\u001b[39;49m\u001b[38;5;241;43m*\u001b[39;49m\u001b[43mkwargs\u001b[49m\u001b[43m)\u001b[49m\n",
      "File \u001b[0;32m/storage/sdp/anaconda3/envs/setfit-pr/lib/python3.9/site-packages/torch/nn/modules/module.py:1527\u001b[0m, in \u001b[0;36mModule._call_impl\u001b[0;34m(self, *args, **kwargs)\u001b[0m\n\u001b[1;32m   1522\u001b[0m \u001b[38;5;66;03m# If we don't have any hooks, we want to skip the rest of the logic in\u001b[39;00m\n\u001b[1;32m   1523\u001b[0m \u001b[38;5;66;03m# this function, and just call forward.\u001b[39;00m\n\u001b[1;32m   1524\u001b[0m \u001b[38;5;28;01mif\u001b[39;00m \u001b[38;5;129;01mnot\u001b[39;00m (\u001b[38;5;28mself\u001b[39m\u001b[38;5;241m.\u001b[39m_backward_hooks \u001b[38;5;129;01mor\u001b[39;00m \u001b[38;5;28mself\u001b[39m\u001b[38;5;241m.\u001b[39m_backward_pre_hooks \u001b[38;5;129;01mor\u001b[39;00m \u001b[38;5;28mself\u001b[39m\u001b[38;5;241m.\u001b[39m_forward_hooks \u001b[38;5;129;01mor\u001b[39;00m \u001b[38;5;28mself\u001b[39m\u001b[38;5;241m.\u001b[39m_forward_pre_hooks\n\u001b[1;32m   1525\u001b[0m         \u001b[38;5;129;01mor\u001b[39;00m _global_backward_pre_hooks \u001b[38;5;129;01mor\u001b[39;00m _global_backward_hooks\n\u001b[1;32m   1526\u001b[0m         \u001b[38;5;129;01mor\u001b[39;00m _global_forward_hooks \u001b[38;5;129;01mor\u001b[39;00m _global_forward_pre_hooks):\n\u001b[0;32m-> 1527\u001b[0m     \u001b[38;5;28;01mreturn\u001b[39;00m \u001b[43mforward_call\u001b[49m\u001b[43m(\u001b[49m\u001b[38;5;241;43m*\u001b[39;49m\u001b[43margs\u001b[49m\u001b[43m,\u001b[49m\u001b[43m \u001b[49m\u001b[38;5;241;43m*\u001b[39;49m\u001b[38;5;241;43m*\u001b[39;49m\u001b[43mkwargs\u001b[49m\u001b[43m)\u001b[49m\n\u001b[1;32m   1529\u001b[0m \u001b[38;5;28;01mtry\u001b[39;00m:\n\u001b[1;32m   1530\u001b[0m     result \u001b[38;5;241m=\u001b[39m \u001b[38;5;28;01mNone\u001b[39;00m\n",
      "File \u001b[0;32m/storage/sdp/anaconda3/envs/setfit-pr/lib/python3.9/site-packages/transformers/models/bert/modeling_bert.py:436\u001b[0m, in \u001b[0;36mBertAttention.forward\u001b[0;34m(self, hidden_states, attention_mask, head_mask, encoder_hidden_states, encoder_attention_mask, past_key_value, output_attentions)\u001b[0m\n\u001b[1;32m    417\u001b[0m \u001b[38;5;28;01mdef\u001b[39;00m \u001b[38;5;21mforward\u001b[39m(\n\u001b[1;32m    418\u001b[0m     \u001b[38;5;28mself\u001b[39m,\n\u001b[1;32m    419\u001b[0m     hidden_states: torch\u001b[38;5;241m.\u001b[39mTensor,\n\u001b[0;32m   (...)\u001b[0m\n\u001b[1;32m    425\u001b[0m     output_attentions: Optional[\u001b[38;5;28mbool\u001b[39m] \u001b[38;5;241m=\u001b[39m \u001b[38;5;28;01mFalse\u001b[39;00m,\n\u001b[1;32m    426\u001b[0m ) \u001b[38;5;241m-\u001b[39m\u001b[38;5;241m>\u001b[39m Tuple[torch\u001b[38;5;241m.\u001b[39mTensor]:\n\u001b[1;32m    427\u001b[0m     self_outputs \u001b[38;5;241m=\u001b[39m \u001b[38;5;28mself\u001b[39m\u001b[38;5;241m.\u001b[39mself(\n\u001b[1;32m    428\u001b[0m         hidden_states,\n\u001b[1;32m    429\u001b[0m         attention_mask,\n\u001b[0;32m   (...)\u001b[0m\n\u001b[1;32m    434\u001b[0m         output_attentions,\n\u001b[1;32m    435\u001b[0m     )\n\u001b[0;32m--> 436\u001b[0m     attention_output \u001b[38;5;241m=\u001b[39m \u001b[38;5;28;43mself\u001b[39;49m\u001b[38;5;241;43m.\u001b[39;49m\u001b[43moutput\u001b[49m\u001b[43m(\u001b[49m\u001b[43mself_outputs\u001b[49m\u001b[43m[\u001b[49m\u001b[38;5;241;43m0\u001b[39;49m\u001b[43m]\u001b[49m\u001b[43m,\u001b[49m\u001b[43m \u001b[49m\u001b[43mhidden_states\u001b[49m\u001b[43m)\u001b[49m\n\u001b[1;32m    437\u001b[0m     outputs \u001b[38;5;241m=\u001b[39m (attention_output,) \u001b[38;5;241m+\u001b[39m self_outputs[\u001b[38;5;241m1\u001b[39m:]  \u001b[38;5;66;03m# add attentions if we output them\u001b[39;00m\n\u001b[1;32m    438\u001b[0m     \u001b[38;5;28;01mreturn\u001b[39;00m outputs\n",
      "File \u001b[0;32m/storage/sdp/anaconda3/envs/setfit-pr/lib/python3.9/site-packages/torch/nn/modules/module.py:1518\u001b[0m, in \u001b[0;36mModule._wrapped_call_impl\u001b[0;34m(self, *args, **kwargs)\u001b[0m\n\u001b[1;32m   1516\u001b[0m     \u001b[38;5;28;01mreturn\u001b[39;00m \u001b[38;5;28mself\u001b[39m\u001b[38;5;241m.\u001b[39m_compiled_call_impl(\u001b[38;5;241m*\u001b[39margs, \u001b[38;5;241m*\u001b[39m\u001b[38;5;241m*\u001b[39mkwargs)  \u001b[38;5;66;03m# type: ignore[misc]\u001b[39;00m\n\u001b[1;32m   1517\u001b[0m \u001b[38;5;28;01melse\u001b[39;00m:\n\u001b[0;32m-> 1518\u001b[0m     \u001b[38;5;28;01mreturn\u001b[39;00m \u001b[38;5;28;43mself\u001b[39;49m\u001b[38;5;241;43m.\u001b[39;49m\u001b[43m_call_impl\u001b[49m\u001b[43m(\u001b[49m\u001b[38;5;241;43m*\u001b[39;49m\u001b[43margs\u001b[49m\u001b[43m,\u001b[49m\u001b[43m \u001b[49m\u001b[38;5;241;43m*\u001b[39;49m\u001b[38;5;241;43m*\u001b[39;49m\u001b[43mkwargs\u001b[49m\u001b[43m)\u001b[49m\n",
      "File \u001b[0;32m/storage/sdp/anaconda3/envs/setfit-pr/lib/python3.9/site-packages/torch/nn/modules/module.py:1527\u001b[0m, in \u001b[0;36mModule._call_impl\u001b[0;34m(self, *args, **kwargs)\u001b[0m\n\u001b[1;32m   1522\u001b[0m \u001b[38;5;66;03m# If we don't have any hooks, we want to skip the rest of the logic in\u001b[39;00m\n\u001b[1;32m   1523\u001b[0m \u001b[38;5;66;03m# this function, and just call forward.\u001b[39;00m\n\u001b[1;32m   1524\u001b[0m \u001b[38;5;28;01mif\u001b[39;00m \u001b[38;5;129;01mnot\u001b[39;00m (\u001b[38;5;28mself\u001b[39m\u001b[38;5;241m.\u001b[39m_backward_hooks \u001b[38;5;129;01mor\u001b[39;00m \u001b[38;5;28mself\u001b[39m\u001b[38;5;241m.\u001b[39m_backward_pre_hooks \u001b[38;5;129;01mor\u001b[39;00m \u001b[38;5;28mself\u001b[39m\u001b[38;5;241m.\u001b[39m_forward_hooks \u001b[38;5;129;01mor\u001b[39;00m \u001b[38;5;28mself\u001b[39m\u001b[38;5;241m.\u001b[39m_forward_pre_hooks\n\u001b[1;32m   1525\u001b[0m         \u001b[38;5;129;01mor\u001b[39;00m _global_backward_pre_hooks \u001b[38;5;129;01mor\u001b[39;00m _global_backward_hooks\n\u001b[1;32m   1526\u001b[0m         \u001b[38;5;129;01mor\u001b[39;00m _global_forward_hooks \u001b[38;5;129;01mor\u001b[39;00m _global_forward_pre_hooks):\n\u001b[0;32m-> 1527\u001b[0m     \u001b[38;5;28;01mreturn\u001b[39;00m \u001b[43mforward_call\u001b[49m\u001b[43m(\u001b[49m\u001b[38;5;241;43m*\u001b[39;49m\u001b[43margs\u001b[49m\u001b[43m,\u001b[49m\u001b[43m \u001b[49m\u001b[38;5;241;43m*\u001b[39;49m\u001b[38;5;241;43m*\u001b[39;49m\u001b[43mkwargs\u001b[49m\u001b[43m)\u001b[49m\n\u001b[1;32m   1529\u001b[0m \u001b[38;5;28;01mtry\u001b[39;00m:\n\u001b[1;32m   1530\u001b[0m     result \u001b[38;5;241m=\u001b[39m \u001b[38;5;28;01mNone\u001b[39;00m\n",
      "File \u001b[0;32m/storage/sdp/anaconda3/envs/setfit-pr/lib/python3.9/site-packages/transformers/models/bert/modeling_bert.py:388\u001b[0m, in \u001b[0;36mBertSelfOutput.forward\u001b[0;34m(self, hidden_states, input_tensor)\u001b[0m\n\u001b[1;32m    386\u001b[0m hidden_states \u001b[38;5;241m=\u001b[39m \u001b[38;5;28mself\u001b[39m\u001b[38;5;241m.\u001b[39mdense(hidden_states)\n\u001b[1;32m    387\u001b[0m hidden_states \u001b[38;5;241m=\u001b[39m \u001b[38;5;28mself\u001b[39m\u001b[38;5;241m.\u001b[39mdropout(hidden_states)\n\u001b[0;32m--> 388\u001b[0m hidden_states \u001b[38;5;241m=\u001b[39m \u001b[38;5;28mself\u001b[39m\u001b[38;5;241m.\u001b[39mLayerNorm(\u001b[43mhidden_states\u001b[49m\u001b[43m \u001b[49m\u001b[38;5;241;43m+\u001b[39;49m\u001b[43m \u001b[49m\u001b[43minput_tensor\u001b[49m)\n\u001b[1;32m    389\u001b[0m \u001b[38;5;28;01mreturn\u001b[39;00m hidden_states\n",
      "\u001b[0;31mKeyboardInterrupt\u001b[0m: "
     ]
    }
   ],
   "source": [
    "import warnings\n",
    "warnings.filterwarnings(\"ignore\")\n",
    "\n",
    "from datasets import load_dataset\n",
    "test_dataset = load_dataset(\"SetFit/sst2\")[\"validation\"]\n",
    "from setfit import SetFitModel\n",
    "small_model = SetFitModel.from_pretrained(\"moshew/bge-small-en-v1.5_setfit-sst2-english\")\n",
    "pb = PerformanceBenchmark(model=small_model, dataset=test_dataset, optim_type=\"bge-small (PyTorch)\")\n",
    "perf_metrics = pb.run_benchmark()\n",
    "plot_metrics(perf_metrics)"
   ]
  },
  {
   "cell_type": "markdown",
   "id": "AiPUhOCNWRny",
   "metadata": {
    "id": "AiPUhOCNWRny"
   },
   "source": [
    "## 4. Optimizing with [`optimum-intel`](https://github.com/huggingface/optimum-intel)"
   ]
  },
  {
   "cell_type": "code",
   "execution_count": null,
   "id": "b96ea1d8-b82a-4a88-b3eb-2fa87582e6e8",
   "metadata": {},
   "outputs": [
    {
     "name": "stdout",
     "output_type": "stream",
     "text": [
      "Requirement already satisfied: intel-extension-for-pytorch in /storage/sdp/anaconda3/envs/setfit/lib/python3.10/site-packages (2.1.0)\n",
      "Requirement already satisfied: psutil in /storage/sdp/anaconda3/envs/setfit/lib/python3.10/site-packages (from intel-extension-for-pytorch) (5.9.7)\n",
      "Requirement already satisfied: numpy in /home/sdp/.local/lib/python3.10/site-packages (from intel-extension-for-pytorch) (1.25.2)\n",
      "Requirement already satisfied: packaging in /storage/sdp/anaconda3/envs/setfit/lib/python3.10/site-packages (from intel-extension-for-pytorch) (23.2)\n",
      "Requirement already satisfied: intel-openmp in /storage/sdp/anaconda3/envs/setfit/lib/python3.10/site-packages (2024.0.0)\n",
      "Requirement already satisfied: optimum[neural-compressor] in /storage/sdp/anaconda3/envs/setfit/lib/python3.10/site-packages (1.16.2)\n",
      "Requirement already satisfied: coloredlogs in /storage/sdp/anaconda3/envs/setfit/lib/python3.10/site-packages (from optimum[neural-compressor]) (15.0.1)\n",
      "Requirement already satisfied: sympy in /storage/sdp/anaconda3/envs/setfit/lib/python3.10/site-packages (from optimum[neural-compressor]) (1.12)\n",
      "Requirement already satisfied: transformers>=4.26.0 in /storage/sdp/anaconda3/envs/setfit/lib/python3.10/site-packages (from transformers[sentencepiece]>=4.26.0->optimum[neural-compressor]) (4.36.2)\n",
      "Requirement already satisfied: torch>=1.11 in /storage/sdp/anaconda3/envs/setfit/lib/python3.10/site-packages (from optimum[neural-compressor]) (2.1.0+cpu)\n",
      "Requirement already satisfied: packaging in /storage/sdp/anaconda3/envs/setfit/lib/python3.10/site-packages (from optimum[neural-compressor]) (23.2)\n",
      "Requirement already satisfied: numpy in /home/sdp/.local/lib/python3.10/site-packages (from optimum[neural-compressor]) (1.25.2)\n",
      "Requirement already satisfied: huggingface-hub>=0.8.0 in /storage/sdp/anaconda3/envs/setfit/lib/python3.10/site-packages (from optimum[neural-compressor]) (0.20.2)\n",
      "Requirement already satisfied: datasets in /storage/sdp/anaconda3/envs/setfit/lib/python3.10/site-packages (from optimum[neural-compressor]) (2.16.1)\n",
      "Requirement already satisfied: optimum-intel>=1.12.0 in /storage/sdp/anaconda3/envs/setfit/lib/python3.10/site-packages (from optimum-intel[neural-compressor]>=1.12.0; extra == \"neural-compressor\"->optimum[neural-compressor]) (1.12.4)\n",
      "Requirement already satisfied: filelock in /storage/sdp/anaconda3/envs/setfit/lib/python3.10/site-packages (from huggingface-hub>=0.8.0->optimum[neural-compressor]) (3.13.1)\n",
      "Requirement already satisfied: fsspec>=2023.5.0 in /storage/sdp/anaconda3/envs/setfit/lib/python3.10/site-packages (from huggingface-hub>=0.8.0->optimum[neural-compressor]) (2023.10.0)\n",
      "Requirement already satisfied: requests in /storage/sdp/anaconda3/envs/setfit/lib/python3.10/site-packages (from huggingface-hub>=0.8.0->optimum[neural-compressor]) (2.31.0)\n",
      "Requirement already satisfied: tqdm>=4.42.1 in /storage/sdp/anaconda3/envs/setfit/lib/python3.10/site-packages (from huggingface-hub>=0.8.0->optimum[neural-compressor]) (4.66.1)\n",
      "Requirement already satisfied: pyyaml>=5.1 in /storage/sdp/anaconda3/envs/setfit/lib/python3.10/site-packages (from huggingface-hub>=0.8.0->optimum[neural-compressor]) (6.0.1)\n",
      "Requirement already satisfied: typing-extensions>=3.7.4.3 in /storage/sdp/anaconda3/envs/setfit/lib/python3.10/site-packages (from huggingface-hub>=0.8.0->optimum[neural-compressor]) (4.9.0)\n",
      "Requirement already satisfied: sentencepiece in /storage/sdp/anaconda3/envs/setfit/lib/python3.10/site-packages (from optimum-intel>=1.12.0->optimum-intel[neural-compressor]>=1.12.0; extra == \"neural-compressor\"->optimum[neural-compressor]) (0.1.99)\n",
      "Requirement already satisfied: scipy in /storage/sdp/anaconda3/envs/setfit/lib/python3.10/site-packages (from optimum-intel>=1.12.0->optimum-intel[neural-compressor]>=1.12.0; extra == \"neural-compressor\"->optimum[neural-compressor]) (1.11.4)\n",
      "Requirement already satisfied: accelerate in /storage/sdp/anaconda3/envs/setfit/lib/python3.10/site-packages (from optimum-intel>=1.12.0->optimum-intel[neural-compressor]>=1.12.0; extra == \"neural-compressor\"->optimum[neural-compressor]) (0.26.1)\n",
      "Requirement already satisfied: pyarrow>=8.0.0 in /storage/sdp/anaconda3/envs/setfit/lib/python3.10/site-packages (from datasets->optimum[neural-compressor]) (14.0.2)\n",
      "Requirement already satisfied: pyarrow-hotfix in /storage/sdp/anaconda3/envs/setfit/lib/python3.10/site-packages (from datasets->optimum[neural-compressor]) (0.6)\n",
      "Requirement already satisfied: dill<0.3.8,>=0.3.0 in /storage/sdp/anaconda3/envs/setfit/lib/python3.10/site-packages (from datasets->optimum[neural-compressor]) (0.3.7)\n",
      "Requirement already satisfied: pandas in /home/sdp/.local/lib/python3.10/site-packages (from datasets->optimum[neural-compressor]) (2.0.3)\n",
      "Requirement already satisfied: xxhash in /storage/sdp/anaconda3/envs/setfit/lib/python3.10/site-packages (from datasets->optimum[neural-compressor]) (3.4.1)\n",
      "Requirement already satisfied: multiprocess in /storage/sdp/anaconda3/envs/setfit/lib/python3.10/site-packages (from datasets->optimum[neural-compressor]) (0.70.15)\n",
      "Requirement already satisfied: aiohttp in /storage/sdp/anaconda3/envs/setfit/lib/python3.10/site-packages (from datasets->optimum[neural-compressor]) (3.9.1)\n",
      "Requirement already satisfied: neural-compressor>=2.2.0 in /storage/sdp/anaconda3/envs/setfit/lib/python3.10/site-packages (from optimum-intel[neural-compressor]>=1.12.0; extra == \"neural-compressor\"->optimum[neural-compressor]) (2.4.1)\n",
      "Requirement already satisfied: onnx in /storage/sdp/anaconda3/envs/setfit/lib/python3.10/site-packages (from optimum-intel[neural-compressor]>=1.12.0; extra == \"neural-compressor\"->optimum[neural-compressor]) (1.15.0)\n",
      "Requirement already satisfied: onnxruntime<1.15.0 in /storage/sdp/anaconda3/envs/setfit/lib/python3.10/site-packages (from optimum-intel[neural-compressor]>=1.12.0; extra == \"neural-compressor\"->optimum[neural-compressor]) (1.14.1)\n",
      "Requirement already satisfied: networkx in /storage/sdp/anaconda3/envs/setfit/lib/python3.10/site-packages (from torch>=1.11->optimum[neural-compressor]) (3.2.1)\n",
      "Requirement already satisfied: jinja2 in /storage/sdp/anaconda3/envs/setfit/lib/python3.10/site-packages (from torch>=1.11->optimum[neural-compressor]) (3.1.3)\n",
      "Requirement already satisfied: regex!=2019.12.17 in /storage/sdp/anaconda3/envs/setfit/lib/python3.10/site-packages (from transformers>=4.26.0->transformers[sentencepiece]>=4.26.0->optimum[neural-compressor]) (2023.12.25)\n",
      "Requirement already satisfied: tokenizers<0.19,>=0.14 in /storage/sdp/anaconda3/envs/setfit/lib/python3.10/site-packages (from transformers>=4.26.0->transformers[sentencepiece]>=4.26.0->optimum[neural-compressor]) (0.15.0)\n",
      "Requirement already satisfied: safetensors>=0.3.1 in /storage/sdp/anaconda3/envs/setfit/lib/python3.10/site-packages (from transformers>=4.26.0->transformers[sentencepiece]>=4.26.0->optimum[neural-compressor]) (0.4.1)\n",
      "Requirement already satisfied: protobuf in /storage/sdp/anaconda3/envs/setfit/lib/python3.10/site-packages (from transformers[sentencepiece]>=4.26.0->optimum[neural-compressor]) (4.25.2)\n",
      "Requirement already satisfied: humanfriendly>=9.1 in /storage/sdp/anaconda3/envs/setfit/lib/python3.10/site-packages (from coloredlogs->optimum[neural-compressor]) (10.0)\n",
      "Requirement already satisfied: mpmath>=0.19 in /storage/sdp/anaconda3/envs/setfit/lib/python3.10/site-packages (from sympy->optimum[neural-compressor]) (1.3.0)\n",
      "Requirement already satisfied: attrs>=17.3.0 in /storage/sdp/anaconda3/envs/setfit/lib/python3.10/site-packages (from aiohttp->datasets->optimum[neural-compressor]) (23.2.0)\n",
      "Requirement already satisfied: multidict<7.0,>=4.5 in /storage/sdp/anaconda3/envs/setfit/lib/python3.10/site-packages (from aiohttp->datasets->optimum[neural-compressor]) (6.0.4)\n",
      "Requirement already satisfied: yarl<2.0,>=1.0 in /storage/sdp/anaconda3/envs/setfit/lib/python3.10/site-packages (from aiohttp->datasets->optimum[neural-compressor]) (1.9.4)\n",
      "Requirement already satisfied: frozenlist>=1.1.1 in /storage/sdp/anaconda3/envs/setfit/lib/python3.10/site-packages (from aiohttp->datasets->optimum[neural-compressor]) (1.4.1)\n",
      "Requirement already satisfied: aiosignal>=1.1.2 in /storage/sdp/anaconda3/envs/setfit/lib/python3.10/site-packages (from aiohttp->datasets->optimum[neural-compressor]) (1.3.1)\n",
      "Requirement already satisfied: async-timeout<5.0,>=4.0 in /storage/sdp/anaconda3/envs/setfit/lib/python3.10/site-packages (from aiohttp->datasets->optimum[neural-compressor]) (4.0.3)\n",
      "Requirement already satisfied: deprecated>=1.2.13 in /storage/sdp/anaconda3/envs/setfit/lib/python3.10/site-packages (from neural-compressor>=2.2.0->optimum-intel[neural-compressor]>=1.12.0; extra == \"neural-compressor\"->optimum[neural-compressor]) (1.2.14)\n",
      "Requirement already satisfied: opencv-python-headless in /home/sdp/.local/lib/python3.10/site-packages (from neural-compressor>=2.2.0->optimum-intel[neural-compressor]>=1.12.0; extra == \"neural-compressor\"->optimum[neural-compressor]) (4.8.0.74)\n",
      "Requirement already satisfied: Pillow in /storage/sdp/anaconda3/envs/setfit/lib/python3.10/site-packages (from neural-compressor>=2.2.0->optimum-intel[neural-compressor]>=1.12.0; extra == \"neural-compressor\"->optimum[neural-compressor]) (10.2.0)\n",
      "Requirement already satisfied: prettytable in /storage/sdp/anaconda3/envs/setfit/lib/python3.10/site-packages (from neural-compressor>=2.2.0->optimum-intel[neural-compressor]>=1.12.0; extra == \"neural-compressor\"->optimum[neural-compressor]) (3.9.0)\n",
      "Requirement already satisfied: psutil in /storage/sdp/anaconda3/envs/setfit/lib/python3.10/site-packages (from neural-compressor>=2.2.0->optimum-intel[neural-compressor]>=1.12.0; extra == \"neural-compressor\"->optimum[neural-compressor]) (5.9.7)\n",
      "Requirement already satisfied: py-cpuinfo in /storage/sdp/anaconda3/envs/setfit/lib/python3.10/site-packages (from neural-compressor>=2.2.0->optimum-intel[neural-compressor]>=1.12.0; extra == \"neural-compressor\"->optimum[neural-compressor]) (9.0.0)\n",
      "Requirement already satisfied: schema in /storage/sdp/anaconda3/envs/setfit/lib/python3.10/site-packages (from neural-compressor>=2.2.0->optimum-intel[neural-compressor]>=1.12.0; extra == \"neural-compressor\"->optimum[neural-compressor]) (0.7.5)\n",
      "Requirement already satisfied: scikit-learn in /storage/sdp/anaconda3/envs/setfit/lib/python3.10/site-packages (from neural-compressor>=2.2.0->optimum-intel[neural-compressor]>=1.12.0; extra == \"neural-compressor\"->optimum[neural-compressor]) (1.3.2)\n",
      "Requirement already satisfied: pycocotools in /storage/sdp/anaconda3/envs/setfit/lib/python3.10/site-packages (from neural-compressor>=2.2.0->optimum-intel[neural-compressor]>=1.12.0; extra == \"neural-compressor\"->optimum[neural-compressor]) (2.0.7)\n",
      "Requirement already satisfied: flatbuffers in /storage/sdp/anaconda3/envs/setfit/lib/python3.10/site-packages (from onnxruntime<1.15.0->optimum-intel[neural-compressor]>=1.12.0; extra == \"neural-compressor\"->optimum[neural-compressor]) (23.5.26)\n",
      "Requirement already satisfied: charset-normalizer<4,>=2 in /storage/sdp/anaconda3/envs/setfit/lib/python3.10/site-packages (from requests->huggingface-hub>=0.8.0->optimum[neural-compressor]) (3.3.2)\n",
      "Requirement already satisfied: idna<4,>=2.5 in /storage/sdp/anaconda3/envs/setfit/lib/python3.10/site-packages (from requests->huggingface-hub>=0.8.0->optimum[neural-compressor]) (3.6)\n",
      "Requirement already satisfied: urllib3<3,>=1.21.1 in /storage/sdp/anaconda3/envs/setfit/lib/python3.10/site-packages (from requests->huggingface-hub>=0.8.0->optimum[neural-compressor]) (2.1.0)\n",
      "Requirement already satisfied: certifi>=2017.4.17 in /storage/sdp/anaconda3/envs/setfit/lib/python3.10/site-packages (from requests->huggingface-hub>=0.8.0->optimum[neural-compressor]) (2023.11.17)\n",
      "Requirement already satisfied: MarkupSafe>=2.0 in /storage/sdp/anaconda3/envs/setfit/lib/python3.10/site-packages (from jinja2->torch>=1.11->optimum[neural-compressor]) (2.1.3)\n",
      "Requirement already satisfied: python-dateutil>=2.8.2 in /home/sdp/.local/lib/python3.10/site-packages (from pandas->datasets->optimum[neural-compressor]) (2.8.2)\n",
      "Requirement already satisfied: pytz>=2020.1 in /storage/sdp/anaconda3/envs/setfit/lib/python3.10/site-packages (from pandas->datasets->optimum[neural-compressor]) (2023.3.post1)\n",
      "Requirement already satisfied: tzdata>=2022.1 in /home/sdp/.local/lib/python3.10/site-packages (from pandas->datasets->optimum[neural-compressor]) (2023.3)\n",
      "Requirement already satisfied: wrapt<2,>=1.10 in /storage/sdp/anaconda3/envs/setfit/lib/python3.10/site-packages (from deprecated>=1.2.13->neural-compressor>=2.2.0->optimum-intel[neural-compressor]>=1.12.0; extra == \"neural-compressor\"->optimum[neural-compressor]) (1.16.0)\n",
      "Requirement already satisfied: six>=1.5 in /storage/sdp/anaconda3/envs/setfit/lib/python3.10/site-packages (from python-dateutil>=2.8.2->pandas->datasets->optimum[neural-compressor]) (1.16.0)\n",
      "Requirement already satisfied: wcwidth in /storage/sdp/anaconda3/envs/setfit/lib/python3.10/site-packages (from prettytable->neural-compressor>=2.2.0->optimum-intel[neural-compressor]>=1.12.0; extra == \"neural-compressor\"->optimum[neural-compressor]) (0.2.13)\n",
      "Requirement already satisfied: matplotlib>=2.1.0 in /storage/sdp/anaconda3/envs/setfit/lib/python3.10/site-packages (from pycocotools->neural-compressor>=2.2.0->optimum-intel[neural-compressor]>=1.12.0; extra == \"neural-compressor\"->optimum[neural-compressor]) (3.8.2)\n",
      "Requirement already satisfied: contextlib2>=0.5.5 in /storage/sdp/anaconda3/envs/setfit/lib/python3.10/site-packages (from schema->neural-compressor>=2.2.0->optimum-intel[neural-compressor]>=1.12.0; extra == \"neural-compressor\"->optimum[neural-compressor]) (21.6.0)\n",
      "Requirement already satisfied: joblib>=1.1.1 in /storage/sdp/anaconda3/envs/setfit/lib/python3.10/site-packages (from scikit-learn->neural-compressor>=2.2.0->optimum-intel[neural-compressor]>=1.12.0; extra == \"neural-compressor\"->optimum[neural-compressor]) (1.3.2)\n",
      "Requirement already satisfied: threadpoolctl>=2.0.0 in /storage/sdp/anaconda3/envs/setfit/lib/python3.10/site-packages (from scikit-learn->neural-compressor>=2.2.0->optimum-intel[neural-compressor]>=1.12.0; extra == \"neural-compressor\"->optimum[neural-compressor]) (3.2.0)\n",
      "Requirement already satisfied: contourpy>=1.0.1 in /storage/sdp/anaconda3/envs/setfit/lib/python3.10/site-packages (from matplotlib>=2.1.0->pycocotools->neural-compressor>=2.2.0->optimum-intel[neural-compressor]>=1.12.0; extra == \"neural-compressor\"->optimum[neural-compressor]) (1.2.0)\n",
      "Requirement already satisfied: cycler>=0.10 in /storage/sdp/anaconda3/envs/setfit/lib/python3.10/site-packages (from matplotlib>=2.1.0->pycocotools->neural-compressor>=2.2.0->optimum-intel[neural-compressor]>=1.12.0; extra == \"neural-compressor\"->optimum[neural-compressor]) (0.12.1)\n",
      "Requirement already satisfied: fonttools>=4.22.0 in /storage/sdp/anaconda3/envs/setfit/lib/python3.10/site-packages (from matplotlib>=2.1.0->pycocotools->neural-compressor>=2.2.0->optimum-intel[neural-compressor]>=1.12.0; extra == \"neural-compressor\"->optimum[neural-compressor]) (4.47.2)\n",
      "Requirement already satisfied: kiwisolver>=1.3.1 in /storage/sdp/anaconda3/envs/setfit/lib/python3.10/site-packages (from matplotlib>=2.1.0->pycocotools->neural-compressor>=2.2.0->optimum-intel[neural-compressor]>=1.12.0; extra == \"neural-compressor\"->optimum[neural-compressor]) (1.4.5)\n",
      "Requirement already satisfied: pyparsing>=2.3.1 in /storage/sdp/anaconda3/envs/setfit/lib/python3.10/site-packages (from matplotlib>=2.1.0->pycocotools->neural-compressor>=2.2.0->optimum-intel[neural-compressor]>=1.12.0; extra == \"neural-compressor\"->optimum[neural-compressor]) (3.1.1)\n"
     ]
    }
   ],
   "source": [
    "!python -m pip install torch==2.1 --index-url https://download.pytorch.org/whl/cpu -qqq\n",
    "!python -m pip install intel-extension-for-pytorch -qqq\n",
    "!python -m pip install intel-openmp -qqq\n",
    "!python -m pip install optimum[neural-compressor] --upgrade-strategy eager -qqq\n",
    "\n",
    "# RESTART KERNEL !"
   ]
  },
  {
   "cell_type": "code",
   "execution_count": null,
   "id": "0acba1e8",
   "metadata": {},
   "outputs": [],
   "source": [
    "# Quantize \"moshew/bge-small-en-v1.5_setfit-sst2-english\" using 100 samples:\n",
    "!cd ~ && git clone https://github.com/IntelLabs/fastRAG.git && cd -\n",
    "\n",
    "!python ~/fastRAG/scripts/optimizations/embedders/quantize_embedder.py \\\n",
    "    --quantize \\\n",
    "    --model_name \"moshew/bge-small-en-v1.5_setfit-sst2-english\" \\\n",
    "    --output_path bge-small-en-v1.5_setfit-sst2-quant/ \\\n",
    "    --sample_size 100 \\\n"
   ]
  },
  {
   "cell_type": "code",
   "execution_count": null,
   "id": "enaQpBF9WRn9",
   "metadata": {
    "id": "enaQpBF9WRn9"
   },
   "outputs": [],
   "source": [
    "from setfit.exporters.utils import mean_pooling\n",
    "\n",
    "class INCSetFitModel:\n",
    "    def __init__(self, inc_model, tokenizer, model_head):\n",
    "        self.inc_model = inc_model\n",
    "        self.tokenizer = tokenizer\n",
    "        self.model_head = model_head\n",
    "\n",
    "    def predict(self, inputs):\n",
    "        encoded_inputs = self.tokenizer(\n",
    "            inputs, padding=True, truncation=True, return_tensors=\"pt\"\n",
    "        ).to(self.inc_model.device)\n",
    "\n",
    "        outputs = self.inc_model(**encoded_inputs)\n",
    "        embeddings = mean_pooling(\n",
    "            outputs[\"last_hidden_state\"], encoded_inputs[\"attention_mask\"]\n",
    "        )\n",
    "        return self.model_head.predict(embeddings.cpu())\n",
    "\n",
    "    def __call__(self, inputs):\n",
    "        return self.predict(inputs)"
   ]
  },
  {
   "cell_type": "code",
   "execution_count": null,
   "id": "qRviEk2WWRn9",
   "metadata": {
    "colab": {
     "base_uri": "https://localhost:8080/"
    },
    "id": "qRviEk2WWRn9",
    "outputId": "33f010a8-376e-4f0c-b21b-97fe25bf1a81"
   },
   "outputs": [
    {
     "name": "stderr",
     "output_type": "stream",
     "text": [
      "/storage/sdp/anaconda3/envs/setfit/lib/python3.10/site-packages/neural_compressor/utils/utility.py:46: DeprecationWarning: pkg_resources is deprecated as an API. See https://setuptools.pypa.io/en/latest/pkg_resources.html\n",
      "  from pkg_resources import parse_version\n",
      "/storage/sdp/anaconda3/envs/setfit/lib/python3.10/site-packages/neural_compressor/experimental/common/criterion.py:430: DeprecationWarning: Call to deprecated function (or staticmethod) criterion_registry. -- Deprecated since version 2.0.\n",
      "  @criterion_registry(\"KnowledgeDistillationLoss\", \"pytorch\")\n",
      "/storage/sdp/anaconda3/envs/setfit/lib/python3.10/site-packages/neural_compressor/experimental/common/criterion.py:963: DeprecationWarning: Call to deprecated function (or staticmethod) criterion_registry. -- Deprecated since version 2.0.\n",
      "  @criterion_registry(\"IntermediateLayersKnowledgeDistillationLoss\", \"pytorch\")\n",
      "/storage/sdp/anaconda3/envs/setfit/lib/python3.10/site-packages/neural_compressor/experimental/common/optimizer.py:116: DeprecationWarning: Call to deprecated function (or staticmethod) optimizer_registry. -- Deprecated since version 2.0.\n",
      "  @optimizer_registry(\"SGD\", \"tensorflow\")\n",
      "/storage/sdp/anaconda3/envs/setfit/lib/python3.10/site-packages/neural_compressor/experimental/common/optimizer.py:143: DeprecationWarning: Call to deprecated function (or staticmethod) optimizer_registry. -- Deprecated since version 2.0.\n",
      "  @optimizer_registry(\"AdamW\", \"tensorflow\")\n",
      "/storage/sdp/anaconda3/envs/setfit/lib/python3.10/site-packages/neural_compressor/experimental/common/optimizer.py:177: DeprecationWarning: Call to deprecated function (or staticmethod) optimizer_registry. -- Deprecated since version 2.0.\n",
      "  @optimizer_registry(\"SGD\", \"pytorch\")\n",
      "/storage/sdp/anaconda3/envs/setfit/lib/python3.10/site-packages/neural_compressor/experimental/strategy/strategy.py:73: DeprecationWarning: Call to deprecated function (or staticmethod) strategy_registry. -- Deprecated since version 2.0.\n",
      "  class TuneStrategy(object):\n",
      "/storage/sdp/anaconda3/envs/setfit/lib/python3.10/site-packages/neural_compressor/experimental/strategy/bayesian.py:35: DeprecationWarning: Call to deprecated function (or staticmethod) strategy_registry. -- Deprecated since version 2.0.\n",
      "  class BayesianTuneStrategy(TuneStrategy):\n",
      "/storage/sdp/anaconda3/envs/setfit/lib/python3.10/site-packages/neural_compressor/experimental/strategy/auto_mixed_precision.py:33: DeprecationWarning: Call to deprecated function (or staticmethod) strategy_registry. -- Deprecated since version 2.0.\n",
      "  class AutoMixedPrecisionTuneStrategy(TuneStrategy):\n",
      "/storage/sdp/anaconda3/envs/setfit/lib/python3.10/site-packages/neural_compressor/experimental/strategy/mse_v2.py:32: DeprecationWarning: Call to deprecated function (or staticmethod) strategy_registry. -- Deprecated since version 2.0.\n",
      "  class MSE_V2TuneStrategy(TuneStrategy):\n",
      "/storage/sdp/anaconda3/envs/setfit/lib/python3.10/site-packages/neural_compressor/experimental/strategy/mse.py:33: DeprecationWarning: Call to deprecated function (or staticmethod) strategy_registry. -- Deprecated since version 2.0.\n",
      "  class MSETuneStrategy(TuneStrategy):\n",
      "/storage/sdp/anaconda3/envs/setfit/lib/python3.10/site-packages/neural_compressor/experimental/strategy/basic.py:32: DeprecationWarning: Call to deprecated function (or staticmethod) strategy_registry. -- Deprecated since version 2.0.\n",
      "  class BasicTuneStrategy(TuneStrategy):\n",
      "/storage/sdp/anaconda3/envs/setfit/lib/python3.10/site-packages/neural_compressor/experimental/strategy/exhaustive.py:26: DeprecationWarning: Call to deprecated function (or staticmethod) strategy_registry. -- Deprecated since version 2.0.\n",
      "  class ExhaustiveTuneStrategy(TuneStrategy):\n",
      "/storage/sdp/anaconda3/envs/setfit/lib/python3.10/site-packages/neural_compressor/experimental/strategy/random.py:29: DeprecationWarning: Call to deprecated function (or staticmethod) strategy_registry. -- Deprecated since version 2.0.\n",
      "  class RandomTuneStrategy(TuneStrategy):\n",
      "/storage/sdp/anaconda3/envs/setfit/lib/python3.10/site-packages/neural_compressor/experimental/pruning_recipes/patterns/tile_pattern.py:48: DeprecationWarning: Call to deprecated function (or staticmethod) pattern_registry. -- Deprecated since version 2.0.\n",
      "  @pattern_registry(pattern_type=\"tile_pattern_1x1\")\n",
      "/storage/sdp/anaconda3/envs/setfit/lib/python3.10/site-packages/neural_compressor/experimental/pruning_recipes/patterns/tile_pattern.py:58: DeprecationWarning: Call to deprecated function (or staticmethod) pattern_registry. -- Deprecated since version 2.0.\n",
      "  @pattern_registry(pattern_type=\"tile_pattern_2x2\")\n",
      "/storage/sdp/anaconda3/envs/setfit/lib/python3.10/site-packages/neural_compressor/experimental/pruning_recipes/patterns/tile_pattern.py:68: DeprecationWarning: Call to deprecated function (or staticmethod) pattern_registry. -- Deprecated since version 2.0.\n",
      "  @pattern_registry(pattern_type=\"tile_pattern_1x16\")\n",
      "/storage/sdp/anaconda3/envs/setfit/lib/python3.10/site-packages/neural_compressor/experimental/pruning_recipes/patterns/tile_pattern.py:78: DeprecationWarning: Call to deprecated function (or staticmethod) pattern_registry. -- Deprecated since version 2.0.\n",
      "  @pattern_registry(pattern_type=\"tile_pattern_4x1\")\n",
      "/storage/sdp/anaconda3/envs/setfit/lib/python3.10/site-packages/neural_compressor/experimental/pruning_recipes/patterns/tile_pattern.py:88: DeprecationWarning: Call to deprecated function (or staticmethod) pattern_registry. -- Deprecated since version 2.0.\n",
      "  @pattern_registry(pattern_type=\"tile_pattern_1x2\")\n",
      "/storage/sdp/anaconda3/envs/setfit/lib/python3.10/site-packages/neural_compressor/experimental/pruning_recipes/patterns/__init__.py:29: DeprecationWarning: Call to deprecated class PATTERNS. -- Deprecated since version 2.0.\n",
      "  patterns = PATTERNS()\n",
      "/storage/sdp/anaconda3/envs/setfit/lib/python3.10/site-packages/neural_compressor/experimental/pruner_legacy/pattern_lock.py:25: DeprecationWarning: Call to deprecated function (or staticmethod) pruner_registry. -- Deprecated since version 2.0.\n",
      "  class PatternLockPruner(Pruner):\n",
      "/storage/sdp/anaconda3/envs/setfit/lib/python3.10/site-packages/neural_compressor/experimental/pruner_legacy/gradient_sensitivity.py:32: DeprecationWarning: Call to deprecated function (or staticmethod) pruner_registry. -- Deprecated since version 2.0.\n",
      "  class GradientSensitivityPruner(Pruner):\n",
      "/storage/sdp/anaconda3/envs/setfit/lib/python3.10/site-packages/neural_compressor/experimental/pruner_legacy/magnitude.py:29: DeprecationWarning: Call to deprecated function (or staticmethod) pruner_registry. -- Deprecated since version 2.0.\n",
      "  class BasicMagnitudePruner(Pruner):\n",
      "/storage/sdp/anaconda3/envs/setfit/lib/python3.10/site-packages/neural_compressor/experimental/pruner_legacy/group_lasso.py:30: DeprecationWarning: Call to deprecated function (or staticmethod) pruner_registry. -- Deprecated since version 2.0.\n",
      "  class GroupLassoPruner(BasicMagnitudePruner):\n",
      "/storage/sdp/anaconda3/envs/setfit/lib/python3.10/site-packages/neural_compressor/experimental/metric/metric.py:496: DeprecationWarning: Call to deprecated function (or staticmethod) metric_registry. -- Deprecated since version 2.0.\n",
      "  @metric_registry(\"F1\", \"tensorflow, tensorflow_itex, pytorch, mxnet, onnxrt_qlinearops, onnxrt_integerops\")\n",
      "/storage/sdp/anaconda3/envs/setfit/lib/python3.10/site-packages/neural_compressor/experimental/metric/metric.py:592: DeprecationWarning: Call to deprecated function (or staticmethod) metric_registry. -- Deprecated since version 2.0.\n",
      "  @metric_registry(\"Accuracy\", \"tensorflow, tensorflow_itex, pytorch, onnxrt_qlinearops, onnxrt_integerops\")\n",
      "/storage/sdp/anaconda3/envs/setfit/lib/python3.10/site-packages/neural_compressor/experimental/metric/metric.py:709: DeprecationWarning: Call to deprecated function (or staticmethod) metric_registry. -- Deprecated since version 2.0.\n",
      "  @metric_registry(\"Loss\", \"tensorflow, tensorflow_itex, pytorch, onnxrt_qlinearops, onnxrt_integerops\")\n",
      "/storage/sdp/anaconda3/envs/setfit/lib/python3.10/site-packages/neural_compressor/experimental/metric/metric.py:756: DeprecationWarning: Call to deprecated function (or staticmethod) metric_registry. -- Deprecated since version 2.0.\n",
      "  @metric_registry(\"MAE\", \"tensorflow, tensorflow_itex, pytorch, onnxrt_qlinearops, onnxrt_integerops\")\n",
      "/storage/sdp/anaconda3/envs/setfit/lib/python3.10/site-packages/neural_compressor/experimental/metric/metric.py:815: DeprecationWarning: Call to deprecated function (or staticmethod) metric_registry. -- Deprecated since version 2.0.\n",
      "  @metric_registry(\"RMSE\", \"tensorflow, tensorflow_itex, pytorch, mxnet, onnxrt_qlinearops, onnxrt_integerops\")\n",
      "/storage/sdp/anaconda3/envs/setfit/lib/python3.10/site-packages/neural_compressor/experimental/metric/metric.py:858: DeprecationWarning: Call to deprecated function (or staticmethod) metric_registry. -- Deprecated since version 2.0.\n",
      "  @metric_registry(\"MSE\", \"tensorflow, tensorflow_itex, pytorch, onnxrt_qlinearops, onnxrt_integerops\")\n",
      "/storage/sdp/anaconda3/envs/setfit/lib/python3.10/site-packages/neural_compressor/experimental/metric/metric.py:918: DeprecationWarning: Call to deprecated function (or staticmethod) metric_registry. -- Deprecated since version 2.0.\n",
      "  @metric_registry(\"topk\", \"tensorflow, tensorflow_itex\")\n",
      "/storage/sdp/anaconda3/envs/setfit/lib/python3.10/site-packages/neural_compressor/experimental/metric/metric.py:987: DeprecationWarning: Call to deprecated function (or staticmethod) metric_registry. -- Deprecated since version 2.0.\n",
      "  @metric_registry(\"topk\", \"pytorch, mxnet, onnxrt_qlinearops, onnxrt_integerops\")\n",
      "/storage/sdp/anaconda3/envs/setfit/lib/python3.10/site-packages/neural_compressor/experimental/metric/metric.py:1056: DeprecationWarning: Call to deprecated function (or staticmethod) metric_registry. -- Deprecated since version 2.0.\n",
      "  @metric_registry(\"COCOmAPv2\", \"tensorflow, tensorflow_itex, onnxrt_qlinearops, onnxrt_integerops\")\n",
      "/storage/sdp/anaconda3/envs/setfit/lib/python3.10/site-packages/neural_compressor/experimental/metric/metric.py:1218: DeprecationWarning: Call to deprecated function (or staticmethod) metric_registry. -- Deprecated since version 2.0.\n",
      "  @metric_registry(\"mAP\", \"tensorflow, tensorflow_itex, onnxrt_qlinearops, onnxrt_integerops\")\n",
      "/storage/sdp/anaconda3/envs/setfit/lib/python3.10/site-packages/neural_compressor/experimental/metric/metric.py:1375: DeprecationWarning: Call to deprecated function (or staticmethod) metric_registry. -- Deprecated since version 2.0.\n",
      "  @metric_registry(\"COCOmAP\", \"tensorflow, tensorflow_itex, onnxrt_qlinearops, onnxrt_integerops\")\n",
      "/storage/sdp/anaconda3/envs/setfit/lib/python3.10/site-packages/neural_compressor/experimental/metric/metric.py:1398: DeprecationWarning: Call to deprecated function (or staticmethod) metric_registry. -- Deprecated since version 2.0.\n",
      "  @metric_registry(\"VOCmAP\", \"tensorflow, tensorflow_itex, onnxrt_qlinearops, onnxrt_integerops\")\n",
      "/storage/sdp/anaconda3/envs/setfit/lib/python3.10/site-packages/neural_compressor/experimental/metric/metric.py:1421: DeprecationWarning: Call to deprecated function (or staticmethod) metric_registry. -- Deprecated since version 2.0.\n",
      "  @metric_registry(\"SquadF1\", \"tensorflow, tensorflow_itex\")\n",
      "/storage/sdp/anaconda3/envs/setfit/lib/python3.10/site-packages/neural_compressor/experimental/metric/metric.py:1464: DeprecationWarning: Call to deprecated function (or staticmethod) metric_registry. -- Deprecated since version 2.0.\n",
      "  @metric_registry(\"mIOU\", \"tensorflow, tensorflow_itex\")\n",
      "/storage/sdp/anaconda3/envs/setfit/lib/python3.10/site-packages/neural_compressor/experimental/metric/metric.py:1517: DeprecationWarning: Call to deprecated function (or staticmethod) metric_registry. -- Deprecated since version 2.0.\n",
      "  @metric_registry(\"GLUE\", \"onnxrt_qlinearops, onnxrt_integerops\")\n",
      "/storage/sdp/anaconda3/envs/setfit/lib/python3.10/site-packages/neural_compressor/experimental/metric/metric.py:1582: DeprecationWarning: Call to deprecated function (or staticmethod) metric_registry. -- Deprecated since version 2.0.\n",
      "  @metric_registry(\"ROC\", \"pytorch\")\n",
      "/storage/sdp/anaconda3/envs/setfit/lib/python3.10/site-packages/neural_compressor/experimental/metric/bleu.py:66: DeprecationWarning: Call to deprecated class UnicodeRegex. -- Deprecated since version 2.0.\n",
      "  uregex = UnicodeRegex()\n",
      "/storage/sdp/anaconda3/envs/setfit/lib/python3.10/site-packages/neural_compressor/experimental/metric/bleu.py:90: DeprecationWarning: Call to deprecated function (or staticmethod) metric_registry. -- Deprecated since version 2.0.\n",
      "  @metric_registry(\"BLEU\", \"tensorflow, tensorflow_itex\")\n",
      "/storage/sdp/anaconda3/envs/setfit/lib/python3.10/site-packages/neural_compressor/experimental/nas/basic_nas.py:34: DeprecationWarning: Call to deprecated function (or staticmethod) nas_registry. -- Deprecated since version 2.0.\n",
      "  @nas_registry(\"Basic\")\n",
      "/storage/sdp/anaconda3/envs/setfit/lib/python3.10/site-packages/neural_compressor/experimental/nas/dynas.py:32: DeprecationWarning: Call to deprecated function (or staticmethod) nas_registry. -- Deprecated since version 2.0.\n",
      "  @nas_registry(\"DyNAS\")\n",
      "/storage/sdp/anaconda3/envs/setfit/lib/python3.10/site-packages/neural_compressor/experimental/contrib/strategy/sigopt.py:34: DeprecationWarning: Call to deprecated function (or staticmethod) strategy_registry. -- Deprecated since version 2.0.\n",
      "  class SigOptTuneStrategy(TuneStrategy):\n",
      "/storage/sdp/anaconda3/envs/setfit/lib/python3.10/site-packages/neural_compressor/experimental/contrib/strategy/tpe.py:44: DeprecationWarning: Call to deprecated function (or staticmethod) strategy_registry. -- Deprecated since version 2.0.\n",
      "  class TpeTuneStrategy(TuneStrategy):\n",
      "loading configuration file /home/sdp/dkorat/fastRAG/scripts/optimizations/embedders/quantized_model/inc_config.json\n",
      "INCConfig {\n",
      "  \"distillation\": {},\n",
      "  \"neural_compressor_version\": \"2.4.1\",\n",
      "  \"optimum_version\": \"1.16.2\",\n",
      "  \"pruning\": {},\n",
      "  \"quantization\": {\n",
      "    \"dataset_num_samples\": 100,\n",
      "    \"is_static\": true\n",
      "  },\n",
      "  \"save_onnx_model\": false,\n",
      "  \"torch_version\": \"2.1.0+cpu\",\n",
      "  \"transformers_version\": \"4.36.2\"\n",
      "}\n",
      "\n",
      "Quantized model was obtained with torch version 2.1.0+cpu but 2.1.0+cpu was found.\n",
      "intel_extension_for_pytorch version is 2.1.0+cpu\n",
      "2024-01-25 12:17:19,882 - sentence_transformers.SentenceTransformer - INFO - Load pretrained SentenceTransformer: moshew/bge-small-en-v1.5_setfit-sst2-english\n",
      "2024-01-25 12:17:20,104 - sentence_transformers.SentenceTransformer - INFO - Use pytorch device: cpu\n"
     ]
    },
    {
     "data": {
      "text/plain": [
       "array([0, 0, 0, 0, 1])"
      ]
     },
     "execution_count": 7,
     "metadata": {},
     "output_type": "execute_result"
    }
   ],
   "source": [
    "from optimum.intel import INCModel\n",
    "from transformers import AutoTokenizer\n",
    "\n",
    "tokenizer = AutoTokenizer.from_pretrained('bge_auto_opt_O4', model_max_length=512)\n",
    "inc_model_path = \"bge-small-en-v1.5_setfit-sst2-quant\"\n",
    "inc_model = INCModel.from_pretrained(inc_model_path)\n",
    "model = SetFitModel.from_pretrained(\"moshew/bge-small-en-v1.5_setfit-sst2-english\")\n",
    "inc_setfit_model = INCSetFitModel(inc_model, tokenizer, model.model_head)\n",
    "\n",
    "# Perform inference\n",
    "inc_setfit_model(test_dataset[\"text\"][:5])"
   ]
  },
  {
   "cell_type": "markdown",
   "id": "3DPl1ZpYqcBh",
   "metadata": {
    "id": "3DPl1ZpYqcBh"
   },
   "source": [
    "Time to benchmark this ONNX model."
   ]
  },
  {
   "cell_type": "code",
   "execution_count": null,
   "id": "O8jpZ3gdWRn9",
   "metadata": {
    "colab": {
     "base_uri": "https://localhost:8080/"
    },
    "id": "O8jpZ3gdWRn9",
    "outputId": "8d31c81a-67e4-4074-cf35-9f56d6dcdd20"
   },
   "outputs": [
    {
     "name": "stdout",
     "output_type": "stream",
     "text": [
      "Model size (MB) - 0.004\n",
      "Accuracy on test set - 0.908\n",
      "Average latency (ms) - 2.61 +\\- 1.15\n",
      "Batch size: 64\n"
     ]
    },
    {
     "data": {
      "application/vnd.jupyter.widget-view+json": {
       "model_id": "7ff0606307d14c2d847a53d1c77ed089",
       "version_major": 2,
       "version_minor": 0
      },
      "text/plain": [
       "  0%|          | 0/640 [00:00<?, ?it/s]"
      ]
     },
     "metadata": {},
     "output_type": "display_data"
    },
    {
     "name": "stdout",
     "output_type": "stream",
     "text": [
      "Average throughput (bs=64) (samples/second): 1942.65 +\\- 555.73\\n\n",
      "Batch size: 512\n"
     ]
    },
    {
     "data": {
      "application/vnd.jupyter.widget-view+json": {
       "model_id": "4609f34a383d48cca8cb4242af1c0244",
       "version_major": 2,
       "version_minor": 0
      },
      "text/plain": [
       "  0%|          | 0/80 [00:00<?, ?it/s]"
      ]
     },
     "metadata": {},
     "output_type": "display_data"
    },
    {
     "name": "stdout",
     "output_type": "stream",
     "text": [
      "Average throughput (bs=512) (samples/second): 2424.35 +\\- 472.96\\n\n",
      "Batch size: 8192\n"
     ]
    },
    {
     "data": {
      "application/vnd.jupyter.widget-view+json": {
       "model_id": "850bc118b83e4db482ca39cf1937767f",
       "version_major": 2,
       "version_minor": 0
      },
      "text/plain": [
       "  0%|          | 0/5 [00:00<?, ?it/s]"
      ]
     },
     "metadata": {},
     "output_type": "display_data"
    },
    {
     "name": "stdout",
     "output_type": "stream",
     "text": [
      "Average throughput (bs=8192) (samples/second): 4978.16 +\\- 290.23\\n\n",
      "bge-small (PyTorch):\n",
      "size_mb: 127.324\n",
      "accuracy: 0.906\n",
      "time_avg_ms: 7.856\n",
      "time_std_ms: 0.820\n",
      "throughput_avg_64: 652.260\n",
      "throughput_std_64: 72.695\n",
      "throughput_avg_512: 1023.175\n",
      "throughput_std_512: 128.715\n",
      "throughput_avg_8192: 1449.017\n",
      "throughput_std_8192: 119.124\n",
      "\n",
      "bge-small (optimum-intel):\n",
      "size_mb: 0.004\n",
      "accuracy: 0.908\n",
      "time_avg_ms: 2.610\n",
      "time_std_ms: 1.153\n",
      "throughput_avg_64: 1942.650\n",
      "throughput_std_64: 555.732\n",
      "throughput_avg_512: 2424.352\n",
      "throughput_std_512: 472.964\n",
      "throughput_avg_8192: 4978.163\n",
      "throughput_std_8192: 290.228\n",
      "\n"
     ]
    },
    {
     "data": {
      "image/png": "[encoded data removed]",
      "text/plain": [
       "<Figure size 640x480 with 1 Axes>"
      ]
     },
     "metadata": {},
     "output_type": "display_data"
    },
    {
     "name": "stdout",
     "output_type": "stream",
     "text": [
      "Latency speedup for 'bge-small (optimum-intel)': 3.01x\n"
     ]
    }
   ],
   "source": [
    "class INCPerformanceBenchmark(PerformanceBenchmark):\n",
    "    def __init__(self, *args, model_path, **kwargs):\n",
    "        super().__init__(*args, **kwargs)\n",
    "        self.model_path = model_path\n",
    "\n",
    "    def compute_size(self):\n",
    "        size_mb = Path(self.model_path).stat().st_size / (1024 * 1024)\n",
    "        print(f\"Model size (MB) - {size_mb:.3f}\")\n",
    "        return {\"size_mb\": size_mb}\n",
    "        \n",
    "pb = INCPerformanceBenchmark(\n",
    "    inc_setfit_model,\n",
    "    test_dataset,\n",
    "    \"bge-small (optimum-intel)\",\n",
    "    model_path=inc_model_path,\n",
    ")\n",
    "perf_metrics.update(pb.run_benchmark())\n",
    "\n",
    "for optim_type, results in perf_metrics.items():\n",
    "    s = [f\"{k}: {v:.3f}\" for k, v in results.items()]\n",
    "    print(f\"{optim_type}:\\n\" + \"\\n\".join(s) + \"\\n\")\n",
    "    \n",
    "plot_metrics(perf_metrics)\n",
    "\n",
    "def get_latency_speedup(model_name):\n",
    "    speedup = perf_metrics['bge-small (PyTorch)']['time_avg_ms'] / perf_metrics[model_name]['time_avg_ms']\n",
    "    return speedup\n",
    "print(f\"Latency speedup for 'bge-small (optimum-intel)': {get_latency_speedup('bge-small (optimum-intel)'):.2f}x\")"
   ]
  },
  {
   "cell_type": "markdown",
   "id": "d3cda299-1362-4232-8fb5-1abe069177ca",
   "metadata": {
    "id": "AiPUhOCNWRny"
   },
   "source": [
    "## 5. Optimizing for CPU using Intel Extension for Pytorch\n"
   ]
  },
  {
   "cell_type": "code",
   "execution_count": null,
   "id": "199e250d-0217-47d7-a48d-eaddc67081b1",
   "metadata": {},
   "outputs": [],
   "source": [
    "# !pip install torch==2.1 --index-url https://download.pytorch.org/whl/cpu -qqq\n",
    "# !pip install intel-extension-for-pytorch==2.1.0 intel-openmp==2024.0.0 -qqq"
   ]
  },
  {
   "cell_type": "code",
   "execution_count": null,
   "id": "c113d3ba-7cb3-46d3-9be8-2e7e4811f980",
   "metadata": {},
   "outputs": [],
   "source": [
    "# !conda install gperftools -c conda-forge -y -qqq\n",
    "# !echo export LD_PRELOAD=${CONDA_PREFIX}/lib/libtcmalloc.so:${CONDA_PREFIX}/lib/libiomp5.so:$LD_PRELOAD >> ~/.bashrc\n",
    "# Restart kernel after this cell!!!"
   ]
  },
  {
   "cell_type": "code",
   "execution_count": null,
   "id": "b7eae6b7-1c31-41c9-897c-8bf990db7ede",
   "metadata": {},
   "outputs": [],
   "source": [
    "# Without conda, run these commands in the shell and restart this notebook\n",
    "\n",
    "# wget https://github.com/gperftools/gperftools/releases/download/gperftools-2.7.90/gperftools-2.7.90.tar.gz\n",
    "# tar -xzf gperftools-2.7.90.tar.gz \n",
    "# cd gperftools-2.7.90\n",
    "# ./configure --prefix=$HOME/.local\n",
    "# make\n",
    "# make install\n",
    "# echo export LD_PRELOAD=$HOME/.local/lib/libtcmalloc.so:$VIRTUAL_ENV/lib/libiomp5.so:$LD_PRELOAD >> ~/.bashrc"
   ]
  },
  {
   "cell_type": "code",
   "execution_count": null,
   "id": "9a2236ca-2f44-43fc-a083-83c43476f836",
   "metadata": {},
   "outputs": [],
   "source": [
    "# import intel_extension_for_pytorch as ipex\n",
    "\n",
    "# pb = PerformanceBenchmark(model=setfit_model, dataset=test_dataset, optim_type=\"bge-small (IP import only)\")\n",
    "# perf_metrics = pb.run_benchmark()"
   ]
  },
  {
   "cell_type": "code",
   "execution_count": null,
   "id": "fe6773dc-0327-41e8-8dc3-0f401bf7ac57",
   "metadata": {},
   "outputs": [],
   "source": [
    "# from setfit import SetFitModel\n",
    "# setfit_model = SetFitModel.from_pretrained(\"moshew/bge-small-en-v1.5_setfit-sst2-english\")\n",
    "\n",
    "# pb = PerformanceBenchmark(model=setfit_model, dataset=test_dataset, optim_type=\"bge-small (Pytorch)\")\n",
    "# perf_metrics.update(pb.run_benchmark())"
   ]
  },
  {
   "cell_type": "code",
   "execution_count": null,
   "id": "96b00417-75c4-4e8f-ada4-3e5f44bcebed",
   "metadata": {},
   "outputs": [],
   "source": [
    "# import intel_extension_for_pytorch as ipex\n",
    "# from setfit import SetFitModel\n",
    "\n",
    "# ipex_model = SetFitModel.from_pretrained(\"moshew/bge-small-en-v1.5_setfit-sst2-english\")\n",
    "# with torch.autocast('cpu', dtype=torch.bfloat16):\n",
    "#     ipex_model.model_body.eval()\n",
    "#     ipex_model.model_body = ipex.optimize(ipex_model.model_body, weights_prepack=False, dtype=torch.bfloat16)\n",
    "#     ipex_model.model_body = torch.compile(ipex_model.model_body, backend='ipex')\n",
    "\n",
    "# pb = PerformanceBenchmark(model=ipex_model, dataset=test_dataset, optim_type=\"bge-small (IPEX)\")\n",
    "# ipex_result_str = pb.run_benchmark()[1]"
   ]
  },
  {
   "cell_type": "code",
   "execution_count": null,
   "id": "a7f17376-3c70-47b0-adbb-0f60fc16934c",
   "metadata": {},
   "outputs": [],
   "source": [
    "# print(f\"Pytorch\\n-----\\n{pytorch_result_str}\")\n",
    "# print()\n",
    "# print(f\"IPEX\\n-----\\n{ipex_result_str}\")"
   ]
  }
 ],
 "metadata": {
  "accelerator": "GPU",
  "colab": {
   "gpuType": "T4",
   "provenance": []
  },
  "kernelspec": {
   "display_name": "Python 3 (ipykernel)",
   "language": "python",
   "name": "python3"
  },
  "language_info": {
   "codemirror_mode": {
    "name": "ipython",
    "version": 3
   },
   "file_extension": ".py",
   "mimetype": "text/x-python",
   "name": "python",
   "nbconvert_exporter": "python",
   "pygments_lexer": "ipython3",
   "version": "3.9.18"
  },
  "vscode": {
   "interpreter": {
    "hash": "31f2aee4e71d21fbe5cf8b01ff0e069b9275f58929596ceb00d14d90e3e16cd6"
   }
  }
 },
 "nbformat": 4,
 "nbformat_minor": 5
}
