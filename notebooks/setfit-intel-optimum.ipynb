{
 "cells": [
  {
   "cell_type": "markdown",
   "id": "76571396-8f54-40ed-9e81-6c7531e6eaee",
   "metadata": {
    "id": "76571396-8f54-40ed-9e81-6c7531e6eaee"
   },
   "source": [
    "# Efficiently run SetFit Models with Optimum"
   ]
  },
  {
   "cell_type": "code",
   "execution_count": 1,
   "id": "55756fec-fc22-4590-84d7-2f3df37b9256",
   "metadata": {
    "id": "55756fec-fc22-4590-84d7-2f3df37b9256"
   },
   "outputs": [],
   "source": [
    "from pathlib import Path\n",
    "from time import perf_counter\n",
    "import os\n",
    "import sys\n",
    "\n",
    "import evaluate\n",
    "import numpy as np\n",
    "import torch\n",
    "from torch.utils.data import DataLoader\n",
    "\n",
    "metric = evaluate.load(\"accuracy\")\n",
    "\n",
    "os.environ[\"TOKENIZERS_PARALLELISM\"] = \"false\"\n",
    "\n",
    "class PerformanceBenchmark:\n",
    "    def __init__(self, model, dataset, optim_type):\n",
    "        self.model = model\n",
    "        self.dataset = dataset\n",
    "        self.optim_type = optim_type\n",
    "        self.enable_autocast = 'optimum' in self.optim_type.lower()\n",
    "        \n",
    "    def compute_accuracy(self):\n",
    "        with torch.cpu.amp.autocast(enabled=self.enable_autocast):\n",
    "            preds = self.model.predict(self.dataset[\"text\"])\n",
    "        labels = self.dataset[\"label\"]\n",
    "        accuracy = metric.compute(predictions=preds, references=labels)\n",
    "        print(f\"Accuracy on test set - {accuracy['accuracy']:.3f}\")\n",
    "        return accuracy\n",
    "\n",
    "    def compute_size(self):\n",
    "        state_dict = self.model.model_body.state_dict()\n",
    "        tmp_path = Path(\"model.pt\")\n",
    "        torch.save(state_dict, tmp_path)\n",
    "        # Calculate size in megabytes\n",
    "        size_mb = Path(tmp_path).stat().st_size / (1024 * 1024)\n",
    "        # Delete temporary file\n",
    "        tmp_path.unlink()\n",
    "        print(f\"Model size (MB) - {size_mb:.2f}\")\n",
    "        return {\"size_mb\": size_mb}\n",
    "\n",
    "    def compute_latency(self, query=\"that loves its characters and communicates something rather beautiful about human nature\"):\n",
    "        latencies = []\n",
    "        # Warmup\n",
    "        for _ in range(10):\n",
    "            with torch.no_grad(), torch.cpu.amp.autocast(enabled=self.enable_autocast):\n",
    "                _ = self.model([query])\n",
    "        # Timed run\n",
    "        for _ in range(1000):\n",
    "            start_time = perf_counter()\n",
    "            with torch.no_grad(), torch.cpu.amp.autocast(enabled=self.enable_autocast):\n",
    "                _ = self.model([query])\n",
    "            latency = perf_counter() - start_time\n",
    "            latencies.append(latency)\n",
    "        # Compute run statistics\n",
    "        time_avg_ms = 1000 * np.mean(latencies)\n",
    "        time_std_ms = 1000 * np.std(latencies)\n",
    "        print(rf\"Average latency (ms) - {time_avg_ms:.2f} +\\- {time_std_ms:.2f}\")\n",
    "        return {\"time_avg_ms\": time_avg_ms, \"time_std_ms\": time_std_ms}\n",
    "\n",
    "    def compute_throughput(self, batch_sizes=[64, 512, 8192]):\n",
    "        results = {}\n",
    "        num_iters = 5\n",
    "        replications = int((max(batch_sizes) * (num_iters + 1)) / len(self.dataset))\n",
    "        replicated_ds = (self.dataset[\"text\"] * replications)[:max(batch_sizes) * num_iters]\n",
    "\n",
    "        s = \"\"\n",
    "        for batch_size in batch_sizes:\n",
    "            print(f\"Batch size: {batch_size}\")\n",
    "            \n",
    "            throughputs = []\n",
    "            dataloader = iter(DataLoader(replicated_ds, batch_size=batch_size))\n",
    "            # Warmup\n",
    "            for _ in range(2):\n",
    "                with torch.no_grad(), torch.cpu.amp.autocast(enabled=self.enable_autocast):\n",
    "                    _ = self.model(next(dataloader))\n",
    "\n",
    "            dataloader = iter(DataLoader(replicated_ds, batch_size=batch_size))\n",
    "            # Timed run\n",
    "            num_loops = num_iters * (max(batch_sizes) / batch_size)\n",
    "            assert int(num_loops) == num_loops\n",
    "            \n",
    "            for _ in range(int(num_loops))::\n",
    "                start_time = perf_counter()\n",
    "                with torch.no_grad(), torch.cpu.amp.autocast(enabled=self.enable_autocast):\n",
    "                    _ = self.model(next(dataloader))\n",
    "                latency =  perf_counter() - start_time\n",
    "                throughputs.append(batch_size / latency)\n",
    "                \n",
    "            # Compute run statistics\n",
    "            avg_throughput = np.mean(throughputs)\n",
    "            std_throughput = np.std(throughputs)\n",
    "            print(rf\"Average throughput (bs={batch_size}) (samples/second): {avg_throughput:.2f} +\\- {std_throughput:.2f}\\n\")\n",
    "            results[f\"throughput_avg_{batch_size}\"] = avg_throughput\n",
    "            results[f\"throughput_std_{batch_size}\"] = std_throughput\n",
    "        return results\n",
    "        \n",
    "    def run_benchmark(self):\n",
    "        metrics = {self.optim_type: {}}\n",
    "        metrics[self.optim_type].update(self.compute_size())\n",
    "        metrics[self.optim_type].update(self.compute_accuracy())\n",
    "        metrics[self.optim_type].update(self.compute_latency())\n",
    "        metrics[self.optim_type].update(self.compute_throughput())\n",
    "        return metrics"
   ]
  },
  {
   "cell_type": "code",
   "execution_count": 2,
   "id": "262500f0-f21b-40a9-a6e4-d809ab8b4ea9",
   "metadata": {},
   "outputs": [],
   "source": [
    "# TODO: Add code for quantizing the model \"moshew/bge-small-en-v1.5_setfit-sst2-english\" using INC"
   ]
  },
  {
   "cell_type": "code",
   "execution_count": 3,
   "id": "PurksLh3qcBa",
   "metadata": {
    "id": "PurksLh3qcBa"
   },
   "outputs": [],
   "source": [
    "import matplotlib.pyplot as plt\n",
    "import pandas as pd\n",
    "\n",
    "def plot_metrics(perf_metrics):\n",
    "    df = pd.DataFrame.from_dict(perf_metrics, orient=\"index\")\n",
    "\n",
    "    for idx in df.index:\n",
    "        df_opt = df.loc[idx]\n",
    "        plt.errorbar(\n",
    "            df_opt[\"time_avg_ms\"],\n",
    "            df_opt[\"accuracy\"] * 100,\n",
    "            xerr=df_opt[\"time_std_ms\"],\n",
    "            fmt=\"o\",\n",
    "            alpha=0.5,\n",
    "            ms=df_opt[\"size_mb\"] / 15,\n",
    "            label=idx,\n",
    "            capsize=5,\n",
    "            capthick=1,\n",
    "        )\n",
    "\n",
    "    legend = plt.legend(loc=\"lower right\")\n",
    "\n",
    "    plt.ylim(63, 95)\n",
    "    # Use the slowest model to define the x-axis range\n",
    "    xlim = max([metrics[\"time_avg_ms\"] for metrics in perf_metrics.values()]) * 1.3\n",
    "    plt.xlim(0, xlim)\n",
    "    plt.ylabel(\"Accuracy (%)\")\n",
    "    plt.xlabel(\"Average latency with batch_size=1 (ms)\")\n",
    "    plt.show()"
   ]
  },
  {
   "cell_type": "code",
   "execution_count": 4,
   "id": "u-w99Y2qW4lU",
   "metadata": {
    "colab": {
     "base_uri": "https://localhost:8080/"
    },
    "id": "u-w99Y2qW4lU",
    "outputId": "57f0b8f7-6dad-4e90-c779-658a7de6e960"
   },
   "outputs": [
    {
     "name": "stdout",
     "output_type": "stream",
     "text": [
      "Model size (MB) - 127.32\n",
      "Accuracy on test set - 0.906\n",
      "Average latency (ms) - 7.86 +\\- 0.82\n",
      "Batch size: 64\n"
     ]
    },
    {
     "data": {
      "application/vnd.jupyter.widget-view+json": {
       "model_id": "fc3f29a88f704a8b9eafe877235400c9",
       "version_major": 2,
       "version_minor": 0
      },
      "text/plain": [
       "  0%|          | 0/640 [00:00<?, ?it/s]"
      ]
     },
     "metadata": {},
     "output_type": "display_data"
    },
    {
     "name": "stdout",
     "output_type": "stream",
     "text": [
      "Average throughput (bs=64) (samples/second): 652.26 +\\- 72.70\\n\n",
      "Batch size: 512\n"
     ]
    },
    {
     "data": {
      "application/vnd.jupyter.widget-view+json": {
       "model_id": "4594251c0f4c4544ba44b1b7e0a8add4",
       "version_major": 2,
       "version_minor": 0
      },
      "text/plain": [
       "  0%|          | 0/80 [00:00<?, ?it/s]"
      ]
     },
     "metadata": {},
     "output_type": "display_data"
    },
    {
     "name": "stdout",
     "output_type": "stream",
     "text": [
      "Average throughput (bs=512) (samples/second): 1023.17 +\\- 128.72\\n\n",
      "Batch size: 8192\n"
     ]
    },
    {
     "data": {
      "application/vnd.jupyter.widget-view+json": {
       "model_id": "8ba2e8c2e0b44707a94023478cd4fadf",
       "version_major": 2,
       "version_minor": 0
      },
      "text/plain": [
       "  0%|          | 0/5 [00:00<?, ?it/s]"
      ]
     },
     "metadata": {},
     "output_type": "display_data"
    },
    {
     "name": "stdout",
     "output_type": "stream",
     "text": [
      "Average throughput (bs=8192) (samples/second): 1449.02 +\\- 119.12\\n\n"
     ]
    },
    {
     "data": {
      "image/png": "[encoded data removed]",
      "text/plain": [
       "<Figure size 640x480 with 1 Axes>"
      ]
     },
     "metadata": {},
     "output_type": "display_data"
    }
   ],
   "source": [
    "import warnings\n",
    "warnings.filterwarnings(\"ignore\")\n",
    "\n",
    "from datasets import load_dataset\n",
    "test_dataset = load_dataset(\"SetFit/sst2\")[\"validation\"]\n",
    "from setfit import SetFitModel\n",
    "small_model = SetFitModel.from_pretrained(\"moshew/bge-small-en-v1.5_setfit-sst2-english\")\n",
    "pb = PerformanceBenchmark(model=small_model, dataset=test_dataset, optim_type=\"bge-small (PyTorch)\")\n",
    "perf_metrics = pb.run_benchmark()\n",
    "plot_metrics(perf_metrics)"
   ]
  },
  {
   "cell_type": "markdown",
   "id": "AiPUhOCNWRny",
   "metadata": {
    "id": "AiPUhOCNWRny"
   },
   "source": [
    "## 4. Optimizing with [`optimum-intel`](https://github.com/huggingface/optimum-intel)"
   ]
  },
  {
   "cell_type": "code",
   "execution_count": 5,
   "id": "b96ea1d8-b82a-4a88-b3eb-2fa87582e6e8",
   "metadata": {},
   "outputs": [
    {
     "name": "stdout",
     "output_type": "stream",
     "text": [
      "Requirement already satisfied: intel-extension-for-pytorch in /storage/sdp/anaconda3/envs/setfit/lib/python3.10/site-packages (2.1.0)\n",
      "Requirement already satisfied: psutil in /storage/sdp/anaconda3/envs/setfit/lib/python3.10/site-packages (from intel-extension-for-pytorch) (5.9.7)\n",
      "Requirement already satisfied: numpy in /home/sdp/.local/lib/python3.10/site-packages (from intel-extension-for-pytorch) (1.25.2)\n",
      "Requirement already satisfied: packaging in /storage/sdp/anaconda3/envs/setfit/lib/python3.10/site-packages (from intel-extension-for-pytorch) (23.2)\n",
      "Requirement already satisfied: intel-openmp in /storage/sdp/anaconda3/envs/setfit/lib/python3.10/site-packages (2024.0.0)\n",
      "Requirement already satisfied: optimum[neural-compressor] in /storage/sdp/anaconda3/envs/setfit/lib/python3.10/site-packages (1.16.2)\n",
      "Requirement already satisfied: coloredlogs in /storage/sdp/anaconda3/envs/setfit/lib/python3.10/site-packages (from optimum[neural-compressor]) (15.0.1)\n",
      "Requirement already satisfied: sympy in /storage/sdp/anaconda3/envs/setfit/lib/python3.10/site-packages (from optimum[neural-compressor]) (1.12)\n",
      "Requirement already satisfied: transformers>=4.26.0 in /storage/sdp/anaconda3/envs/setfit/lib/python3.10/site-packages (from transformers[sentencepiece]>=4.26.0->optimum[neural-compressor]) (4.36.2)\n",
      "Requirement already satisfied: torch>=1.11 in /storage/sdp/anaconda3/envs/setfit/lib/python3.10/site-packages (from optimum[neural-compressor]) (2.1.0+cpu)\n",
      "Requirement already satisfied: packaging in /storage/sdp/anaconda3/envs/setfit/lib/python3.10/site-packages (from optimum[neural-compressor]) (23.2)\n",
      "Requirement already satisfied: numpy in /home/sdp/.local/lib/python3.10/site-packages (from optimum[neural-compressor]) (1.25.2)\n",
      "Requirement already satisfied: huggingface-hub>=0.8.0 in /storage/sdp/anaconda3/envs/setfit/lib/python3.10/site-packages (from optimum[neural-compressor]) (0.20.2)\n",
      "Requirement already satisfied: datasets in /storage/sdp/anaconda3/envs/setfit/lib/python3.10/site-packages (from optimum[neural-compressor]) (2.16.1)\n",
      "Requirement already satisfied: optimum-intel>=1.12.0 in /storage/sdp/anaconda3/envs/setfit/lib/python3.10/site-packages (from optimum-intel[neural-compressor]>=1.12.0; extra == \"neural-compressor\"->optimum[neural-compressor]) (1.12.4)\n",
      "Requirement already satisfied: filelock in /storage/sdp/anaconda3/envs/setfit/lib/python3.10/site-packages (from huggingface-hub>=0.8.0->optimum[neural-compressor]) (3.13.1)\n",
      "Requirement already satisfied: fsspec>=2023.5.0 in /storage/sdp/anaconda3/envs/setfit/lib/python3.10/site-packages (from huggingface-hub>=0.8.0->optimum[neural-compressor]) (2023.10.0)\n",
      "Requirement already satisfied: requests in /storage/sdp/anaconda3/envs/setfit/lib/python3.10/site-packages (from huggingface-hub>=0.8.0->optimum[neural-compressor]) (2.31.0)\n",
      "Requirement already satisfied: tqdm>=4.42.1 in /storage/sdp/anaconda3/envs/setfit/lib/python3.10/site-packages (from huggingface-hub>=0.8.0->optimum[neural-compressor]) (4.66.1)\n",
      "Requirement already satisfied: pyyaml>=5.1 in /storage/sdp/anaconda3/envs/setfit/lib/python3.10/site-packages (from huggingface-hub>=0.8.0->optimum[neural-compressor]) (6.0.1)\n",
      "Requirement already satisfied: typing-extensions>=3.7.4.3 in /storage/sdp/anaconda3/envs/setfit/lib/python3.10/site-packages (from huggingface-hub>=0.8.0->optimum[neural-compressor]) (4.9.0)\n",
      "Requirement already satisfied: sentencepiece in /storage/sdp/anaconda3/envs/setfit/lib/python3.10/site-packages (from optimum-intel>=1.12.0->optimum-intel[neural-compressor]>=1.12.0; extra == \"neural-compressor\"->optimum[neural-compressor]) (0.1.99)\n",
      "Requirement already satisfied: scipy in /storage/sdp/anaconda3/envs/setfit/lib/python3.10/site-packages (from optimum-intel>=1.12.0->optimum-intel[neural-compressor]>=1.12.0; extra == \"neural-compressor\"->optimum[neural-compressor]) (1.11.4)\n",
      "Requirement already satisfied: accelerate in /storage/sdp/anaconda3/envs/setfit/lib/python3.10/site-packages (from optimum-intel>=1.12.0->optimum-intel[neural-compressor]>=1.12.0; extra == \"neural-compressor\"->optimum[neural-compressor]) (0.26.1)\n",
      "Requirement already satisfied: pyarrow>=8.0.0 in /storage/sdp/anaconda3/envs/setfit/lib/python3.10/site-packages (from datasets->optimum[neural-compressor]) (14.0.2)\n",
      "Requirement already satisfied: pyarrow-hotfix in /storage/sdp/anaconda3/envs/setfit/lib/python3.10/site-packages (from datasets->optimum[neural-compressor]) (0.6)\n",
      "Requirement already satisfied: dill<0.3.8,>=0.3.0 in /storage/sdp/anaconda3/envs/setfit/lib/python3.10/site-packages (from datasets->optimum[neural-compressor]) (0.3.7)\n",
      "Requirement already satisfied: pandas in /home/sdp/.local/lib/python3.10/site-packages (from datasets->optimum[neural-compressor]) (2.0.3)\n",
      "Requirement already satisfied: xxhash in /storage/sdp/anaconda3/envs/setfit/lib/python3.10/site-packages (from datasets->optimum[neural-compressor]) (3.4.1)\n",
      "Requirement already satisfied: multiprocess in /storage/sdp/anaconda3/envs/setfit/lib/python3.10/site-packages (from datasets->optimum[neural-compressor]) (0.70.15)\n",
      "Requirement already satisfied: aiohttp in /storage/sdp/anaconda3/envs/setfit/lib/python3.10/site-packages (from datasets->optimum[neural-compressor]) (3.9.1)\n",
      "Requirement already satisfied: neural-compressor>=2.2.0 in /storage/sdp/anaconda3/envs/setfit/lib/python3.10/site-packages (from optimum-intel[neural-compressor]>=1.12.0; extra == \"neural-compressor\"->optimum[neural-compressor]) (2.4.1)\n",
      "Requirement already satisfied: onnx in /storage/sdp/anaconda3/envs/setfit/lib/python3.10/site-packages (from optimum-intel[neural-compressor]>=1.12.0; extra == \"neural-compressor\"->optimum[neural-compressor]) (1.15.0)\n",
      "Requirement already satisfied: onnxruntime<1.15.0 in /storage/sdp/anaconda3/envs/setfit/lib/python3.10/site-packages (from optimum-intel[neural-compressor]>=1.12.0; extra == \"neural-compressor\"->optimum[neural-compressor]) (1.14.1)\n",
      "Requirement already satisfied: networkx in /storage/sdp/anaconda3/envs/setfit/lib/python3.10/site-packages (from torch>=1.11->optimum[neural-compressor]) (3.2.1)\n",
      "Requirement already satisfied: jinja2 in /storage/sdp/anaconda3/envs/setfit/lib/python3.10/site-packages (from torch>=1.11->optimum[neural-compressor]) (3.1.3)\n",
      "Requirement already satisfied: regex!=2019.12.17 in /storage/sdp/anaconda3/envs/setfit/lib/python3.10/site-packages (from transformers>=4.26.0->transformers[sentencepiece]>=4.26.0->optimum[neural-compressor]) (2023.12.25)\n",
      "Requirement already satisfied: tokenizers<0.19,>=0.14 in /storage/sdp/anaconda3/envs/setfit/lib/python3.10/site-packages (from transformers>=4.26.0->transformers[sentencepiece]>=4.26.0->optimum[neural-compressor]) (0.15.0)\n",
      "Requirement already satisfied: safetensors>=0.3.1 in /storage/sdp/anaconda3/envs/setfit/lib/python3.10/site-packages (from transformers>=4.26.0->transformers[sentencepiece]>=4.26.0->optimum[neural-compressor]) (0.4.1)\n",
      "Requirement already satisfied: protobuf in /storage/sdp/anaconda3/envs/setfit/lib/python3.10/site-packages (from transformers[sentencepiece]>=4.26.0->optimum[neural-compressor]) (4.25.2)\n",
      "Requirement already satisfied: humanfriendly>=9.1 in /storage/sdp/anaconda3/envs/setfit/lib/python3.10/site-packages (from coloredlogs->optimum[neural-compressor]) (10.0)\n",
      "Requirement already satisfied: mpmath>=0.19 in /storage/sdp/anaconda3/envs/setfit/lib/python3.10/site-packages (from sympy->optimum[neural-compressor]) (1.3.0)\n",
      "Requirement already satisfied: attrs>=17.3.0 in /storage/sdp/anaconda3/envs/setfit/lib/python3.10/site-packages (from aiohttp->datasets->optimum[neural-compressor]) (23.2.0)\n",
      "Requirement already satisfied: multidict<7.0,>=4.5 in /storage/sdp/anaconda3/envs/setfit/lib/python3.10/site-packages (from aiohttp->datasets->optimum[neural-compressor]) (6.0.4)\n",
      "Requirement already satisfied: yarl<2.0,>=1.0 in /storage/sdp/anaconda3/envs/setfit/lib/python3.10/site-packages (from aiohttp->datasets->optimum[neural-compressor]) (1.9.4)\n",
      "Requirement already satisfied: frozenlist>=1.1.1 in /storage/sdp/anaconda3/envs/setfit/lib/python3.10/site-packages (from aiohttp->datasets->optimum[neural-compressor]) (1.4.1)\n",
      "Requirement already satisfied: aiosignal>=1.1.2 in /storage/sdp/anaconda3/envs/setfit/lib/python3.10/site-packages (from aiohttp->datasets->optimum[neural-compressor]) (1.3.1)\n",
      "Requirement already satisfied: async-timeout<5.0,>=4.0 in /storage/sdp/anaconda3/envs/setfit/lib/python3.10/site-packages (from aiohttp->datasets->optimum[neural-compressor]) (4.0.3)\n",
      "Requirement already satisfied: deprecated>=1.2.13 in /storage/sdp/anaconda3/envs/setfit/lib/python3.10/site-packages (from neural-compressor>=2.2.0->optimum-intel[neural-compressor]>=1.12.0; extra == \"neural-compressor\"->optimum[neural-compressor]) (1.2.14)\n",
      "Requirement already satisfied: opencv-python-headless in /home/sdp/.local/lib/python3.10/site-packages (from neural-compressor>=2.2.0->optimum-intel[neural-compressor]>=1.12.0; extra == \"neural-compressor\"->optimum[neural-compressor]) (4.8.0.74)\n",
      "Requirement already satisfied: Pillow in /storage/sdp/anaconda3/envs/setfit/lib/python3.10/site-packages (from neural-compressor>=2.2.0->optimum-intel[neural-compressor]>=1.12.0; extra == \"neural-compressor\"->optimum[neural-compressor]) (10.2.0)\n",
      "Requirement already satisfied: prettytable in /storage/sdp/anaconda3/envs/setfit/lib/python3.10/site-packages (from neural-compressor>=2.2.0->optimum-intel[neural-compressor]>=1.12.0; extra == \"neural-compressor\"->optimum[neural-compressor]) (3.9.0)\n",
      "Requirement already satisfied: psutil in /storage/sdp/anaconda3/envs/setfit/lib/python3.10/site-packages (from neural-compressor>=2.2.0->optimum-intel[neural-compressor]>=1.12.0; extra == \"neural-compressor\"->optimum[neural-compressor]) (5.9.7)\n",
      "Requirement already satisfied: py-cpuinfo in /storage/sdp/anaconda3/envs/setfit/lib/python3.10/site-packages (from neural-compressor>=2.2.0->optimum-intel[neural-compressor]>=1.12.0; extra == \"neural-compressor\"->optimum[neural-compressor]) (9.0.0)\n",
      "Requirement already satisfied: schema in /storage/sdp/anaconda3/envs/setfit/lib/python3.10/site-packages (from neural-compressor>=2.2.0->optimum-intel[neural-compressor]>=1.12.0; extra == \"neural-compressor\"->optimum[neural-compressor]) (0.7.5)\n",
      "Requirement already satisfied: scikit-learn in /storage/sdp/anaconda3/envs/setfit/lib/python3.10/site-packages (from neural-compressor>=2.2.0->optimum-intel[neural-compressor]>=1.12.0; extra == \"neural-compressor\"->optimum[neural-compressor]) (1.3.2)\n",
      "Requirement already satisfied: pycocotools in /storage/sdp/anaconda3/envs/setfit/lib/python3.10/site-packages (from neural-compressor>=2.2.0->optimum-intel[neural-compressor]>=1.12.0; extra == \"neural-compressor\"->optimum[neural-compressor]) (2.0.7)\n",
      "Requirement already satisfied: flatbuffers in /storage/sdp/anaconda3/envs/setfit/lib/python3.10/site-packages (from onnxruntime<1.15.0->optimum-intel[neural-compressor]>=1.12.0; extra == \"neural-compressor\"->optimum[neural-compressor]) (23.5.26)\n",
      "Requirement already satisfied: charset-normalizer<4,>=2 in /storage/sdp/anaconda3/envs/setfit/lib/python3.10/site-packages (from requests->huggingface-hub>=0.8.0->optimum[neural-compressor]) (3.3.2)\n",
      "Requirement already satisfied: idna<4,>=2.5 in /storage/sdp/anaconda3/envs/setfit/lib/python3.10/site-packages (from requests->huggingface-hub>=0.8.0->optimum[neural-compressor]) (3.6)\n",
      "Requirement already satisfied: urllib3<3,>=1.21.1 in /storage/sdp/anaconda3/envs/setfit/lib/python3.10/site-packages (from requests->huggingface-hub>=0.8.0->optimum[neural-compressor]) (2.1.0)\n",
      "Requirement already satisfied: certifi>=2017.4.17 in /storage/sdp/anaconda3/envs/setfit/lib/python3.10/site-packages (from requests->huggingface-hub>=0.8.0->optimum[neural-compressor]) (2023.11.17)\n",
      "Requirement already satisfied: MarkupSafe>=2.0 in /storage/sdp/anaconda3/envs/setfit/lib/python3.10/site-packages (from jinja2->torch>=1.11->optimum[neural-compressor]) (2.1.3)\n",
      "Requirement already satisfied: python-dateutil>=2.8.2 in /home/sdp/.local/lib/python3.10/site-packages (from pandas->datasets->optimum[neural-compressor]) (2.8.2)\n",
      "Requirement already satisfied: pytz>=2020.1 in /storage/sdp/anaconda3/envs/setfit/lib/python3.10/site-packages (from pandas->datasets->optimum[neural-compressor]) (2023.3.post1)\n",
      "Requirement already satisfied: tzdata>=2022.1 in /home/sdp/.local/lib/python3.10/site-packages (from pandas->datasets->optimum[neural-compressor]) (2023.3)\n",
      "Requirement already satisfied: wrapt<2,>=1.10 in /storage/sdp/anaconda3/envs/setfit/lib/python3.10/site-packages (from deprecated>=1.2.13->neural-compressor>=2.2.0->optimum-intel[neural-compressor]>=1.12.0; extra == \"neural-compressor\"->optimum[neural-compressor]) (1.16.0)\n",
      "Requirement already satisfied: six>=1.5 in /storage/sdp/anaconda3/envs/setfit/lib/python3.10/site-packages (from python-dateutil>=2.8.2->pandas->datasets->optimum[neural-compressor]) (1.16.0)\n",
      "Requirement already satisfied: wcwidth in /storage/sdp/anaconda3/envs/setfit/lib/python3.10/site-packages (from prettytable->neural-compressor>=2.2.0->optimum-intel[neural-compressor]>=1.12.0; extra == \"neural-compressor\"->optimum[neural-compressor]) (0.2.13)\n",
      "Requirement already satisfied: matplotlib>=2.1.0 in /storage/sdp/anaconda3/envs/setfit/lib/python3.10/site-packages (from pycocotools->neural-compressor>=2.2.0->optimum-intel[neural-compressor]>=1.12.0; extra == \"neural-compressor\"->optimum[neural-compressor]) (3.8.2)\n",
      "Requirement already satisfied: contextlib2>=0.5.5 in /storage/sdp/anaconda3/envs/setfit/lib/python3.10/site-packages (from schema->neural-compressor>=2.2.0->optimum-intel[neural-compressor]>=1.12.0; extra == \"neural-compressor\"->optimum[neural-compressor]) (21.6.0)\n",
      "Requirement already satisfied: joblib>=1.1.1 in /storage/sdp/anaconda3/envs/setfit/lib/python3.10/site-packages (from scikit-learn->neural-compressor>=2.2.0->optimum-intel[neural-compressor]>=1.12.0; extra == \"neural-compressor\"->optimum[neural-compressor]) (1.3.2)\n",
      "Requirement already satisfied: threadpoolctl>=2.0.0 in /storage/sdp/anaconda3/envs/setfit/lib/python3.10/site-packages (from scikit-learn->neural-compressor>=2.2.0->optimum-intel[neural-compressor]>=1.12.0; extra == \"neural-compressor\"->optimum[neural-compressor]) (3.2.0)\n",
      "Requirement already satisfied: contourpy>=1.0.1 in /storage/sdp/anaconda3/envs/setfit/lib/python3.10/site-packages (from matplotlib>=2.1.0->pycocotools->neural-compressor>=2.2.0->optimum-intel[neural-compressor]>=1.12.0; extra == \"neural-compressor\"->optimum[neural-compressor]) (1.2.0)\n",
      "Requirement already satisfied: cycler>=0.10 in /storage/sdp/anaconda3/envs/setfit/lib/python3.10/site-packages (from matplotlib>=2.1.0->pycocotools->neural-compressor>=2.2.0->optimum-intel[neural-compressor]>=1.12.0; extra == \"neural-compressor\"->optimum[neural-compressor]) (0.12.1)\n",
      "Requirement already satisfied: fonttools>=4.22.0 in /storage/sdp/anaconda3/envs/setfit/lib/python3.10/site-packages (from matplotlib>=2.1.0->pycocotools->neural-compressor>=2.2.0->optimum-intel[neural-compressor]>=1.12.0; extra == \"neural-compressor\"->optimum[neural-compressor]) (4.47.2)\n",
      "Requirement already satisfied: kiwisolver>=1.3.1 in /storage/sdp/anaconda3/envs/setfit/lib/python3.10/site-packages (from matplotlib>=2.1.0->pycocotools->neural-compressor>=2.2.0->optimum-intel[neural-compressor]>=1.12.0; extra == \"neural-compressor\"->optimum[neural-compressor]) (1.4.5)\n",
      "Requirement already satisfied: pyparsing>=2.3.1 in /storage/sdp/anaconda3/envs/setfit/lib/python3.10/site-packages (from matplotlib>=2.1.0->pycocotools->neural-compressor>=2.2.0->optimum-intel[neural-compressor]>=1.12.0; extra == \"neural-compressor\"->optimum[neural-compressor]) (3.1.1)\n"
     ]
    }
   ],
   "source": [
    "!pip install torch==2.1 --index-url https://download.pytorch.org/whl/cpu -qqq\n",
    "!pip install intel-extension-for-pytorch\n",
    "!pip install intel-openmp\n",
    "!pip install optimum[neural-compressor] --upgrade-strategy eager"
   ]
  },
  {
   "cell_type": "code",
   "execution_count": 6,
   "id": "enaQpBF9WRn9",
   "metadata": {
    "id": "enaQpBF9WRn9"
   },
   "outputs": [],
   "source": [
    "from setfit.exporters.utils import mean_pooling\n",
    "\n",
    "class INCSetFitModel:\n",
    "    def __init__(self, inc_model, tokenizer, model_head):\n",
    "        self.inc_model = inc_model\n",
    "        self.tokenizer = tokenizer\n",
    "        self.model_head = model_head\n",
    "\n",
    "    def predict(self, inputs):\n",
    "        encoded_inputs = self.tokenizer(\n",
    "            inputs, padding=True, truncation=True, return_tensors=\"pt\"\n",
    "        ).to(self.inc_model.device)\n",
    "\n",
    "        outputs = self.inc_model(**encoded_inputs)\n",
    "        embeddings = mean_pooling(\n",
    "            outputs[\"last_hidden_state\"], encoded_inputs[\"attention_mask\"]\n",
    "        )\n",
    "        return self.model_head.predict(embeddings.cpu())\n",
    "\n",
    "    def __call__(self, inputs):\n",
    "        return self.predict(inputs)"
   ]
  },
  {
   "cell_type": "code",
   "execution_count": 7,
   "id": "qRviEk2WWRn9",
   "metadata": {
    "colab": {
     "base_uri": "https://localhost:8080/"
    },
    "id": "qRviEk2WWRn9",
    "outputId": "33f010a8-376e-4f0c-b21b-97fe25bf1a81"
   },
   "outputs": [
    {
     "name": "stderr",
     "output_type": "stream",
     "text": [
      "/storage/sdp/anaconda3/envs/setfit/lib/python3.10/site-packages/neural_compressor/utils/utility.py:46: DeprecationWarning: pkg_resources is deprecated as an API. See https://setuptools.pypa.io/en/latest/pkg_resources.html\n",
      "  from pkg_resources import parse_version\n",
      "/storage/sdp/anaconda3/envs/setfit/lib/python3.10/site-packages/neural_compressor/experimental/common/criterion.py:430: DeprecationWarning: Call to deprecated function (or staticmethod) criterion_registry. -- Deprecated since version 2.0.\n",
      "  @criterion_registry(\"KnowledgeDistillationLoss\", \"pytorch\")\n",
      "/storage/sdp/anaconda3/envs/setfit/lib/python3.10/site-packages/neural_compressor/experimental/common/criterion.py:963: DeprecationWarning: Call to deprecated function (or staticmethod) criterion_registry. -- Deprecated since version 2.0.\n",
      "  @criterion_registry(\"IntermediateLayersKnowledgeDistillationLoss\", \"pytorch\")\n",
      "/storage/sdp/anaconda3/envs/setfit/lib/python3.10/site-packages/neural_compressor/experimental/common/optimizer.py:116: DeprecationWarning: Call to deprecated function (or staticmethod) optimizer_registry. -- Deprecated since version 2.0.\n",
      "  @optimizer_registry(\"SGD\", \"tensorflow\")\n",
      "/storage/sdp/anaconda3/envs/setfit/lib/python3.10/site-packages/neural_compressor/experimental/common/optimizer.py:143: DeprecationWarning: Call to deprecated function (or staticmethod) optimizer_registry. -- Deprecated since version 2.0.\n",
      "  @optimizer_registry(\"AdamW\", \"tensorflow\")\n",
      "/storage/sdp/anaconda3/envs/setfit/lib/python3.10/site-packages/neural_compressor/experimental/common/optimizer.py:177: DeprecationWarning: Call to deprecated function (or staticmethod) optimizer_registry. -- Deprecated since version 2.0.\n",
      "  @optimizer_registry(\"SGD\", \"pytorch\")\n",
      "/storage/sdp/anaconda3/envs/setfit/lib/python3.10/site-packages/neural_compressor/experimental/strategy/strategy.py:73: DeprecationWarning: Call to deprecated function (or staticmethod) strategy_registry. -- Deprecated since version 2.0.\n",
      "  class TuneStrategy(object):\n",
      "/storage/sdp/anaconda3/envs/setfit/lib/python3.10/site-packages/neural_compressor/experimental/strategy/bayesian.py:35: DeprecationWarning: Call to deprecated function (or staticmethod) strategy_registry. -- Deprecated since version 2.0.\n",
      "  class BayesianTuneStrategy(TuneStrategy):\n",
      "/storage/sdp/anaconda3/envs/setfit/lib/python3.10/site-packages/neural_compressor/experimental/strategy/auto_mixed_precision.py:33: DeprecationWarning: Call to deprecated function (or staticmethod) strategy_registry. -- Deprecated since version 2.0.\n",
      "  class AutoMixedPrecisionTuneStrategy(TuneStrategy):\n",
      "/storage/sdp/anaconda3/envs/setfit/lib/python3.10/site-packages/neural_compressor/experimental/strategy/mse_v2.py:32: DeprecationWarning: Call to deprecated function (or staticmethod) strategy_registry. -- Deprecated since version 2.0.\n",
      "  class MSE_V2TuneStrategy(TuneStrategy):\n",
      "/storage/sdp/anaconda3/envs/setfit/lib/python3.10/site-packages/neural_compressor/experimental/strategy/mse.py:33: DeprecationWarning: Call to deprecated function (or staticmethod) strategy_registry. -- Deprecated since version 2.0.\n",
      "  class MSETuneStrategy(TuneStrategy):\n",
      "/storage/sdp/anaconda3/envs/setfit/lib/python3.10/site-packages/neural_compressor/experimental/strategy/basic.py:32: DeprecationWarning: Call to deprecated function (or staticmethod) strategy_registry. -- Deprecated since version 2.0.\n",
      "  class BasicTuneStrategy(TuneStrategy):\n",
      "/storage/sdp/anaconda3/envs/setfit/lib/python3.10/site-packages/neural_compressor/experimental/strategy/exhaustive.py:26: DeprecationWarning: Call to deprecated function (or staticmethod) strategy_registry. -- Deprecated since version 2.0.\n",
      "  class ExhaustiveTuneStrategy(TuneStrategy):\n",
      "/storage/sdp/anaconda3/envs/setfit/lib/python3.10/site-packages/neural_compressor/experimental/strategy/random.py:29: DeprecationWarning: Call to deprecated function (or staticmethod) strategy_registry. -- Deprecated since version 2.0.\n",
      "  class RandomTuneStrategy(TuneStrategy):\n",
      "/storage/sdp/anaconda3/envs/setfit/lib/python3.10/site-packages/neural_compressor/experimental/pruning_recipes/patterns/tile_pattern.py:48: DeprecationWarning: Call to deprecated function (or staticmethod) pattern_registry. -- Deprecated since version 2.0.\n",
      "  @pattern_registry(pattern_type=\"tile_pattern_1x1\")\n",
      "/storage/sdp/anaconda3/envs/setfit/lib/python3.10/site-packages/neural_compressor/experimental/pruning_recipes/patterns/tile_pattern.py:58: DeprecationWarning: Call to deprecated function (or staticmethod) pattern_registry. -- Deprecated since version 2.0.\n",
      "  @pattern_registry(pattern_type=\"tile_pattern_2x2\")\n",
      "/storage/sdp/anaconda3/envs/setfit/lib/python3.10/site-packages/neural_compressor/experimental/pruning_recipes/patterns/tile_pattern.py:68: DeprecationWarning: Call to deprecated function (or staticmethod) pattern_registry. -- Deprecated since version 2.0.\n",
      "  @pattern_registry(pattern_type=\"tile_pattern_1x16\")\n",
      "/storage/sdp/anaconda3/envs/setfit/lib/python3.10/site-packages/neural_compressor/experimental/pruning_recipes/patterns/tile_pattern.py:78: DeprecationWarning: Call to deprecated function (or staticmethod) pattern_registry. -- Deprecated since version 2.0.\n",
      "  @pattern_registry(pattern_type=\"tile_pattern_4x1\")\n",
      "/storage/sdp/anaconda3/envs/setfit/lib/python3.10/site-packages/neural_compressor/experimental/pruning_recipes/patterns/tile_pattern.py:88: DeprecationWarning: Call to deprecated function (or staticmethod) pattern_registry. -- Deprecated since version 2.0.\n",
      "  @pattern_registry(pattern_type=\"tile_pattern_1x2\")\n",
      "/storage/sdp/anaconda3/envs/setfit/lib/python3.10/site-packages/neural_compressor/experimental/pruning_recipes/patterns/__init__.py:29: DeprecationWarning: Call to deprecated class PATTERNS. -- Deprecated since version 2.0.\n",
      "  patterns = PATTERNS()\n",
      "/storage/sdp/anaconda3/envs/setfit/lib/python3.10/site-packages/neural_compressor/experimental/pruner_legacy/pattern_lock.py:25: DeprecationWarning: Call to deprecated function (or staticmethod) pruner_registry. -- Deprecated since version 2.0.\n",
      "  class PatternLockPruner(Pruner):\n",
      "/storage/sdp/anaconda3/envs/setfit/lib/python3.10/site-packages/neural_compressor/experimental/pruner_legacy/gradient_sensitivity.py:32: DeprecationWarning: Call to deprecated function (or staticmethod) pruner_registry. -- Deprecated since version 2.0.\n",
      "  class GradientSensitivityPruner(Pruner):\n",
      "/storage/sdp/anaconda3/envs/setfit/lib/python3.10/site-packages/neural_compressor/experimental/pruner_legacy/magnitude.py:29: DeprecationWarning: Call to deprecated function (or staticmethod) pruner_registry. -- Deprecated since version 2.0.\n",
      "  class BasicMagnitudePruner(Pruner):\n",
      "/storage/sdp/anaconda3/envs/setfit/lib/python3.10/site-packages/neural_compressor/experimental/pruner_legacy/group_lasso.py:30: DeprecationWarning: Call to deprecated function (or staticmethod) pruner_registry. -- Deprecated since version 2.0.\n",
      "  class GroupLassoPruner(BasicMagnitudePruner):\n",
      "/storage/sdp/anaconda3/envs/setfit/lib/python3.10/site-packages/neural_compressor/experimental/metric/metric.py:496: DeprecationWarning: Call to deprecated function (or staticmethod) metric_registry. -- Deprecated since version 2.0.\n",
      "  @metric_registry(\"F1\", \"tensorflow, tensorflow_itex, pytorch, mxnet, onnxrt_qlinearops, onnxrt_integerops\")\n",
      "/storage/sdp/anaconda3/envs/setfit/lib/python3.10/site-packages/neural_compressor/experimental/metric/metric.py:592: DeprecationWarning: Call to deprecated function (or staticmethod) metric_registry. -- Deprecated since version 2.0.\n",
      "  @metric_registry(\"Accuracy\", \"tensorflow, tensorflow_itex, pytorch, onnxrt_qlinearops, onnxrt_integerops\")\n",
      "/storage/sdp/anaconda3/envs/setfit/lib/python3.10/site-packages/neural_compressor/experimental/metric/metric.py:709: DeprecationWarning: Call to deprecated function (or staticmethod) metric_registry. -- Deprecated since version 2.0.\n",
      "  @metric_registry(\"Loss\", \"tensorflow, tensorflow_itex, pytorch, onnxrt_qlinearops, onnxrt_integerops\")\n",
      "/storage/sdp/anaconda3/envs/setfit/lib/python3.10/site-packages/neural_compressor/experimental/metric/metric.py:756: DeprecationWarning: Call to deprecated function (or staticmethod) metric_registry. -- Deprecated since version 2.0.\n",
      "  @metric_registry(\"MAE\", \"tensorflow, tensorflow_itex, pytorch, onnxrt_qlinearops, onnxrt_integerops\")\n",
      "/storage/sdp/anaconda3/envs/setfit/lib/python3.10/site-packages/neural_compressor/experimental/metric/metric.py:815: DeprecationWarning: Call to deprecated function (or staticmethod) metric_registry. -- Deprecated since version 2.0.\n",
      "  @metric_registry(\"RMSE\", \"tensorflow, tensorflow_itex, pytorch, mxnet, onnxrt_qlinearops, onnxrt_integerops\")\n",
      "/storage/sdp/anaconda3/envs/setfit/lib/python3.10/site-packages/neural_compressor/experimental/metric/metric.py:858: DeprecationWarning: Call to deprecated function (or staticmethod) metric_registry. -- Deprecated since version 2.0.\n",
      "  @metric_registry(\"MSE\", \"tensorflow, tensorflow_itex, pytorch, onnxrt_qlinearops, onnxrt_integerops\")\n",
      "/storage/sdp/anaconda3/envs/setfit/lib/python3.10/site-packages/neural_compressor/experimental/metric/metric.py:918: DeprecationWarning: Call to deprecated function (or staticmethod) metric_registry. -- Deprecated since version 2.0.\n",
      "  @metric_registry(\"topk\", \"tensorflow, tensorflow_itex\")\n",
      "/storage/sdp/anaconda3/envs/setfit/lib/python3.10/site-packages/neural_compressor/experimental/metric/metric.py:987: DeprecationWarning: Call to deprecated function (or staticmethod) metric_registry. -- Deprecated since version 2.0.\n",
      "  @metric_registry(\"topk\", \"pytorch, mxnet, onnxrt_qlinearops, onnxrt_integerops\")\n",
      "/storage/sdp/anaconda3/envs/setfit/lib/python3.10/site-packages/neural_compressor/experimental/metric/metric.py:1056: DeprecationWarning: Call to deprecated function (or staticmethod) metric_registry. -- Deprecated since version 2.0.\n",
      "  @metric_registry(\"COCOmAPv2\", \"tensorflow, tensorflow_itex, onnxrt_qlinearops, onnxrt_integerops\")\n",
      "/storage/sdp/anaconda3/envs/setfit/lib/python3.10/site-packages/neural_compressor/experimental/metric/metric.py:1218: DeprecationWarning: Call to deprecated function (or staticmethod) metric_registry. -- Deprecated since version 2.0.\n",
      "  @metric_registry(\"mAP\", \"tensorflow, tensorflow_itex, onnxrt_qlinearops, onnxrt_integerops\")\n",
      "/storage/sdp/anaconda3/envs/setfit/lib/python3.10/site-packages/neural_compressor/experimental/metric/metric.py:1375: DeprecationWarning: Call to deprecated function (or staticmethod) metric_registry. -- Deprecated since version 2.0.\n",
      "  @metric_registry(\"COCOmAP\", \"tensorflow, tensorflow_itex, onnxrt_qlinearops, onnxrt_integerops\")\n",
      "/storage/sdp/anaconda3/envs/setfit/lib/python3.10/site-packages/neural_compressor/experimental/metric/metric.py:1398: DeprecationWarning: Call to deprecated function (or staticmethod) metric_registry. -- Deprecated since version 2.0.\n",
      "  @metric_registry(\"VOCmAP\", \"tensorflow, tensorflow_itex, onnxrt_qlinearops, onnxrt_integerops\")\n",
      "/storage/sdp/anaconda3/envs/setfit/lib/python3.10/site-packages/neural_compressor/experimental/metric/metric.py:1421: DeprecationWarning: Call to deprecated function (or staticmethod) metric_registry. -- Deprecated since version 2.0.\n",
      "  @metric_registry(\"SquadF1\", \"tensorflow, tensorflow_itex\")\n",
      "/storage/sdp/anaconda3/envs/setfit/lib/python3.10/site-packages/neural_compressor/experimental/metric/metric.py:1464: DeprecationWarning: Call to deprecated function (or staticmethod) metric_registry. -- Deprecated since version 2.0.\n",
      "  @metric_registry(\"mIOU\", \"tensorflow, tensorflow_itex\")\n",
      "/storage/sdp/anaconda3/envs/setfit/lib/python3.10/site-packages/neural_compressor/experimental/metric/metric.py:1517: DeprecationWarning: Call to deprecated function (or staticmethod) metric_registry. -- Deprecated since version 2.0.\n",
      "  @metric_registry(\"GLUE\", \"onnxrt_qlinearops, onnxrt_integerops\")\n",
      "/storage/sdp/anaconda3/envs/setfit/lib/python3.10/site-packages/neural_compressor/experimental/metric/metric.py:1582: DeprecationWarning: Call to deprecated function (or staticmethod) metric_registry. -- Deprecated since version 2.0.\n",
      "  @metric_registry(\"ROC\", \"pytorch\")\n",
      "/storage/sdp/anaconda3/envs/setfit/lib/python3.10/site-packages/neural_compressor/experimental/metric/bleu.py:66: DeprecationWarning: Call to deprecated class UnicodeRegex. -- Deprecated since version 2.0.\n",
      "  uregex = UnicodeRegex()\n",
      "/storage/sdp/anaconda3/envs/setfit/lib/python3.10/site-packages/neural_compressor/experimental/metric/bleu.py:90: DeprecationWarning: Call to deprecated function (or staticmethod) metric_registry. -- Deprecated since version 2.0.\n",
      "  @metric_registry(\"BLEU\", \"tensorflow, tensorflow_itex\")\n",
      "/storage/sdp/anaconda3/envs/setfit/lib/python3.10/site-packages/neural_compressor/experimental/nas/basic_nas.py:34: DeprecationWarning: Call to deprecated function (or staticmethod) nas_registry. -- Deprecated since version 2.0.\n",
      "  @nas_registry(\"Basic\")\n",
      "/storage/sdp/anaconda3/envs/setfit/lib/python3.10/site-packages/neural_compressor/experimental/nas/dynas.py:32: DeprecationWarning: Call to deprecated function (or staticmethod) nas_registry. -- Deprecated since version 2.0.\n",
      "  @nas_registry(\"DyNAS\")\n",
      "/storage/sdp/anaconda3/envs/setfit/lib/python3.10/site-packages/neural_compressor/experimental/contrib/strategy/sigopt.py:34: DeprecationWarning: Call to deprecated function (or staticmethod) strategy_registry. -- Deprecated since version 2.0.\n",
      "  class SigOptTuneStrategy(TuneStrategy):\n",
      "/storage/sdp/anaconda3/envs/setfit/lib/python3.10/site-packages/neural_compressor/experimental/contrib/strategy/tpe.py:44: DeprecationWarning: Call to deprecated function (or staticmethod) strategy_registry. -- Deprecated since version 2.0.\n",
      "  class TpeTuneStrategy(TuneStrategy):\n",
      "loading configuration file /home/sdp/dkorat/fastRAG/scripts/optimizations/embedders/quantized_model/inc_config.json\n",
      "INCConfig {\n",
      "  \"distillation\": {},\n",
      "  \"neural_compressor_version\": \"2.4.1\",\n",
      "  \"optimum_version\": \"1.16.2\",\n",
      "  \"pruning\": {},\n",
      "  \"quantization\": {\n",
      "    \"dataset_num_samples\": 100,\n",
      "    \"is_static\": true\n",
      "  },\n",
      "  \"save_onnx_model\": false,\n",
      "  \"torch_version\": \"2.1.0+cpu\",\n",
      "  \"transformers_version\": \"4.36.2\"\n",
      "}\n",
      "\n",
      "Quantized model was obtained with torch version 2.1.0+cpu but 2.1.0+cpu was found.\n",
      "intel_extension_for_pytorch version is 2.1.0+cpu\n",
      "2024-01-25 12:17:19,882 - sentence_transformers.SentenceTransformer - INFO - Load pretrained SentenceTransformer: moshew/bge-small-en-v1.5_setfit-sst2-english\n",
      "2024-01-25 12:17:20,104 - sentence_transformers.SentenceTransformer - INFO - Use pytorch device: cpu\n"
     ]
    },
    {
     "data": {
      "text/plain": [
       "array([0, 0, 0, 0, 1])"
      ]
     },
     "execution_count": 7,
     "metadata": {},
     "output_type": "execute_result"
    }
   ],
   "source": [
    "from optimum.intel import INCModel\n",
    "from transformers import AutoTokenizer\n",
    "\n",
    "tokenizer = AutoTokenizer.from_pretrained('bge_auto_opt_O4', model_max_length=512)\n",
    "inc_model_path = \"/home/sdp/dkorat/fastRAG/scripts/optimizations/embedders/quantized_model\"\n",
    "inc_model = INCModel.from_pretrained(inc_model_path)\n",
    "model = SetFitModel.from_pretrained(\"moshew/bge-small-en-v1.5_setfit-sst2-english\")\n",
    "inc_setfit_model = INCSetFitModel(inc_model, tokenizer, model.model_head)\n",
    "\n",
    "# Perform inference\n",
    "inc_setfit_model(test_dataset[\"text\"][:5])"
   ]
  },
  {
   "cell_type": "markdown",
   "id": "3DPl1ZpYqcBh",
   "metadata": {
    "id": "3DPl1ZpYqcBh"
   },
   "source": [
    "Time to benchmark this ONNX model."
   ]
  },
  {
   "cell_type": "code",
   "execution_count": 8,
   "id": "O8jpZ3gdWRn9",
   "metadata": {
    "colab": {
     "base_uri": "https://localhost:8080/"
    },
    "id": "O8jpZ3gdWRn9",
    "outputId": "8d31c81a-67e4-4074-cf35-9f56d6dcdd20"
   },
   "outputs": [
    {
     "name": "stdout",
     "output_type": "stream",
     "text": [
      "Model size (MB) - 0.004\n",
      "Accuracy on test set - 0.908\n",
      "Average latency (ms) - 2.61 +\\- 1.15\n",
      "Batch size: 64\n"
     ]
    },
    {
     "data": {
      "application/vnd.jupyter.widget-view+json": {
       "model_id": "7ff0606307d14c2d847a53d1c77ed089",
       "version_major": 2,
       "version_minor": 0
      },
      "text/plain": [
       "  0%|          | 0/640 [00:00<?, ?it/s]"
      ]
     },
     "metadata": {},
     "output_type": "display_data"
    },
    {
     "name": "stdout",
     "output_type": "stream",
     "text": [
      "Average throughput (bs=64) (samples/second): 1942.65 +\\- 555.73\\n\n",
      "Batch size: 512\n"
     ]
    },
    {
     "data": {
      "application/vnd.jupyter.widget-view+json": {
       "model_id": "4609f34a383d48cca8cb4242af1c0244",
       "version_major": 2,
       "version_minor": 0
      },
      "text/plain": [
       "  0%|          | 0/80 [00:00<?, ?it/s]"
      ]
     },
     "metadata": {},
     "output_type": "display_data"
    },
    {
     "name": "stdout",
     "output_type": "stream",
     "text": [
      "Average throughput (bs=512) (samples/second): 2424.35 +\\- 472.96\\n\n",
      "Batch size: 8192\n"
     ]
    },
    {
     "data": {
      "application/vnd.jupyter.widget-view+json": {
       "model_id": "850bc118b83e4db482ca39cf1937767f",
       "version_major": 2,
       "version_minor": 0
      },
      "text/plain": [
       "  0%|          | 0/5 [00:00<?, ?it/s]"
      ]
     },
     "metadata": {},
     "output_type": "display_data"
    },
    {
     "name": "stdout",
     "output_type": "stream",
     "text": [
      "Average throughput (bs=8192) (samples/second): 4978.16 +\\- 290.23\\n\n",
      "bge-small (PyTorch):\n",
      "size_mb: 127.324\n",
      "accuracy: 0.906\n",
      "time_avg_ms: 7.856\n",
      "time_std_ms: 0.820\n",
      "throughput_avg_64: 652.260\n",
      "throughput_std_64: 72.695\n",
      "throughput_avg_512: 1023.175\n",
      "throughput_std_512: 128.715\n",
      "throughput_avg_8192: 1449.017\n",
      "throughput_std_8192: 119.124\n",
      "\n",
      "bge-small (optimum-intel):\n",
      "size_mb: 0.004\n",
      "accuracy: 0.908\n",
      "time_avg_ms: 2.610\n",
      "time_std_ms: 1.153\n",
      "throughput_avg_64: 1942.650\n",
      "throughput_std_64: 555.732\n",
      "throughput_avg_512: 2424.352\n",
      "throughput_std_512: 472.964\n",
      "throughput_avg_8192: 4978.163\n",
      "throughput_std_8192: 290.228\n",
      "\n"
     ]
    },
    {
     "data": {
      "image/png": "[encoded data removed]",
      "text/plain": [
       "<Figure size 640x480 with 1 Axes>"
      ]
     },
     "metadata": {},
     "output_type": "display_data"
    },
    {
     "name": "stdout",
     "output_type": "stream",
     "text": [
      "Latency speedup for 'bge-small (optimum-intel)': 3.01x\n"
     ]
    }
   ],
   "source": [
    "class INCPerformanceBenchmark(PerformanceBenchmark):\n",
    "    def __init__(self, *args, model_path, **kwargs):\n",
    "        super().__init__(*args, **kwargs)\n",
    "        self.model_path = model_path\n",
    "\n",
    "    def compute_size(self):\n",
    "        size_mb = Path(self.model_path).stat().st_size / (1024 * 1024)\n",
    "        print(f\"Model size (MB) - {size_mb:.3f}\")\n",
    "        return {\"size_mb\": size_mb}\n",
    "        \n",
    "pb = INCPerformanceBenchmark(\n",
    "    inc_setfit_model,\n",
    "    test_dataset,\n",
    "    \"bge-small (optimum-intel)\",\n",
    "    model_path=inc_model_path,\n",
    ")\n",
    "perf_metrics.update(pb.run_benchmark())\n",
    "\n",
    "for optim_type, results in perf_metrics.items():\n",
    "    s = [f\"{k}: {v:.3f}\" for k, v in results.items()]\n",
    "    print(f\"{optim_type}:\\n\" + \"\\n\".join(s) + \"\\n\")\n",
    "    \n",
    "plot_metrics(perf_metrics)\n",
    "\n",
    "def get_latency_speedup(model_name):\n",
    "    speedup = perf_metrics['bge-small (PyTorch)']['time_avg_ms'] / perf_metrics[model_name]['time_avg_ms']\n",
    "    return speedup\n",
    "print(f\"Latency speedup for 'bge-small (optimum-intel)': {get_latency_speedup('bge-small (optimum-intel)'):.2f}x\")"
   ]
  },
  {
   "cell_type": "markdown",
   "id": "d3cda299-1362-4232-8fb5-1abe069177ca",
   "metadata": {
    "id": "AiPUhOCNWRny"
   },
   "source": [
    "## 5. Optimizing for CPU using Intel Extension for Pytorch\n"
   ]
  },
  {
   "cell_type": "code",
   "execution_count": 9,
   "id": "199e250d-0217-47d7-a48d-eaddc67081b1",
   "metadata": {},
   "outputs": [],
   "source": [
    "# !pip install torch==2.1 --index-url https://download.pytorch.org/whl/cpu -qqq\n",
    "# !pip install intel-extension-for-pytorch==2.1.0 intel-openmp==2024.0.0 -qqq"
   ]
  },
  {
   "cell_type": "code",
   "execution_count": 10,
   "id": "c113d3ba-7cb3-46d3-9be8-2e7e4811f980",
   "metadata": {},
   "outputs": [],
   "source": [
    "# !conda install gperftools -c conda-forge -y -qqq\n",
    "# !echo export LD_PRELOAD=${CONDA_PREFIX}/lib/libtcmalloc.so:${CONDA_PREFIX}/lib/libiomp5.so:$LD_PRELOAD >> ~/.bashrc\n",
    "# Restart kernel after this cell!!!"
   ]
  },
  {
   "cell_type": "code",
   "execution_count": 11,
   "id": "b7eae6b7-1c31-41c9-897c-8bf990db7ede",
   "metadata": {},
   "outputs": [],
   "source": [
    "# Without conda, run these commands in the shell and restart this notebook\n",
    "\n",
    "# wget https://github.com/gperftools/gperftools/releases/download/gperftools-2.7.90/gperftools-2.7.90.tar.gz\n",
    "# tar -xzf gperftools-2.7.90.tar.gz \n",
    "# cd gperftools-2.7.90\n",
    "# ./configure --prefix=$HOME/.local\n",
    "# make\n",
    "# make install\n",
    "# echo export LD_PRELOAD=$HOME/.local/lib/libtcmalloc.so:$VIRTUAL_ENV/lib/libiomp5.so:$LD_PRELOAD >> ~/.bashrc"
   ]
  },
  {
   "cell_type": "code",
   "execution_count": 12,
   "id": "9a2236ca-2f44-43fc-a083-83c43476f836",
   "metadata": {},
   "outputs": [],
   "source": [
    "# import intel_extension_for_pytorch as ipex\n",
    "\n",
    "# pb = PerformanceBenchmark(model=setfit_model, dataset=test_dataset, optim_type=\"bge-small (IP import only)\")\n",
    "# perf_metrics = pb.run_benchmark()"
   ]
  },
  {
   "cell_type": "code",
   "execution_count": 13,
   "id": "fe6773dc-0327-41e8-8dc3-0f401bf7ac57",
   "metadata": {},
   "outputs": [],
   "source": [
    "# from setfit import SetFitModel\n",
    "# setfit_model = SetFitModel.from_pretrained(\"moshew/bge-small-en-v1.5_setfit-sst2-english\")\n",
    "\n",
    "# pb = PerformanceBenchmark(model=setfit_model, dataset=test_dataset, optim_type=\"bge-small (Pytorch)\")\n",
    "# perf_metrics.update(pb.run_benchmark())"
   ]
  },
  {
   "cell_type": "code",
   "execution_count": 14,
   "id": "96b00417-75c4-4e8f-ada4-3e5f44bcebed",
   "metadata": {},
   "outputs": [],
   "source": [
    "# import intel_extension_for_pytorch as ipex\n",
    "# from setfit import SetFitModel\n",
    "\n",
    "# ipex_model = SetFitModel.from_pretrained(\"moshew/bge-small-en-v1.5_setfit-sst2-english\")\n",
    "# with torch.autocast('cpu', dtype=torch.bfloat16):\n",
    "#     ipex_model.model_body.eval()\n",
    "#     ipex_model.model_body = ipex.optimize(ipex_model.model_body, weights_prepack=False, dtype=torch.bfloat16)\n",
    "#     ipex_model.model_body = torch.compile(ipex_model.model_body, backend='ipex')\n",
    "\n",
    "# pb = PerformanceBenchmark(model=ipex_model, dataset=test_dataset, optim_type=\"bge-small (IPEX)\")\n",
    "# ipex_result_str = pb.run_benchmark()[1]"
   ]
  },
  {
   "cell_type": "code",
   "execution_count": 15,
   "id": "a7f17376-3c70-47b0-adbb-0f60fc16934c",
   "metadata": {},
   "outputs": [],
   "source": [
    "# print(f\"Pytorch\\n-----\\n{pytorch_result_str}\")\n",
    "# print()\n",
    "# print(f\"IPEX\\n-----\\n{ipex_result_str}\")"
   ]
  }
 ],
 "metadata": {
  "accelerator": "GPU",
  "colab": {
   "gpuType": "T4",
   "provenance": []
  },
  "kernelspec": {
   "display_name": "Python 3 (ipykernel)",
   "language": "python",
   "name": "python3"
  },
  "language_info": {
   "codemirror_mode": {
    "name": "ipython",
    "version": 3
   },
   "file_extension": ".py",
   "mimetype": "text/x-python",
   "name": "python",
   "nbconvert_exporter": "python",
   "pygments_lexer": "ipython3",
   "version": "3.10.13"
  },
  "vscode": {
   "interpreter": {
    "hash": "31f2aee4e71d21fbe5cf8b01ff0e069b9275f58929596ceb00d14d90e3e16cd6"
   }
  }
 },
 "nbformat": 4,
 "nbformat_minor": 5
}
